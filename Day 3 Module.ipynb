{
  "cells": [
    {
      "cell_type": "markdown",
      "id": "732774af",
      "metadata": {
        "id": "732774af"
      },
      "source": [
        "## Tuple\n",
        "\n",
        "Tuple adalah sebuah tipe data yang mirip seperti list. Hanya saja tipe data ini bersifat immutable alias tidak bisa dirubah.\n",
        "\n",
        "Untuk penulisan tipe data tuple, penulisannya diapit dengan tanda (). Dan untuk pemisah datanya dipisah dengan tanda koma."
      ]
    },
    {
      "cell_type": "code",
      "execution_count": null,
      "id": "8e005de0",
      "metadata": {
        "id": "8e005de0"
      },
      "outputs": [],
      "source": [
        "# Contoh inisalisasi data tuple\n",
        "data = (\"matematika\", \"kalkulus\", \"statistik\")"
      ]
    },
    {
      "cell_type": "code",
      "execution_count": null,
      "id": "4a37930a",
      "metadata": {
        "id": "4a37930a",
        "outputId": "9bc0a8c9-65e9-41e2-c1c1-607d5e41058a"
      },
      "outputs": [
        {
          "name": "stdout",
          "output_type": "stream",
          "text": [
            "('matematika', 'kalkulus', 'statistik')\n"
          ]
        }
      ],
      "source": [
        "# Menampikan seluruh data tuple\n",
        "print(data)"
      ]
    },
    {
      "cell_type": "code",
      "execution_count": null,
      "id": "d5727921",
      "metadata": {
        "scrolled": true,
        "id": "d5727921",
        "outputId": "bdc06688-633e-464e-a672-fb8ac8977d33"
      },
      "outputs": [
        {
          "ename": "TypeError",
          "evalue": "'tuple' object does not support item assignment",
          "output_type": "error",
          "traceback": [
            "\u001b[0;31m---------------------------------------------------------------------------\u001b[0m",
            "\u001b[0;31mTypeError\u001b[0m                                 Traceback (most recent call last)",
            "\u001b[0;32m/tmp/ipykernel_1119/3827494400.py\u001b[0m in \u001b[0;36m<module>\u001b[0;34m\u001b[0m\n\u001b[1;32m      1\u001b[0m \u001b[0;31m# mengubah isi pada data tuple\u001b[0m\u001b[0;34m\u001b[0m\u001b[0;34m\u001b[0m\u001b[0;34m\u001b[0m\u001b[0m\n\u001b[1;32m      2\u001b[0m \u001b[0;34m\u001b[0m\u001b[0m\n\u001b[0;32m----> 3\u001b[0;31m \u001b[0mdata\u001b[0m\u001b[0;34m[\u001b[0m\u001b[0;36m0\u001b[0m\u001b[0;34m]\u001b[0m \u001b[0;34m=\u001b[0m \u001b[0;34m\"biologi\"\u001b[0m\u001b[0;34m\u001b[0m\u001b[0;34m\u001b[0m\u001b[0m\n\u001b[0m",
            "\u001b[0;31mTypeError\u001b[0m: 'tuple' object does not support item assignment"
          ]
        }
      ],
      "source": [
        "# mengubah isi pada data tuple\n",
        "\n",
        "data[0] = \"biologi\""
      ]
    },
    {
      "cell_type": "markdown",
      "id": "983b92a9",
      "metadata": {
        "id": "983b92a9"
      },
      "source": [
        "Pada contoh kode program diatas, yaitu mencoba mengubah isi dari data tuple, program akan menampilkan error. Hal ini dikarenakan tipe data tuple bersifat immutable seperti yang dijelaskan diatas."
      ]
    },
    {
      "cell_type": "code",
      "execution_count": null,
      "id": "9d925f59",
      "metadata": {
        "id": "9d925f59",
        "outputId": "06c80b38-7db6-4c3c-d5ad-8ac815ce2114"
      },
      "outputs": [
        {
          "data": {
            "text/plain": [
              "('matematika', 'kalkulus', 'statistik', 'bahasa', 'pkn', 'biologi')"
            ]
          },
          "execution_count": 4,
          "metadata": {},
          "output_type": "execute_result"
        }
      ],
      "source": [
        "# Menggabungkan 2 data tuple\n",
        "data = (\"matematika\", \"kalkulus\", \"statistik\")\n",
        "data2 = (\"bahasa\", \"pkn\", \"biologi\")\n",
        "\n",
        "data_gabung = data + data2\n",
        "\n",
        "data_gabung"
      ]
    },
    {
      "cell_type": "markdown",
      "id": "cf2a3034",
      "metadata": {
        "id": "cf2a3034"
      },
      "source": [
        "Pada contoh kode program diatas, yaitu menggabungkan 2 data tuple menjadi 1 data. Hal ini bisa dilakukan karena tidak termasuk dalam manipulasi data yang telah didefinisikan. Tetapi menggabungkan 2 data sehingga menjadi 1 data baru.\n",
        "\n",
        "Beda hal jika ingin menambahkan data baru pada data tuple yang telah didefinisikan, maka program akan menampilkan error. Karena data tuple yang telah didefinisikan tidak bisa di manipulasi lagi datanya.\n",
        "\n",
        "Biasanya, tipe data ini didefinisikan sebagai tipe data pada variable yang datanya telah final, hal ini diperlukan agar data yang telah diproses tidak berubah lagi saat digunakan pada fungsi atau kode program lain."
      ]
    },
    {
      "cell_type": "markdown",
      "id": "fa87412d",
      "metadata": {
        "id": "fa87412d"
      },
      "source": [
        "## Dictionary\n",
        "\n",
        "Dictionary adalah tipe data yang sama seperti list. Hanya saja tipe data ini harus mendefinisikan index dari nilai yang didefinisikan. Secara umum bisa disebut dengan objek.\n",
        "\n",
        "Karakteristik dari tipe data ini adalah penulisannya diapit dengan tanda {} atau kurung kurawal dan datanya dipisahkan oleh tanda coma. Dan juga setiap value harus didefinisikan index nya yang dimana di index dan value dipisahkan dengan tanda titik dua (:)."
      ]
    },
    {
      "cell_type": "code",
      "execution_count": null,
      "id": "e788ba17",
      "metadata": {
        "id": "e788ba17",
        "outputId": "71c44672-d0b9-4c5b-da70-ee91f01dcb02"
      },
      "outputs": [
        {
          "name": "stdout",
          "output_type": "stream",
          "text": [
            "{'nama': 'Nama Anda', 'nim': 'Nim Anda', 'jurusan': 'Jurusan Anda'}\n"
          ]
        }
      ],
      "source": [
        "# Contoh inisialisasi data dictionary\n",
        "biodata = {\n",
        "    \"nama\"    : \"Nama Anda\",\n",
        "    \"nim\"     : \"Nim Anda\",\n",
        "    \"jurusan\" : \"Jurusan Anda\"\n",
        "}\n",
        "\n",
        "print(biodata)"
      ]
    },
    {
      "cell_type": "code",
      "execution_count": null,
      "id": "683f154f",
      "metadata": {
        "id": "683f154f",
        "outputId": "30835871-9653-4fa8-f212-f6d23413a19f"
      },
      "outputs": [
        {
          "name": "stdout",
          "output_type": "stream",
          "text": [
            "Nama Anda\n"
          ]
        }
      ],
      "source": [
        "# menampilkan nilai index nama dari data dictionary\n",
        "print(biodata[\"nama\"])"
      ]
    },
    {
      "cell_type": "markdown",
      "id": "02033760",
      "metadata": {
        "id": "02033760"
      },
      "source": [
        "Untuk menampilkan nilai dari data dictionary secara spesifik, dapat dengan menyertakan index nya yang diapit dengan kurung siku seperti diatas"
      ]
    },
    {
      "cell_type": "code",
      "execution_count": null,
      "id": "0915cb84",
      "metadata": {
        "id": "0915cb84",
        "outputId": "c3a7aaf5-e730-4109-f4d4-b27643a15244"
      },
      "outputs": [
        {
          "name": "stdout",
          "output_type": "stream",
          "text": [
            "{'nama': 'Budi', 'nim': 'Nim Anda', 'jurusan': 'Jurusan Anda'}\n"
          ]
        }
      ],
      "source": [
        "# Contoh mengubah isi pada data dictionary\n",
        "biodata[\"nama\"] = \"Budi\"\n",
        "\n",
        "print(biodata)"
      ]
    },
    {
      "cell_type": "markdown",
      "id": "dd5b5449",
      "metadata": {
        "id": "dd5b5449"
      },
      "source": [
        "Untuk mengubah nilai dari data dictionary, caranya adalah dengan mendefinisikan variable dan indexnya yang diapit dengan kurung siku seperti diatas, lalu didefinisikan valuenya yang baru"
      ]
    },
    {
      "cell_type": "code",
      "execution_count": null,
      "id": "efa66d66",
      "metadata": {
        "id": "efa66d66",
        "outputId": "9ab28441-d869-4923-dfca-bacb55916e6a"
      },
      "outputs": [
        {
          "name": "stdout",
          "output_type": "stream",
          "text": [
            "{'nama': 'Budi', 'nim': 'Nim Anda', 'jurusan': 'Jurusan Anda', 'kelas': 'Matematika A Indralaya'}\n"
          ]
        }
      ],
      "source": [
        "# Menambahkan data baru didalam data dictionary\n",
        "biodata[\"kelas\"] = \"Matematika A Indralaya\"\n",
        "\n",
        "print(biodata)"
      ]
    },
    {
      "cell_type": "markdown",
      "id": "8e8c2626",
      "metadata": {
        "id": "8e8c2626"
      },
      "source": [
        "Untuk menambahkan data baru didalam dictionary, caranya sama seperti mengubah nilai, tinggal mendefinisikan index barunya saja."
      ]
    },
    {
      "cell_type": "code",
      "execution_count": null,
      "id": "d03ef802",
      "metadata": {
        "id": "d03ef802",
        "outputId": "f29b4ab4-9821-4c3a-c285-f723538457b4"
      },
      "outputs": [
        {
          "name": "stdout",
          "output_type": "stream",
          "text": [
            "{'nama': 'Budi', 'nim': 'Nim Anda', 'jurusan': 'Jurusan Anda'}\n"
          ]
        }
      ],
      "source": [
        "# Menghapus data secara spesifik pada data dictionary\n",
        "del biodata[\"kelas\"]\n",
        "\n",
        "print(biodata)"
      ]
    },
    {
      "cell_type": "markdown",
      "id": "27637c18",
      "metadata": {
        "id": "27637c18"
      },
      "source": [
        "Pada contoh diatas, adalah cara menghapus data pada data dictionary secara spesifik, caranya dalah dengan menambahkan syntax del lalu nama variable dengan index nya."
      ]
    },
    {
      "cell_type": "code",
      "execution_count": null,
      "id": "471f6645",
      "metadata": {
        "id": "471f6645",
        "outputId": "ad0f458f-8631-4571-d9fc-73c1869b0c95"
      },
      "outputs": [
        {
          "name": "stdout",
          "output_type": "stream",
          "text": [
            "{}\n"
          ]
        }
      ],
      "source": [
        "# Menghapus seluruh data pada data dictionary\n",
        "biodata.clear()\n",
        "\n",
        "print(biodata)"
      ]
    },
    {
      "cell_type": "markdown",
      "id": "336e5eb1",
      "metadata": {
        "id": "336e5eb1"
      },
      "source": [
        "Pada contoh diatas, adalah cara menghapus seluruh data dalam data dictionary sehingga variable biodata menjadi kosong sekarang."
      ]
    },
    {
      "cell_type": "markdown",
      "id": "7e45352f",
      "metadata": {
        "id": "7e45352f"
      },
      "source": [
        "Selanjutnya adalah menyalin data dictionary ke variable baru. Dalam penyalinan ini, dapat dilakukan dengan 2 cara, yaitu sebagai berikut."
      ]
    },
    {
      "cell_type": "code",
      "execution_count": null,
      "id": "8c714cdb",
      "metadata": {
        "id": "8c714cdb",
        "outputId": "cd13abf1-414d-43fc-c881-0361ccd6fefd"
      },
      "outputs": [
        {
          "name": "stdout",
          "output_type": "stream",
          "text": [
            "{'nama': 'Nama Anda', 'nim': 'Nim Anda', 'jurusan': 'Jurusan Anda'}\n"
          ]
        }
      ],
      "source": [
        "# Menyalin data dengan metode 1\n",
        "biodata = {\n",
        "    \"nama\"    : \"Nama Anda\",\n",
        "    \"nim\"     : \"Nim Anda\",\n",
        "    \"jurusan\" : \"Jurusan Anda\"\n",
        "}\n",
        "\n",
        "biodataku = biodata\n",
        "\n",
        "print(biodataku)"
      ]
    },
    {
      "cell_type": "code",
      "execution_count": null,
      "id": "23971bd4",
      "metadata": {
        "id": "23971bd4",
        "outputId": "6d288b6b-0ff9-4ed1-a126-06b9fa7418dd"
      },
      "outputs": [
        {
          "name": "stdout",
          "output_type": "stream",
          "text": [
            "{'nama': 'Budi', 'nim': '0987654321', 'jurusan': 'Matematika'}\n"
          ]
        }
      ],
      "source": [
        "# Menyalin data dengan metode 2\n",
        "biodata_baru = {\n",
        "    \"nama\"    : \"Budi\",\n",
        "    \"nim\"     : \"0987654321\",\n",
        "    \"jurusan\" : \"Matematika\"\n",
        "}\n",
        "\n",
        "biodata_budi = biodata_baru.copy()\n",
        "\n",
        "print(biodata_budi)"
      ]
    },
    {
      "cell_type": "markdown",
      "id": "255b6c8e",
      "metadata": {
        "id": "255b6c8e"
      },
      "source": [
        "Perbedaan dari 2 cara diatas terletak pada saat proses kopinya.\n",
        "\n",
        "Metode pertama, data yang dikopi tidak benar-benar disalin kedalam variable baru, tetapi isi dari variable biodata di referensikan kedalam variable biodataku. Sehingga saat data di variable biodata dimanipulasi, maka data pada variable biodataku akan berubah juga\n",
        "\n",
        "Sedangkan pada metode kedua, data dari variable biodata_baru akan benar-benar disalin ke variable biodata_budi. Sehingga menjadi benar-benar data baru, walaupun data dari variable biodata_baru dirubah, maka data di variable biodata_budi tidak akan berubah."
      ]
    },
    {
      "cell_type": "code",
      "execution_count": null,
      "id": "ff19bd07",
      "metadata": {
        "id": "ff19bd07",
        "outputId": "781d32b8-8186-40fb-bdca-aedcc4e27fd0"
      },
      "outputs": [
        {
          "name": "stdout",
          "output_type": "stream",
          "text": [
            "{'nama': 'Anto', 'nim': 'Nim Anda', 'jurusan': 'Jurusan Anda'}\n"
          ]
        }
      ],
      "source": [
        "# Pembuktian metode 1\n",
        "biodata['nama'] = \"Anto\"\n",
        "\n",
        "print(biodataku)"
      ]
    },
    {
      "cell_type": "code",
      "execution_count": null,
      "id": "6d8a5a4d",
      "metadata": {
        "id": "6d8a5a4d",
        "outputId": "938e2c45-e630-4f5b-b41b-418d8fc31c1e"
      },
      "outputs": [
        {
          "name": "stdout",
          "output_type": "stream",
          "text": [
            "{'nama': 'Budi', 'nim': '0987654321', 'jurusan': 'Matematika'}\n"
          ]
        }
      ],
      "source": [
        "# Pembuktian metode 2\n",
        "\n",
        "biodata_baru['nama'] = \"Budi Sentosa\"\n",
        "\n",
        "print(biodata_budi)"
      ]
    },
    {
      "cell_type": "markdown",
      "id": "0e9d5056",
      "metadata": {
        "id": "0e9d5056"
      },
      "source": [
        "## Sets\n",
        "Set merupakan tipe data gabungan dari tipe data list, tuple, dan dictionary. \n",
        "\n",
        "Tipe data ini memiliki memadukan karakteristik dari ketiga tipe data tersebut, yaitu : \n",
        "\n",
        "- Menggunakan kurung kurawal {} untuk mengapit datanya seperti dictionary\n",
        "- Tidak memiliki index seperti list\n",
        "- Tidak bisa dlakukan perubahan data seperti tuple\n",
        "\n",
        "\n",
        "Akan tetapi, tipe data set bisa menambah data baru atau menghapus data, tidak seperti tuple."
      ]
    },
    {
      "cell_type": "code",
      "execution_count": null,
      "id": "089b1bd3",
      "metadata": {
        "id": "089b1bd3",
        "outputId": "018a7e54-7655-4795-c2ce-ae72fc30277d"
      },
      "outputs": [
        {
          "name": "stdout",
          "output_type": "stream",
          "text": [
            "{'Andika', '087712313123', 'indralaya'}\n"
          ]
        }
      ],
      "source": [
        "# Contoh inisalisasi tipe data set\n",
        "\n",
        "data_saya = {\"Andika\", \"087712313123\", \"indralaya\"}\n",
        "\n",
        "print(data_saya)"
      ]
    },
    {
      "cell_type": "code",
      "execution_count": null,
      "id": "3c306562",
      "metadata": {
        "id": "3c306562",
        "outputId": "3e88ff3a-218e-42cc-a083-70e885728681"
      },
      "outputs": [
        {
          "name": "stdout",
          "output_type": "stream",
          "text": [
            "<class 'set'>\n"
          ]
        }
      ],
      "source": [
        "print(type(data_saya))"
      ]
    },
    {
      "cell_type": "code",
      "execution_count": null,
      "id": "460554de",
      "metadata": {
        "id": "460554de",
        "outputId": "23317e08-f150-4562-9dd9-e1e4b7987467"
      },
      "outputs": [
        {
          "name": "stdout",
          "output_type": "stream",
          "text": [
            "{'matematika', 'Andika', '087712313123', 'indralaya'}\n"
          ]
        }
      ],
      "source": [
        "# Menambahkan data baru kedalam data tipe set\n",
        "data_saya.add(\"matematika\")\n",
        "\n",
        "print(data_saya)"
      ]
    },
    {
      "cell_type": "code",
      "execution_count": null,
      "id": "2e534b0d",
      "metadata": {
        "id": "2e534b0d",
        "outputId": "3def0252-24fd-40e0-b73f-9d8c6987db69"
      },
      "outputs": [
        {
          "name": "stdout",
          "output_type": "stream",
          "text": [
            "{'Andika', '087712313123', 'indralaya'}\n"
          ]
        }
      ],
      "source": [
        "# Menghapus data pada tipe data set\n",
        "data_saya.remove(\"matematika\")\n",
        "\n",
        "print(data_saya)"
      ]
    },
    {
      "cell_type": "markdown",
      "id": "d05b9769",
      "metadata": {
        "id": "d05b9769"
      },
      "source": [
        "Untuk diketahui, tipe data set saat ditampilkan akan mengurutkan datanya secara otomatis seperti contoh-contoh diatas, hingga data dengan tipe set tidak bisa dilakukan sorting dan tidak bisa menentukan index nya."
      ]
    },
    {
      "cell_type": "code",
      "execution_count": null,
      "id": "f959ac5a",
      "metadata": {
        "id": "f959ac5a"
      },
      "outputs": [],
      "source": []
    },
    {
      "cell_type": "markdown",
      "id": "3c6776da",
      "metadata": {
        "id": "3c6776da"
      },
      "source": [
        "# Function vs Procedure"
      ]
    },
    {
      "cell_type": "markdown",
      "id": "66d7f1c6",
      "metadata": {
        "id": "66d7f1c6"
      },
      "source": [
        "## Function"
      ]
    },
    {
      "cell_type": "markdown",
      "id": "d008e05b",
      "metadata": {
        "id": "d008e05b"
      },
      "source": [
        "Function (fungsi) berisi se deretan algoritma untuk mengoperasikan variabel dengan nilai return (nilai kembali)"
      ]
    },
    {
      "cell_type": "code",
      "execution_count": null,
      "id": "4143d473",
      "metadata": {
        "id": "4143d473"
      },
      "outputs": [],
      "source": [
        "import random\n",
        "def angka_acak():\n",
        "    angka = random.randint(0,10)\n",
        "    return angka"
      ]
    },
    {
      "cell_type": "code",
      "execution_count": null,
      "id": "8d9ccd43",
      "metadata": {
        "scrolled": true,
        "id": "8d9ccd43",
        "outputId": "d6359238-c337-43bf-8a0f-bc2774b073fb"
      },
      "outputs": [
        {
          "name": "stdout",
          "output_type": "stream",
          "text": [
            "4\n"
          ]
        }
      ],
      "source": [
        "print(angka_acak())"
      ]
    },
    {
      "cell_type": "markdown",
      "id": "9c114d41",
      "metadata": {
        "id": "9c114d41"
      },
      "source": [
        "Perlu diperhatikan di dalam fungsi `angka_acak()` terdapat syntax:\n",
        "```python\n",
        "return angka\n",
        "```\n",
        "\n",
        "`return` digunakan untuk mengembalikan variabel ketika fungsi tersebut dipanggil "
      ]
    },
    {
      "cell_type": "markdown",
      "id": "bd093798",
      "metadata": {
        "id": "bd093798"
      },
      "source": [
        "Karena fungsi tersebut mengembalikan variabel, variabel yang dikembalikan dari fungsi tersebut dapat dimasukkan ke dalam variabel lain"
      ]
    },
    {
      "cell_type": "code",
      "execution_count": null,
      "id": "93448c10",
      "metadata": {
        "id": "93448c10",
        "outputId": "8114a34b-e301-4967-ef08-f344b9f66798"
      },
      "outputs": [
        {
          "name": "stdout",
          "output_type": "stream",
          "text": [
            "3\n"
          ]
        }
      ],
      "source": [
        "acak = angka_acak()\n",
        "print(acak)"
      ]
    },
    {
      "cell_type": "markdown",
      "id": "718306a5",
      "metadata": {
        "id": "718306a5"
      },
      "source": [
        "## Procedure"
      ]
    },
    {
      "cell_type": "markdown",
      "id": "ebd7cc37",
      "metadata": {
        "id": "ebd7cc37"
      },
      "source": [
        "Procedure (prosedur) berisi se deretan algoritma untuk mengoperasikan variabel tanpa nilai return"
      ]
    },
    {
      "cell_type": "code",
      "execution_count": null,
      "id": "58547161",
      "metadata": {
        "id": "58547161"
      },
      "outputs": [],
      "source": [
        "def prosedur_print():\n",
        "    print('Hello world!')"
      ]
    },
    {
      "cell_type": "code",
      "execution_count": null,
      "id": "dd1950e4",
      "metadata": {
        "id": "dd1950e4",
        "outputId": "43e5ba07-75aa-4dc6-8c74-2491213d0270"
      },
      "outputs": [
        {
          "name": "stdout",
          "output_type": "stream",
          "text": [
            "Hello world!\n"
          ]
        }
      ],
      "source": [
        "prosedur_print()"
      ]
    },
    {
      "cell_type": "markdown",
      "id": "c96830bd",
      "metadata": {
        "id": "c96830bd"
      },
      "source": [
        "Prosedur dapat dimasukkan ke dalam variabel namun cara ini tidak baik saat implementasi karena akan membuat program yang dibuat menjadi lebih sulit untuk dibaca"
      ]
    },
    {
      "cell_type": "code",
      "execution_count": null,
      "id": "4f62291e",
      "metadata": {
        "id": "4f62291e"
      },
      "outputs": [],
      "source": [
        "a = prosedur_print"
      ]
    },
    {
      "cell_type": "code",
      "execution_count": null,
      "id": "6c387026",
      "metadata": {
        "id": "6c387026",
        "outputId": "04f3e80f-6676-45f0-aa81-955a800323e4"
      },
      "outputs": [
        {
          "name": "stdout",
          "output_type": "stream",
          "text": [
            "Hello world!\n",
            "Hello world!\n"
          ]
        }
      ],
      "source": [
        "a()\n",
        "prosedur_print()"
      ]
    },
    {
      "cell_type": "markdown",
      "id": "bbb08ce4",
      "metadata": {
        "id": "bbb08ce4"
      },
      "source": [
        "Meskipun prosedur tersebut menjadi dua, kedua nya masih memiliki tipe fungsi yang sama"
      ]
    },
    {
      "cell_type": "code",
      "execution_count": null,
      "id": "4c9b5a27",
      "metadata": {
        "id": "4c9b5a27",
        "outputId": "89f83b2b-afaf-493f-90dc-c2af9a5e0dad"
      },
      "outputs": [
        {
          "name": "stdout",
          "output_type": "stream",
          "text": [
            "<function prosedur_print at 0x7f23006303b0>\n",
            "<function prosedur_print at 0x7f23006303b0>\n"
          ]
        }
      ],
      "source": [
        "print(a)\n",
        "print(prosedur_print)"
      ]
    },
    {
      "cell_type": "markdown",
      "id": "2d434485",
      "metadata": {
        "id": "2d434485"
      },
      "source": [
        "# Argumen atau parameter"
      ]
    },
    {
      "cell_type": "markdown",
      "id": "95e74334",
      "metadata": {
        "id": "95e74334"
      },
      "source": [
        "Argumen adalah variabel yang dimasukkan ke dalam sebuah fungsi untuk di proses. variabel yang berada di fungsi bersifat lokal. hanya dapat diakses oleh fungsi itu saja. tidak dapat di akses dari luar fungsi itu sendiri. namun variabel yang berada di luar fungsi dapat dibaca di dalam fungsi\n",
        "\n",
        "Pada masing-masing fungsi, terdapat 1 argumen yang akan digunakan di dalam fungsi"
      ]
    },
    {
      "cell_type": "code",
      "execution_count": null,
      "id": "e01d906b",
      "metadata": {
        "id": "e01d906b"
      },
      "outputs": [],
      "source": [
        "def luas_persegi(sisi):\n",
        "    luas = sisi*sisi\n",
        "    return luas\n",
        "\n",
        "def keliling_persegi(sisi):\n",
        "    keliling = 4*sisi\n",
        "    return keliling\n",
        "\n",
        "def luas_lingkaran(r):\n",
        "    luas = (22/7)*(r**2)\n",
        "    return luas\n",
        "\n",
        "def keliling_lingkaran(sisi):\n",
        "    keliling = 4*sisi\n",
        "    return keliling\n"
      ]
    },
    {
      "cell_type": "markdown",
      "id": "1aac2200",
      "metadata": {
        "id": "1aac2200"
      },
      "source": [
        "Sel dibawah memberikan 1 argumen kepada fungsi `luas_persegi`"
      ]
    },
    {
      "cell_type": "code",
      "execution_count": null,
      "id": "b1212cc5",
      "metadata": {
        "id": "b1212cc5",
        "outputId": "ffe1e74d-6671-42e7-b6c2-2bb7d45c0a31"
      },
      "outputs": [
        {
          "name": "stdout",
          "output_type": "stream",
          "text": [
            "25\n"
          ]
        }
      ],
      "source": [
        "print(luas_persegi(5))"
      ]
    },
    {
      "cell_type": "markdown",
      "id": "6f6090f9",
      "metadata": {
        "id": "6f6090f9"
      },
      "source": [
        "Sel dibawah terjadi error dikarenakan variabel `luas` berada di dalam fungsi `luas_persegi` dan `luas_lingkaran`. variabel `luas` hanya bisa diakses di dalam fungsi"
      ]
    },
    {
      "cell_type": "code",
      "execution_count": null,
      "id": "c6cfebec",
      "metadata": {
        "scrolled": true,
        "id": "c6cfebec",
        "outputId": "67596626-6630-4c12-c52a-d6d6af51dc09"
      },
      "outputs": [
        {
          "ename": "NameError",
          "evalue": "name 'luas' is not defined",
          "output_type": "error",
          "traceback": [
            "\u001b[0;31m---------------------------------------------------------------------------\u001b[0m",
            "\u001b[0;31mNameError\u001b[0m                                 Traceback (most recent call last)",
            "\u001b[0;32m/tmp/ipykernel_20800/3268278393.py\u001b[0m in \u001b[0;36m<module>\u001b[0;34m\u001b[0m\n\u001b[0;32m----> 1\u001b[0;31m \u001b[0mprint\u001b[0m\u001b[0;34m(\u001b[0m\u001b[0mluas\u001b[0m\u001b[0;34m)\u001b[0m\u001b[0;34m\u001b[0m\u001b[0;34m\u001b[0m\u001b[0m\n\u001b[0m",
            "\u001b[0;31mNameError\u001b[0m: name 'luas' is not defined"
          ]
        }
      ],
      "source": [
        "print(luas)"
      ]
    },
    {
      "cell_type": "markdown",
      "id": "8bafac04",
      "metadata": {
        "id": "8bafac04"
      },
      "source": [
        "Sel dibawah menunjukkan fungsi `penambahan` dapat membaca variabel `a` yang berada di luar fungsi"
      ]
    },
    {
      "cell_type": "code",
      "execution_count": null,
      "id": "eeacc0ba",
      "metadata": {
        "id": "eeacc0ba",
        "outputId": "49c3d0c2-a170-4c9b-92d1-e77791b44e97"
      },
      "outputs": [
        {
          "name": "stdout",
          "output_type": "stream",
          "text": [
            "5\n",
            "15\n"
          ]
        }
      ],
      "source": [
        "a = 5\n",
        "\n",
        "def penambahan(nilai):\n",
        "    hasil = a+nilai\n",
        "    return hasil\n",
        "\n",
        "print(a)\n",
        "a = penambahan(10)\n",
        "print(a)"
      ]
    },
    {
      "cell_type": "markdown",
      "id": "d757c424",
      "metadata": {
        "id": "d757c424"
      },
      "source": [
        "# Multiple Argumen"
      ]
    },
    {
      "cell_type": "markdown",
      "id": "7b51405e",
      "metadata": {
        "id": "7b51405e"
      },
      "source": [
        "Fungsi yang dibuat dapat meminta lebih dari satu variabel yang diperlukan"
      ]
    },
    {
      "cell_type": "code",
      "execution_count": null,
      "id": "5fcbf73e",
      "metadata": {
        "id": "5fcbf73e"
      },
      "outputs": [],
      "source": [
        "def luas_persegi_panjang(panjang,lebar):\n",
        "    luas = panjang*lebar\n",
        "    return luas\n",
        "\n",
        "def keliling_persegi_panjang(panjang,lebar):\n",
        "    keliling = 2*(panjang+lebar)\n",
        "    return keliling\n",
        "\n",
        "def luas_segitiga(alas,tinggi):\n",
        "    luas = (alas*tinggi)/2\n",
        "    return luas\n",
        "\n",
        "def keliling_segitiga(tegak,baring,miring):\n",
        "    keliling = tegak+baring+miring\n",
        "    return keliling\n",
        "\n",
        "def pitagoras(tegak,baring):\n",
        "    miring = ((tegak**2)*(baring**2))**(1/2)\n",
        "    return miring"
      ]
    },
    {
      "cell_type": "markdown",
      "id": "9105dd0b",
      "metadata": {
        "id": "9105dd0b"
      },
      "source": [
        "Argumen yang diminta, akan diberikan sesuai dengan urutannya. Pada sel dibawah, fungsi `luas_persegi_panjang` meminta 2 variabel yaitu `panjang` dan `lebar`. `8` akan digunakan sebagai `panjang`. `4` akan digunakan sebagai `lebar`"
      ]
    },
    {
      "cell_type": "code",
      "execution_count": null,
      "id": "29337236",
      "metadata": {
        "id": "29337236",
        "outputId": "2b0e8bb1-feb1-4378-f9ec-8719546e6901"
      },
      "outputs": [
        {
          "name": "stdout",
          "output_type": "stream",
          "text": [
            "32\n"
          ]
        }
      ],
      "source": [
        "print(luas_persegi_panjang(8,4))"
      ]
    },
    {
      "cell_type": "markdown",
      "id": "cb1a8537",
      "metadata": {
        "id": "cb1a8537"
      },
      "source": [
        "# Arbitrary argumen"
      ]
    },
    {
      "cell_type": "markdown",
      "id": "573cda9c",
      "metadata": {
        "id": "573cda9c"
      },
      "source": [
        "Argumen yang diminta oleh suatu fungsi atau prosedur dapat dinamis. Pada suatu fungsi atau prosedur, dapat meminta satu argumen dengan menambah karakter `*` di depan argumen. Pada saat memanggil fungsi atau prosedur tersebut, fungsi atau prosedur dapat memberi lebih dari satu argumen sebagai `array`. \n",
        "\n",
        "Dengan begitu, pada saat memanggil fungsi tersebut, dapat memberi lebih dari satu argumen. "
      ]
    },
    {
      "cell_type": "code",
      "execution_count": null,
      "id": "0365e413",
      "metadata": {
        "id": "0365e413"
      },
      "outputs": [],
      "source": [
        "def thirdArg(*arr):\n",
        "    print(f'{arr[2]}')\n",
        "\n",
        "def firstArg(*arr):\n",
        "    print(arr[0])"
      ]
    },
    {
      "cell_type": "code",
      "execution_count": null,
      "id": "69212509",
      "metadata": {
        "id": "69212509",
        "outputId": "d31d6828-8fa3-4336-d7f4-6038ffdf5464"
      },
      "outputs": [
        {
          "name": "stdout",
          "output_type": "stream",
          "text": [
            "Ketiga\n",
            "Pertama\n"
          ]
        }
      ],
      "source": [
        "thirdArg('Pertama','Kedua','Ketiga')\n",
        "firstArg('Pertama','Kedua','Ketiga')"
      ]
    },
    {
      "cell_type": "markdown",
      "id": "a4a2745f",
      "metadata": {
        "id": "a4a2745f"
      },
      "source": [
        "# Keyword Argumen"
      ]
    },
    {
      "cell_type": "markdown",
      "id": "1e884729",
      "metadata": {
        "id": "1e884729"
      },
      "source": [
        "Sebelumnya sudah pernah di deklarasikan fungsi `luas_persegi_panjang`. Fungsi tersebut meminta 2 argumen. `panjang` dan `lebar`.\n",
        "\n",
        "Argumen yang diberikan kepada suatu fungsi atau prosedur bisa diberikan tidak sesuai urutan asalkan argumen yang diminta diperjelas ketika diberi\n",
        "\n",
        "Pada fungsi dibawah, fungsi `luas_persegi_panjang` diberi argumen `lebar` terlebih dahulu. Sedangkan pada fungsi tersebut, argumen pertama adalah `panjang`"
      ]
    },
    {
      "cell_type": "code",
      "execution_count": null,
      "id": "502aa018",
      "metadata": {
        "id": "502aa018",
        "outputId": "d2cf43c9-dc4e-4fa6-9178-475a75703a84"
      },
      "outputs": [
        {
          "name": "stdout",
          "output_type": "stream",
          "text": [
            "48\n"
          ]
        }
      ],
      "source": [
        "print(luas_persegi_panjang(lebar=6,panjang=8))"
      ]
    },
    {
      "cell_type": "markdown",
      "id": "a900e04c",
      "metadata": {
        "id": "a900e04c"
      },
      "source": [
        "# Arbitrary keyword argumen"
      ]
    },
    {
      "cell_type": "markdown",
      "id": "2a3eeb2d",
      "metadata": {
        "id": "2a3eeb2d"
      },
      "source": [
        "Arbitrary keyword argumen memiliki sifat yang sama dengan Arbitrary argumen. Bedanya adalah argumen yang diberikan akan dibaca sebagai `dictionary` oleh fungsi atau prosedur. Perbedaan lainnya adalah pada deklarasi fungsi atau prosedur, argumen akan diberi karakter `**` sebelum argumen"
      ]
    },
    {
      "cell_type": "markdown",
      "id": "1c7c5a52",
      "metadata": {
        "id": "1c7c5a52"
      },
      "source": [
        "<div>\n",
        "<img src=\"https://github.com/SamuelBenedix/WorkshopFKIP/blob/main/day3-1.png?raw=1\" width=\"750\"/>\n",
        "</div>"
      ]
    },
    {
      "cell_type": "code",
      "execution_count": null,
      "id": "ea3bad39",
      "metadata": {
        "id": "ea3bad39"
      },
      "outputs": [],
      "source": [
        "def persegi(**nilai):\n",
        "    if nilai['rumus'] == 'luas':\n",
        "        hasil = nilai['sisi']*nilai['sisi']\n",
        "    elif nilai['rumus'] == 'keliling':\n",
        "        hasil = 4*nilai['sisi']\n",
        "    else:\n",
        "        hasil = 0\n",
        "    return hasil"
      ]
    },
    {
      "cell_type": "code",
      "execution_count": null,
      "id": "291ab9e0",
      "metadata": {
        "id": "291ab9e0",
        "outputId": "f91c552a-4bef-48d5-8b56-883241358da0"
      },
      "outputs": [
        {
          "name": "stdout",
          "output_type": "stream",
          "text": [
            "100\n"
          ]
        }
      ],
      "source": [
        "print(persegi(rumus='luas',sisi=10))"
      ]
    },
    {
      "cell_type": "markdown",
      "id": "dd7b3205",
      "metadata": {
        "id": "dd7b3205"
      },
      "source": [
        "# Default parameter value"
      ]
    },
    {
      "cell_type": "markdown",
      "id": "48f6a5ef",
      "metadata": {
        "id": "48f6a5ef"
      },
      "source": [
        "Fungsi atau prosedur yang dibuat, argumen yang diminta dapat diabaikan apabila argumen tersebut telah diberi nilai. Pada fungsi `perpangkatan`, argumen `pangkat` secara default telah di set menjadi angka `2`. Sehingga meskipun fungsi tersebut dipanggil tanpa argumen `pangkat`, fungsi `perpangkatan` masih dapat dijalankan hanya dengan argumen `x`"
      ]
    },
    {
      "cell_type": "code",
      "execution_count": null,
      "id": "61dbdab1",
      "metadata": {
        "id": "61dbdab1"
      },
      "outputs": [],
      "source": [
        "def perpangkatan(x,pangkat=2):\n",
        "    hasil = x**pangkat\n",
        "    return hasil\n",
        "\n",
        "def akar(x,nilai_akar=2):\n",
        "    hasil = x**(1/nilai_akar)\n",
        "    return hasil"
      ]
    },
    {
      "cell_type": "code",
      "execution_count": null,
      "id": "128daba3",
      "metadata": {
        "id": "128daba3",
        "outputId": "00e37798-93ed-4c48-a94f-206e10a4c70e"
      },
      "outputs": [
        {
          "name": "stdout",
          "output_type": "stream",
          "text": [
            "25\n",
            "27\n",
            "49\n"
          ]
        }
      ],
      "source": [
        "print(perpangkatan(5))\n",
        "print(perpangkatan(3,3))\n",
        "print(perpangkatan(x=7,pangkat=2))"
      ]
    },
    {
      "cell_type": "code",
      "execution_count": null,
      "id": "bd4b826b",
      "metadata": {
        "id": "bd4b826b",
        "outputId": "a2b9dd2c-bb5d-4054-f5cc-12a42946252d"
      },
      "outputs": [
        {
          "name": "stdout",
          "output_type": "stream",
          "text": [
            "3.0\n",
            "9.0\n",
            "5.0\n"
          ]
        }
      ],
      "source": [
        "print(akar(9))\n",
        "print(akar(81,2))\n",
        "print(akar(x=625,nilai_akar=4))"
      ]
    },
    {
      "cell_type": "markdown",
      "id": "4de5fcde",
      "metadata": {
        "id": "4de5fcde"
      },
      "source": [
        "# Pass different data type to argumen"
      ]
    },
    {
      "cell_type": "markdown",
      "id": "2daf9e1c",
      "metadata": {
        "id": "2daf9e1c"
      },
      "source": [
        "Argumen yang diberi pada fungsi atau prosedur, tidak dibatasi oleh tipe data. tipe data apapun dapat diberi kedalam fungsi atau prosedur. Asalkan penerapan yang diberikan terhadap variabel tersebut telah tepat"
      ]
    },
    {
      "cell_type": "code",
      "execution_count": null,
      "id": "357e728f",
      "metadata": {
        "id": "357e728f"
      },
      "outputs": [],
      "source": [
        "def rata_rata(arr):\n",
        "    total_data = 0\n",
        "    panjang_data = 0\n",
        "    for data in arr:\n",
        "        total_data = total_data+data\n",
        "        panjang_data +=1\n",
        "    hasil = total_data/panjang_data\n",
        "    return hasil"
      ]
    },
    {
      "cell_type": "markdown",
      "id": "cc54a01f",
      "metadata": {
        "id": "cc54a01f"
      },
      "source": [
        "<div>\n",
        "<img src=\"https://github.com/SamuelBenedix/WorkshopFKIP/blob/main/day3-2.png?raw=1\" width=\"700\"/>\n",
        "</div>\n"
      ]
    },
    {
      "cell_type": "code",
      "execution_count": null,
      "id": "92c909f8",
      "metadata": {
        "id": "92c909f8"
      },
      "outputs": [],
      "source": [
        "hitung_rata2 = [5,2,4,5,1,2,6,8,9,3,4]"
      ]
    },
    {
      "cell_type": "code",
      "execution_count": null,
      "id": "e34f48b8",
      "metadata": {
        "id": "e34f48b8",
        "outputId": "9e2971ea-3005-4ae6-9594-676bc0dda695"
      },
      "outputs": [
        {
          "name": "stdout",
          "output_type": "stream",
          "text": [
            "4.454545454545454\n"
          ]
        }
      ],
      "source": [
        "print(rata_rata(hitung_rata2))"
      ]
    },
    {
      "cell_type": "markdown",
      "id": "9983f339",
      "metadata": {
        "id": "9983f339"
      },
      "source": [
        "# Recursion"
      ]
    },
    {
      "cell_type": "markdown",
      "id": "be26ade7",
      "metadata": {
        "id": "be26ade7"
      },
      "source": [
        "Recursion (rekursi) adalah penerapan ketika didalam fungsi atau prosedur memanggil fungsi atau prosedur itu sendiri. "
      ]
    },
    {
      "cell_type": "code",
      "execution_count": null,
      "id": "366fd5c8",
      "metadata": {
        "id": "366fd5c8",
        "outputId": "f9f7cde4-fd2e-4ef8-903e-c89d7888739e"
      },
      "outputs": [
        {
          "name": "stdout",
          "output_type": "stream",
          "text": [
            "8\n",
            "7\n",
            "6\n",
            "5\n",
            "4\n",
            "3\n",
            "2\n",
            "1\n"
          ]
        }
      ],
      "source": [
        "def recursion(i):\n",
        "    if(i > 0):\n",
        "        print(i)\n",
        "        recursion(i - 1)\n",
        "        \n",
        "recursion(8)"
      ]
    },
    {
      "cell_type": "markdown",
      "source": [
        "# **Lambda**\n",
        "lambda merupakan bentuk singkat dari fungsi (function)"
      ],
      "metadata": {
        "id": "js8upKxBtr7l"
      },
      "id": "js8upKxBtr7l"
    },
    {
      "cell_type": "code",
      "execution_count": null,
      "id": "a49e1a1c",
      "metadata": {
        "id": "a49e1a1c"
      },
      "outputs": [],
      "source": [
        "def luas_persegi_panjang(panjang,lebar):\n",
        "    luas = panjang*lebar\n",
        "    return luas\n",
        "\n",
        "def keliling_persegi_panjang(panjang,lebar):\n",
        "    keliling = 2*(panjang+lebar)\n",
        "    return keliling\n",
        "\n",
        "def luas_segitiga(alas,tinggi):\n",
        "    luas = (alas*tinggi)/2\n",
        "    return luas\n",
        "\n",
        "def keliling_segitiga(tegak,baring,miring):\n",
        "    keliling = tegak+baring+miring\n",
        "    return keliling\n",
        "\n",
        "def pitagoras(tegak,baring):\n",
        "    miring = ((tegak**2)*(baring**2))**(1/2)\n",
        "    return miring"
      ]
    },
    {
      "cell_type": "markdown",
      "source": [
        "Dari fungsi yang terdapat diatas bila dimasukkan kedalam struktur lambda akan menjadi seperti dibawah ini"
      ],
      "metadata": {
        "id": "Hxbr4Iuvtv57"
      },
      "id": "Hxbr4Iuvtv57"
    },
    {
      "cell_type": "code",
      "source": [
        "luas_persegi_panjang = lambda panjang,lebar : panjang * lebar \n",
        "keliling_persegi_panjang = lambda panjang,lebar : 2 * (panjang + lebar)\n",
        "luas_segitigas = lambda alas,tinggi : (alas*tinggi)/2\n",
        "keliling_segitiga = lambda tegak, baring, miring : tegak + baring + miring\n",
        "pitagoras = lambda tegak, baring: ((tegak ** 2) * (baring ** 2) ** (1/2) )"
      ],
      "metadata": {
        "id": "R9wIqzImtt2J"
      },
      "id": "R9wIqzImtt2J",
      "execution_count": null,
      "outputs": []
    },
    {
      "cell_type": "markdown",
      "source": [
        "Berikut merupakan salah satu contoh pemanggilan lambda dengan Argumen yang diminta, akan diberikan sesuai dengan urutannya. Pada sel dibawah, fungsi `luas_segitiga` meminta 2 variabel yaitu `panjang` dan `lebar`. `10` akan digunakan sebagai `panjang`. `2` akan digunakan sebagai `lebar`"
      ],
      "metadata": {
        "id": "G1F0A4xTtxjy"
      },
      "id": "G1F0A4xTtxjy"
    },
    {
      "cell_type": "code",
      "source": [
        "luas_segitiga(10,2)"
      ],
      "metadata": {
        "id": "LrYSVCLXtzHV"
      },
      "id": "LrYSVCLXtzHV",
      "execution_count": null,
      "outputs": []
    },
    {
      "cell_type": "markdown",
      "source": [
        "# **Array**\n",
        "\n",
        "Tuple adalah sebuah tipe data yang mirip seperti list. Hanya saja tipe data ini bersifat immutable alias tidak bisa dirubah.\n",
        "\n",
        "Untuk penulisan tipe data tuple, penulisannya diapit dengan tanda (). Dan untuk pemisah datanya dipisah dengan tanda koma."
      ],
      "metadata": {
        "id": "K7hmlhsHt0yf"
      },
      "id": "K7hmlhsHt0yf"
    }
  ],
  "metadata": {
    "kernelspec": {
      "display_name": "Python 3 (ipykernel)",
      "language": "python",
      "name": "python3"
    },
    "language_info": {
      "codemirror_mode": {
        "name": "ipython",
        "version": 3
      },
      "file_extension": ".py",
      "mimetype": "text/x-python",
      "name": "python",
      "nbconvert_exporter": "python",
      "pygments_lexer": "ipython3",
      "version": "3.9.7"
    },
    "colab": {
      "provenance": []
    }
  },
  "nbformat": 4,
  "nbformat_minor": 5
}
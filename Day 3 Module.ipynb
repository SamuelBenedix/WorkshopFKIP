{
 "cells": [
  {
   "cell_type": "markdown",
   "id": "732774af",
   "metadata": {
    "id": "732774af"
   },
   "source": [
    "## Tuple\n",
    "\n",
    "Tuple adalah sebuah tipe data yang mirip seperti list. Hanya saja tipe data ini bersifat immutable alias tidak bisa dirubah.\n",
    "\n",
    "Untuk penulisan tipe data tuple, penulisannya diapit dengan tanda (). Dan untuk pemisah datanya dipisah dengan tanda koma."
   ]
  },
  {
   "cell_type": "code",
   "execution_count": 4,
   "id": "8e005de0",
   "metadata": {
    "id": "8e005de0"
   },
   "outputs": [],
   "source": [
    "# Contoh inisalisasi data tuple\n",
    "data = (\"matematika\", \"kalkulus\", \"statistik\")"
   ]
  },
  {
   "cell_type": "code",
   "execution_count": 5,
   "id": "4a37930a",
   "metadata": {
    "colab": {
     "base_uri": "https://localhost:8080/"
    },
    "id": "4a37930a",
    "outputId": "508f8522-24eb-4814-903e-f04da42cb5f7"
   },
   "outputs": [
    {
     "name": "stdout",
     "output_type": "stream",
     "text": [
      "('matematika', 'kalkulus', 'statistik')\n"
     ]
    }
   ],
   "source": [
    "# Menampikan seluruh data tuple\n",
    "print(data)"
   ]
  },
  {
   "cell_type": "code",
   "execution_count": 7,
   "id": "d5727921",
   "metadata": {
    "colab": {
     "base_uri": "https://localhost:8080/",
     "height": 198
    },
    "id": "d5727921",
    "outputId": "063a467d-da1d-4516-8bc8-9e98851c7f6d",
    "scrolled": true
   },
   "outputs": [
    {
     "ename": "TypeError",
     "evalue": "ignored",
     "output_type": "error",
     "traceback": [
      "\u001b[0;31m---------------------------------------------------------------------------\u001b[0m",
      "\u001b[0;31mTypeError\u001b[0m                                 Traceback (most recent call last)",
      "\u001b[0;32m<ipython-input-7-abb7a56411ef>\u001b[0m in \u001b[0;36m<module>\u001b[0;34m\u001b[0m\n\u001b[1;32m      1\u001b[0m \u001b[0;31m# mengubah isi pada data tuple\u001b[0m\u001b[0;34m\u001b[0m\u001b[0;34m\u001b[0m\u001b[0;34m\u001b[0m\u001b[0m\n\u001b[1;32m      2\u001b[0m \u001b[0;34m\u001b[0m\u001b[0m\n\u001b[0;32m----> 3\u001b[0;31m \u001b[0mdata\u001b[0m\u001b[0;34m[\u001b[0m\u001b[0;36m0\u001b[0m\u001b[0;34m]\u001b[0m \u001b[0;34m=\u001b[0m \u001b[0;34m\"biologi\"\u001b[0m\u001b[0;34m\u001b[0m\u001b[0;34m\u001b[0m\u001b[0m\n\u001b[0m",
      "\u001b[0;31mTypeError\u001b[0m: 'tuple' object does not support item assignment"
     ]
    }
   ],
   "source": [
    "# mengubah isi pada data tuple\n",
    "\n",
    "data[0] = \"biologi\""
   ]
  },
  {
   "cell_type": "markdown",
   "id": "983b92a9",
   "metadata": {
    "id": "983b92a9"
   },
   "source": [
    "Pada contoh kode program diatas, yaitu mencoba mengubah isi dari data tuple, program akan menampilkan error. Hal ini dikarenakan tipe data tuple bersifat immutable seperti yang dijelaskan diatas."
   ]
  },
  {
   "cell_type": "code",
   "execution_count": 35,
   "id": "9d925f59",
   "metadata": {
    "colab": {
     "base_uri": "https://localhost:8080/"
    },
    "id": "9d925f59",
    "outputId": "8d2f4135-1125-4f99-9202-64d93b5e90a6"
   },
   "outputs": [
    {
     "data": {
      "text/plain": [
       "('matematika', 'kalkulus', 'statistik', 'bahasa', 'pkn', 'biologi')"
      ]
     },
     "execution_count": 35,
     "metadata": {},
     "output_type": "execute_result"
    }
   ],
   "source": [
    "# Menggabungkan 2 data tuple\n",
    "data = (\"matematika\", \"kalkulus\", \"statistik\")\n",
    "data2 = (\"bahasa\", \"pkn\", \"biologi\")\n",
    "\n",
    "data_gabung = data + data2\n",
    "\n",
    "data_gabung"
   ]
  },
  {
   "cell_type": "markdown",
   "id": "cf2a3034",
   "metadata": {
    "id": "cf2a3034"
   },
   "source": [
    "Pada contoh kode program diatas, yaitu menggabungkan 2 data tuple menjadi 1 data. Hal ini bisa dilakukan karena tidak termasuk dalam manipulasi data yang telah didefinisikan. Tetapi menggabungkan 2 data sehingga menjadi 1 data baru.\n",
    "\n",
    "Beda hal jika ingin menambahkan data baru pada data tuple yang telah didefinisikan, maka program akan menampilkan error. Karena data tuple yang telah didefinisikan tidak bisa di manipulasi lagi datanya.\n",
    "\n",
    "Biasanya, tipe data ini didefinisikan sebagai tipe data pada variable yang datanya telah final, hal ini diperlukan agar data yang telah diproses tidak berubah lagi saat digunakan pada fungsi atau kode program lain."
   ]
  },
  {
   "cell_type": "markdown",
   "id": "fa87412d",
   "metadata": {
    "id": "fa87412d"
   },
   "source": [
    "## Dictionary\n",
    "\n",
    "Dictionary adalah tipe data yang sama seperti list. Hanya saja tipe data ini harus mendefinisikan index dari nilai yang didefinisikan. Secara umum bisa disebut dengan objek.\n",
    "\n",
    "Karakteristik dari tipe data ini adalah penulisannya diapit dengan tanda {} atau kurung kurawal dan datanya dipisahkan oleh tanda coma. Dan juga setiap value harus didefinisikan index nya yang dimana di index dan value dipisahkan dengan tanda titik dua (:)."
   ]
  },
  {
   "cell_type": "code",
   "execution_count": 36,
   "id": "e788ba17",
   "metadata": {
    "colab": {
     "base_uri": "https://localhost:8080/"
    },
    "id": "e788ba17",
    "outputId": "b1197abc-45fa-4fc3-a135-1b3600686b6a"
   },
   "outputs": [
    {
     "name": "stdout",
     "output_type": "stream",
     "text": [
      "{'nama': 'Nama Anda', 'nim': 'Nim Anda', 'jurusan': 'Jurusan Anda'}\n"
     ]
    }
   ],
   "source": [
    "# Contoh inisialisasi data dictionary\n",
    "biodata = {\n",
    "    \"nama\"    : \"Nama Anda\",\n",
    "    \"nim\"     : \"Nim Anda\",\n",
    "    \"jurusan\" : \"Jurusan Anda\"\n",
    "}\n",
    "\n",
    "print(biodata)"
   ]
  },
  {
   "cell_type": "code",
   "execution_count": 37,
   "id": "683f154f",
   "metadata": {
    "colab": {
     "base_uri": "https://localhost:8080/"
    },
    "id": "683f154f",
    "outputId": "748a4766-f5a9-4961-93f6-e98e0d7d668e"
   },
   "outputs": [
    {
     "name": "stdout",
     "output_type": "stream",
     "text": [
      "Nama Anda\n"
     ]
    }
   ],
   "source": [
    "# menampilkan nilai index nama dari data dictionary\n",
    "print(biodata[\"nama\"])"
   ]
  },
  {
   "cell_type": "markdown",
   "id": "02033760",
   "metadata": {
    "id": "02033760"
   },
   "source": [
    "Untuk menampilkan nilai dari data dictionary secara spesifik, dapat dengan menyertakan index nya yang diapit dengan kurung siku seperti diatas"
   ]
  },
  {
   "cell_type": "code",
   "execution_count": 38,
   "id": "0915cb84",
   "metadata": {
    "colab": {
     "base_uri": "https://localhost:8080/"
    },
    "id": "0915cb84",
    "outputId": "add5632b-ce1b-4034-8ed7-c54720fcd1d5"
   },
   "outputs": [
    {
     "name": "stdout",
     "output_type": "stream",
     "text": [
      "{'nama': 'Budi', 'nim': 'Nim Anda', 'jurusan': 'Jurusan Anda'}\n"
     ]
    }
   ],
   "source": [
    "# Contoh mengubah isi pada data dictionary\n",
    "biodata[\"nama\"] = \"Budi\"\n",
    "\n",
    "print(biodata)"
   ]
  },
  {
   "cell_type": "markdown",
   "id": "dd5b5449",
   "metadata": {
    "id": "dd5b5449"
   },
   "source": [
    "Untuk mengubah nilai dari data dictionary, caranya adalah dengan mendefinisikan variable dan indexnya yang diapit dengan kurung siku seperti diatas, lalu didefinisikan valuenya yang baru"
   ]
  },
  {
   "cell_type": "code",
   "execution_count": 39,
   "id": "efa66d66",
   "metadata": {
    "colab": {
     "base_uri": "https://localhost:8080/"
    },
    "id": "efa66d66",
    "outputId": "c78e03f8-9c13-4fc7-f7c4-c179d0e09bc7"
   },
   "outputs": [
    {
     "name": "stdout",
     "output_type": "stream",
     "text": [
      "{'nama': 'Budi', 'nim': 'Nim Anda', 'jurusan': 'Jurusan Anda', 'kelas': 'Matematika A Indralaya'}\n"
     ]
    }
   ],
   "source": [
    "# Menambahkan data baru didalam data dictionary\n",
    "biodata[\"kelas\"] = \"Matematika A Indralaya\"\n",
    "\n",
    "print(biodata)"
   ]
  },
  {
   "cell_type": "markdown",
   "id": "8e8c2626",
   "metadata": {
    "id": "8e8c2626"
   },
   "source": [
    "Untuk menambahkan data baru didalam dictionary, caranya sama seperti mengubah nilai, tinggal mendefinisikan index barunya saja."
   ]
  },
  {
   "cell_type": "code",
   "execution_count": 40,
   "id": "d03ef802",
   "metadata": {
    "colab": {
     "base_uri": "https://localhost:8080/"
    },
    "id": "d03ef802",
    "outputId": "b84fca79-da9f-45b8-ec92-a2b3e3e62a2e"
   },
   "outputs": [
    {
     "name": "stdout",
     "output_type": "stream",
     "text": [
      "{'nama': 'Budi', 'nim': 'Nim Anda', 'jurusan': 'Jurusan Anda'}\n"
     ]
    }
   ],
   "source": [
    "# Menghapus data secara spesifik pada data dictionary\n",
    "del biodata[\"kelas\"]\n",
    "\n",
    "print(biodata)"
   ]
  },
  {
   "cell_type": "markdown",
   "id": "27637c18",
   "metadata": {
    "id": "27637c18"
   },
   "source": [
    "Pada contoh diatas, adalah cara menghapus data pada data dictionary secara spesifik, caranya dalah dengan menambahkan syntax del lalu nama variable dengan index nya."
   ]
  },
  {
   "cell_type": "code",
   "execution_count": 41,
   "id": "471f6645",
   "metadata": {
    "colab": {
     "base_uri": "https://localhost:8080/"
    },
    "id": "471f6645",
    "outputId": "4031e0cb-ca86-49ff-c7e5-5d8ec0a2f475"
   },
   "outputs": [
    {
     "name": "stdout",
     "output_type": "stream",
     "text": [
      "{}\n"
     ]
    }
   ],
   "source": [
    "# Menghapus seluruh data pada data dictionary\n",
    "biodata.clear()\n",
    "\n",
    "print(biodata)"
   ]
  },
  {
   "cell_type": "markdown",
   "id": "336e5eb1",
   "metadata": {
    "id": "336e5eb1"
   },
   "source": [
    "Pada contoh diatas, adalah cara menghapus seluruh data dalam data dictionary sehingga variable biodata menjadi kosong sekarang."
   ]
  },
  {
   "cell_type": "markdown",
   "id": "7e45352f",
   "metadata": {
    "id": "7e45352f"
   },
   "source": [
    "Selanjutnya adalah menyalin data dictionary ke variable baru. Dalam penyalinan ini, dapat dilakukan dengan 2 cara, yaitu sebagai berikut."
   ]
  },
  {
   "cell_type": "code",
   "execution_count": 42,
   "id": "8c714cdb",
   "metadata": {
    "colab": {
     "base_uri": "https://localhost:8080/"
    },
    "id": "8c714cdb",
    "outputId": "7ffb0a1c-1097-458d-e9ce-9864e2be392b"
   },
   "outputs": [
    {
     "name": "stdout",
     "output_type": "stream",
     "text": [
      "{'nama': 'Nama Anda', 'nim': 'Nim Anda', 'jurusan': 'Jurusan Anda'}\n"
     ]
    }
   ],
   "source": [
    "# Menyalin data dengan metode 1\n",
    "biodata = {\n",
    "    \"nama\"    : \"Nama Anda\",\n",
    "    \"nim\"     : \"Nim Anda\",\n",
    "    \"jurusan\" : \"Jurusan Anda\"\n",
    "}\n",
    "\n",
    "biodataku = biodata\n",
    "\n",
    "print(biodataku)"
   ]
  },
  {
   "cell_type": "code",
   "execution_count": 43,
   "id": "23971bd4",
   "metadata": {
    "colab": {
     "base_uri": "https://localhost:8080/"
    },
    "id": "23971bd4",
    "outputId": "ef4f3a77-8149-40f7-8d34-d41b2cb024ee"
   },
   "outputs": [
    {
     "name": "stdout",
     "output_type": "stream",
     "text": [
      "{'nama': 'Budi', 'nim': '0987654321', 'jurusan': 'Matematika'}\n"
     ]
    }
   ],
   "source": [
    "# Menyalin data dengan metode 2\n",
    "biodata_baru = {\n",
    "    \"nama\"    : \"Budi\",\n",
    "    \"nim\"     : \"0987654321\",\n",
    "    \"jurusan\" : \"Matematika\"\n",
    "}\n",
    "\n",
    "biodata_budi = biodata_baru.copy()\n",
    "\n",
    "print(biodata_budi)"
   ]
  },
  {
   "cell_type": "markdown",
   "id": "255b6c8e",
   "metadata": {
    "id": "255b6c8e"
   },
   "source": [
    "Perbedaan dari 2 cara diatas terletak pada saat proses kopinya.\n",
    "\n",
    "Metode pertama, data yang dikopi tidak benar-benar disalin kedalam variable baru, tetapi isi dari variable biodata di referensikan kedalam variable biodataku. Sehingga saat data di variable biodata dimanipulasi, maka data pada variable biodataku akan berubah juga\n",
    "\n",
    "Sedangkan pada metode kedua, data dari variable biodata_baru akan benar-benar disalin ke variable biodata_budi. Sehingga menjadi benar-benar data baru, walaupun data dari variable biodata_baru dirubah, maka data di variable biodata_budi tidak akan berubah."
   ]
  },
  {
   "cell_type": "code",
   "execution_count": 44,
   "id": "ff19bd07",
   "metadata": {
    "colab": {
     "base_uri": "https://localhost:8080/"
    },
    "id": "ff19bd07",
    "outputId": "e022f5a8-c81c-43ce-c57d-4e07fb2382da"
   },
   "outputs": [
    {
     "name": "stdout",
     "output_type": "stream",
     "text": [
      "{'nama': 'Anto', 'nim': 'Nim Anda', 'jurusan': 'Jurusan Anda'}\n"
     ]
    }
   ],
   "source": [
    "# Pembuktian metode 1\n",
    "biodata['nama'] = \"Anto\"\n",
    "\n",
    "print(biodataku)"
   ]
  },
  {
   "cell_type": "code",
   "execution_count": 45,
   "id": "6d8a5a4d",
   "metadata": {
    "colab": {
     "base_uri": "https://localhost:8080/"
    },
    "id": "6d8a5a4d",
    "outputId": "c66a2220-3c44-4f07-c04b-b7f32d788472"
   },
   "outputs": [
    {
     "name": "stdout",
     "output_type": "stream",
     "text": [
      "{'nama': 'Budi', 'nim': '0987654321', 'jurusan': 'Matematika'}\n"
     ]
    }
   ],
   "source": [
    "# Pembuktian metode 2\n",
    "\n",
    "biodata_baru['nama'] = \"Budi Sentosa\"\n",
    "\n",
    "print(biodata_budi)"
   ]
  },
  {
   "cell_type": "markdown",
   "id": "0e9d5056",
   "metadata": {
    "id": "0e9d5056"
   },
   "source": [
    "## Sets\n",
    "Set merupakan tipe data gabungan dari tipe data list, tuple, dan dictionary. \n",
    "\n",
    "Tipe data ini memiliki memadukan karakteristik dari ketiga tipe data tersebut, yaitu : \n",
    "\n",
    "- Menggunakan kurung kurawal {} untuk mengapit datanya seperti dictionary\n",
    "- Tidak memiliki index seperti list\n",
    "- Tidak bisa dlakukan perubahan data seperti tuple\n",
    "\n",
    "\n",
    "Akan tetapi, tipe data set bisa menambah data baru atau menghapus data, tidak seperti tuple."
   ]
  },
  {
   "cell_type": "code",
   "execution_count": 46,
   "id": "089b1bd3",
   "metadata": {
    "colab": {
     "base_uri": "https://localhost:8080/"
    },
    "id": "089b1bd3",
    "outputId": "4fd876a9-3b88-425e-91f4-56a0f9a8bc9e"
   },
   "outputs": [
    {
     "name": "stdout",
     "output_type": "stream",
     "text": [
      "{'indralaya', 'Andika', '087712313123'}\n"
     ]
    }
   ],
   "source": [
    "# Contoh inisalisasi tipe data set\n",
    "\n",
    "data_saya = {\"Andika\", \"087712313123\", \"indralaya\"}\n",
    "\n",
    "print(data_saya)"
   ]
  },
  {
   "cell_type": "code",
   "execution_count": 47,
   "id": "3c306562",
   "metadata": {
    "colab": {
     "base_uri": "https://localhost:8080/"
    },
    "id": "3c306562",
    "outputId": "55a9500e-7184-4c38-e3de-2039db318bbc"
   },
   "outputs": [
    {
     "name": "stdout",
     "output_type": "stream",
     "text": [
      "<class 'set'>\n"
     ]
    }
   ],
   "source": [
    "print(type(data_saya))"
   ]
  },
  {
   "cell_type": "code",
   "execution_count": 48,
   "id": "460554de",
   "metadata": {
    "colab": {
     "base_uri": "https://localhost:8080/"
    },
    "id": "460554de",
    "outputId": "69262eca-0a20-4daa-e84b-f4d53be47642"
   },
   "outputs": [
    {
     "name": "stdout",
     "output_type": "stream",
     "text": [
      "{'indralaya', 'Andika', '087712313123', 'matematika'}\n"
     ]
    }
   ],
   "source": [
    "# Menambahkan data baru kedalam data tipe set\n",
    "data_saya.add(\"matematika\")\n",
    "\n",
    "print(data_saya)"
   ]
  },
  {
   "cell_type": "code",
   "execution_count": 49,
   "id": "2e534b0d",
   "metadata": {
    "colab": {
     "base_uri": "https://localhost:8080/"
    },
    "id": "2e534b0d",
    "outputId": "835f35da-2118-4c14-9f52-632472e70e8f"
   },
   "outputs": [
    {
     "name": "stdout",
     "output_type": "stream",
     "text": [
      "{'indralaya', 'Andika', '087712313123'}\n"
     ]
    }
   ],
   "source": [
    "# Menghapus data pada tipe data set\n",
    "data_saya.remove(\"matematika\")\n",
    "\n",
    "print(data_saya)"
   ]
  },
  {
   "cell_type": "markdown",
   "id": "d05b9769",
   "metadata": {
    "id": "d05b9769"
   },
   "source": [
    "Untuk diketahui, tipe data set saat ditampilkan akan mengurutkan datanya secara otomatis seperti contoh-contoh diatas, hingga data dengan tipe set tidak bisa dilakukan sorting dan tidak bisa menentukan index nya."
   ]
  },
  {
   "cell_type": "code",
   "execution_count": 49,
   "id": "f959ac5a",
   "metadata": {
    "id": "f959ac5a"
   },
   "outputs": [],
   "source": []
  },
  {
   "cell_type": "markdown",
   "id": "3c6776da",
   "metadata": {
    "id": "3c6776da"
   },
   "source": [
    "# Function vs Procedure"
   ]
  },
  {
   "cell_type": "markdown",
   "id": "66d7f1c6",
   "metadata": {
    "id": "66d7f1c6"
   },
   "source": [
    "## Function"
   ]
  },
  {
   "cell_type": "markdown",
   "id": "d008e05b",
   "metadata": {
    "id": "d008e05b"
   },
   "source": [
    "Function (fungsi) berisi se deretan algoritma untuk mengoperasikan variabel dengan nilai return (nilai kembali)"
   ]
  },
  {
   "cell_type": "code",
   "execution_count": 50,
   "id": "4143d473",
   "metadata": {
    "id": "4143d473"
   },
   "outputs": [],
   "source": [
    "import random\n",
    "def angka_acak():\n",
    "    angka = random.randint(0,10)\n",
    "    return angka"
   ]
  },
  {
   "cell_type": "code",
   "execution_count": 51,
   "id": "8d9ccd43",
   "metadata": {
    "colab": {
     "base_uri": "https://localhost:8080/"
    },
    "id": "8d9ccd43",
    "outputId": "d333a09c-2884-4868-df69-d52382784a77",
    "scrolled": true
   },
   "outputs": [
    {
     "name": "stdout",
     "output_type": "stream",
     "text": [
      "0\n"
     ]
    }
   ],
   "source": [
    "print(angka_acak())"
   ]
  },
  {
   "cell_type": "markdown",
   "id": "9c114d41",
   "metadata": {
    "id": "9c114d41"
   },
   "source": [
    "Perlu diperhatikan di dalam fungsi `angka_acak()` terdapat syntax:\n",
    "```python\n",
    "return angka\n",
    "```\n",
    "\n",
    "`return` digunakan untuk mengembalikan variabel ketika fungsi tersebut dipanggil "
   ]
  },
  {
   "cell_type": "markdown",
   "id": "bd093798",
   "metadata": {
    "id": "bd093798"
   },
   "source": [
    "Karena fungsi tersebut mengembalikan variabel, variabel yang dikembalikan dari fungsi tersebut dapat dimasukkan ke dalam variabel lain"
   ]
  },
  {
   "cell_type": "code",
   "execution_count": 52,
   "id": "93448c10",
   "metadata": {
    "colab": {
     "base_uri": "https://localhost:8080/"
    },
    "id": "93448c10",
    "outputId": "9403ff58-eb5d-4eeb-a6c5-659bb73fb9d0"
   },
   "outputs": [
    {
     "name": "stdout",
     "output_type": "stream",
     "text": [
      "5\n"
     ]
    }
   ],
   "source": [
    "acak = angka_acak()\n",
    "print(acak)"
   ]
  },
  {
   "cell_type": "markdown",
   "id": "718306a5",
   "metadata": {
    "id": "718306a5"
   },
   "source": [
    "## Procedure"
   ]
  },
  {
   "cell_type": "markdown",
   "id": "ebd7cc37",
   "metadata": {
    "id": "ebd7cc37"
   },
   "source": [
    "Procedure (prosedur) berisi se deretan algoritma untuk mengoperasikan variabel tanpa nilai return"
   ]
  },
  {
   "cell_type": "code",
   "execution_count": 53,
   "id": "58547161",
   "metadata": {
    "id": "58547161"
   },
   "outputs": [],
   "source": [
    "def prosedur_print():\n",
    "    print('Hello world!')"
   ]
  },
  {
   "cell_type": "code",
   "execution_count": 54,
   "id": "dd1950e4",
   "metadata": {
    "colab": {
     "base_uri": "https://localhost:8080/"
    },
    "id": "dd1950e4",
    "outputId": "2cda82b4-1938-4082-d98c-4eecc3b27a07"
   },
   "outputs": [
    {
     "name": "stdout",
     "output_type": "stream",
     "text": [
      "Hello world!\n"
     ]
    }
   ],
   "source": [
    "prosedur_print()"
   ]
  },
  {
   "cell_type": "markdown",
   "id": "c96830bd",
   "metadata": {
    "id": "c96830bd"
   },
   "source": [
    "Prosedur dapat dimasukkan ke dalam variabel namun cara ini tidak baik saat implementasi karena akan membuat program yang dibuat menjadi lebih sulit untuk dibaca"
   ]
  },
  {
   "cell_type": "code",
   "execution_count": 55,
   "id": "4f62291e",
   "metadata": {
    "id": "4f62291e"
   },
   "outputs": [],
   "source": [
    "a = prosedur_print"
   ]
  },
  {
   "cell_type": "code",
   "execution_count": 56,
   "id": "6c387026",
   "metadata": {
    "colab": {
     "base_uri": "https://localhost:8080/"
    },
    "id": "6c387026",
    "outputId": "b764cec2-6a3c-49cb-b8f2-e7b6f1f67f56"
   },
   "outputs": [
    {
     "name": "stdout",
     "output_type": "stream",
     "text": [
      "Hello world!\n",
      "Hello world!\n"
     ]
    }
   ],
   "source": [
    "a()\n",
    "prosedur_print()"
   ]
  },
  {
   "cell_type": "markdown",
   "id": "bbb08ce4",
   "metadata": {
    "id": "bbb08ce4"
   },
   "source": [
    "Meskipun prosedur tersebut menjadi dua, kedua nya masih memiliki tipe fungsi yang sama"
   ]
  },
  {
   "cell_type": "code",
   "execution_count": 57,
   "id": "4c9b5a27",
   "metadata": {
    "colab": {
     "base_uri": "https://localhost:8080/"
    },
    "id": "4c9b5a27",
    "outputId": "832b3dc1-58ca-4c48-b484-270e919ea8ee"
   },
   "outputs": [
    {
     "name": "stdout",
     "output_type": "stream",
     "text": [
      "<function prosedur_print at 0x7f13f750e5f0>\n",
      "<function prosedur_print at 0x7f13f750e5f0>\n"
     ]
    }
   ],
   "source": [
    "print(a)\n",
    "print(prosedur_print)"
   ]
  },
  {
   "cell_type": "markdown",
   "id": "2d434485",
   "metadata": {
    "id": "2d434485"
   },
   "source": [
    "# Argumen atau parameter"
   ]
  },
  {
   "cell_type": "markdown",
   "id": "95e74334",
   "metadata": {
    "id": "95e74334"
   },
   "source": [
    "Argumen adalah variabel yang dimasukkan ke dalam sebuah fungsi untuk di proses. variabel yang berada di fungsi bersifat lokal. hanya dapat diakses oleh fungsi itu saja. tidak dapat di akses dari luar fungsi itu sendiri. namun variabel yang berada di luar fungsi dapat dibaca di dalam fungsi\n",
    "\n",
    "Pada masing-masing fungsi, terdapat 1 argumen yang akan digunakan di dalam fungsi"
   ]
  },
  {
   "cell_type": "code",
   "execution_count": 58,
   "id": "e01d906b",
   "metadata": {
    "id": "e01d906b"
   },
   "outputs": [],
   "source": [
    "def luas_persegi(sisi):\n",
    "    luas = sisi*sisi\n",
    "    return luas\n",
    "\n",
    "def keliling_persegi(sisi):\n",
    "    keliling = 4*sisi\n",
    "    return keliling\n",
    "\n",
    "def luas_lingkaran(r):\n",
    "    luas = (22/7)*(r**2)\n",
    "    return luas\n",
    "\n",
    "def keliling_lingkaran(sisi):\n",
    "    keliling = 4*sisi\n",
    "    return keliling\n"
   ]
  },
  {
   "cell_type": "markdown",
   "id": "1aac2200",
   "metadata": {
    "id": "1aac2200"
   },
   "source": [
    "Sel dibawah memberikan 1 argumen kepada fungsi `luas_persegi`"
   ]
  },
  {
   "cell_type": "code",
   "execution_count": 59,
   "id": "b1212cc5",
   "metadata": {
    "colab": {
     "base_uri": "https://localhost:8080/"
    },
    "id": "b1212cc5",
    "outputId": "2ef5ad28-8deb-49c3-f0f7-d0d687692823"
   },
   "outputs": [
    {
     "name": "stdout",
     "output_type": "stream",
     "text": [
      "25\n"
     ]
    }
   ],
   "source": [
    "print(luas_persegi(5))"
   ]
  },
  {
   "cell_type": "markdown",
   "id": "6f6090f9",
   "metadata": {
    "id": "6f6090f9"
   },
   "source": [
    "Sel dibawah terjadi error dikarenakan variabel `luas` berada di dalam fungsi `luas_persegi` dan `luas_lingkaran`. variabel `luas` hanya bisa diakses di dalam fungsi"
   ]
  },
  {
   "cell_type": "code",
   "execution_count": 60,
   "id": "c6cfebec",
   "metadata": {
    "colab": {
     "base_uri": "https://localhost:8080/",
     "height": 164
    },
    "id": "c6cfebec",
    "outputId": "89cb1c23-8d5a-41bb-9e78-4fab5af7984b",
    "scrolled": true
   },
   "outputs": [
    {
     "ename": "NameError",
     "evalue": "ignored",
     "output_type": "error",
     "traceback": [
      "\u001b[0;31m---------------------------------------------------------------------------\u001b[0m",
      "\u001b[0;31mNameError\u001b[0m                                 Traceback (most recent call last)",
      "\u001b[0;32m<ipython-input-60-aea70c90ae84>\u001b[0m in \u001b[0;36m<module>\u001b[0;34m\u001b[0m\n\u001b[0;32m----> 1\u001b[0;31m \u001b[0mprint\u001b[0m\u001b[0;34m(\u001b[0m\u001b[0mluas\u001b[0m\u001b[0;34m)\u001b[0m\u001b[0;34m\u001b[0m\u001b[0;34m\u001b[0m\u001b[0m\n\u001b[0m",
      "\u001b[0;31mNameError\u001b[0m: name 'luas' is not defined"
     ]
    }
   ],
   "source": [
    "print(luas)"
   ]
  },
  {
   "cell_type": "markdown",
   "id": "8bafac04",
   "metadata": {
    "id": "8bafac04"
   },
   "source": [
    "Sel dibawah menunjukkan fungsi `penambahan` dapat membaca variabel `a` yang berada di luar fungsi"
   ]
  },
  {
   "cell_type": "code",
   "execution_count": 61,
   "id": "eeacc0ba",
   "metadata": {
    "colab": {
     "base_uri": "https://localhost:8080/"
    },
    "id": "eeacc0ba",
    "outputId": "d70619df-2f90-4852-93f3-b2eb3dde6014"
   },
   "outputs": [
    {
     "name": "stdout",
     "output_type": "stream",
     "text": [
      "5\n",
      "15\n"
     ]
    }
   ],
   "source": [
    "a = 5\n",
    "\n",
    "def penambahan(nilai):\n",
    "    hasil = a+nilai\n",
    "    return hasil\n",
    "\n",
    "print(a)\n",
    "a = penambahan(10)\n",
    "print(a)"
   ]
  },
  {
   "cell_type": "markdown",
   "id": "d757c424",
   "metadata": {
    "id": "d757c424"
   },
   "source": [
    "# Multiple Argumen"
   ]
  },
  {
   "cell_type": "markdown",
   "id": "7b51405e",
   "metadata": {
    "id": "7b51405e"
   },
   "source": [
    "Fungsi yang dibuat dapat meminta lebih dari satu variabel yang diperlukan"
   ]
  },
  {
   "cell_type": "code",
   "execution_count": 62,
   "id": "5fcbf73e",
   "metadata": {
    "id": "5fcbf73e"
   },
   "outputs": [],
   "source": [
    "def luas_persegi_panjang(panjang,lebar):\n",
    "    luas = panjang*lebar\n",
    "    return luas\n",
    "\n",
    "def keliling_persegi_panjang(panjang,lebar):\n",
    "    keliling = 2*(panjang+lebar)\n",
    "    return keliling\n",
    "\n",
    "def luas_segitiga(alas,tinggi):\n",
    "    luas = (alas*tinggi)/2\n",
    "    return luas\n",
    "\n",
    "def keliling_segitiga(tegak,baring,miring):\n",
    "    keliling = tegak+baring+miring\n",
    "    return keliling\n",
    "\n",
    "def pitagoras(tegak,baring):\n",
    "    miring = ((tegak**2)*(baring**2))**(1/2)\n",
    "    return miring"
   ]
  },
  {
   "cell_type": "markdown",
   "id": "9105dd0b",
   "metadata": {
    "id": "9105dd0b"
   },
   "source": [
    "Argumen yang diminta, akan diberikan sesuai dengan urutannya. Pada sel dibawah, fungsi `luas_persegi_panjang` meminta 2 variabel yaitu `panjang` dan `lebar`. `8` akan digunakan sebagai `panjang`. `4` akan digunakan sebagai `lebar`"
   ]
  },
  {
   "cell_type": "code",
   "execution_count": 63,
   "id": "29337236",
   "metadata": {
    "colab": {
     "base_uri": "https://localhost:8080/"
    },
    "id": "29337236",
    "outputId": "6a22f174-041a-4a72-c532-c0b5f234deb6"
   },
   "outputs": [
    {
     "name": "stdout",
     "output_type": "stream",
     "text": [
      "32\n"
     ]
    }
   ],
   "source": [
    "print(luas_persegi_panjang(8,4))"
   ]
  },
  {
   "cell_type": "markdown",
   "id": "cb1a8537",
   "metadata": {
    "id": "cb1a8537"
   },
   "source": [
    "# Arbitrary argumen"
   ]
  },
  {
   "cell_type": "markdown",
   "id": "573cda9c",
   "metadata": {
    "id": "573cda9c"
   },
   "source": [
    "Argumen yang diminta oleh suatu fungsi atau prosedur dapat dinamis. Pada suatu fungsi atau prosedur, dapat meminta satu argumen dengan menambah karakter `*` di depan argumen. Pada saat memanggil fungsi atau prosedur tersebut, fungsi atau prosedur dapat memberi lebih dari satu argumen sebagai `array`. \n",
    "\n",
    "Dengan begitu, pada saat memanggil fungsi tersebut, dapat memberi lebih dari satu argumen. "
   ]
  },
  {
   "cell_type": "code",
   "execution_count": 64,
   "id": "0365e413",
   "metadata": {
    "id": "0365e413"
   },
   "outputs": [],
   "source": [
    "def thirdArg(*arr):\n",
    "    print(f'{arr[2]}')\n",
    "\n",
    "def firstArg(*arr):\n",
    "    print(arr[0])"
   ]
  },
  {
   "cell_type": "code",
   "execution_count": 65,
   "id": "69212509",
   "metadata": {
    "colab": {
     "base_uri": "https://localhost:8080/"
    },
    "id": "69212509",
    "outputId": "e0ee8f4c-0b0a-424e-cc5e-423962f50ac0"
   },
   "outputs": [
    {
     "name": "stdout",
     "output_type": "stream",
     "text": [
      "Ketiga\n",
      "Pertama\n"
     ]
    }
   ],
   "source": [
    "thirdArg('Pertama','Kedua','Ketiga')\n",
    "firstArg('Pertama','Kedua','Ketiga')"
   ]
  },
  {
   "cell_type": "markdown",
   "id": "a4a2745f",
   "metadata": {
    "id": "a4a2745f"
   },
   "source": [
    "# Keyword Argumen"
   ]
  },
  {
   "cell_type": "markdown",
   "id": "1e884729",
   "metadata": {
    "id": "1e884729"
   },
   "source": [
    "Sebelumnya sudah pernah di deklarasikan fungsi `luas_persegi_panjang`. Fungsi tersebut meminta 2 argumen. `panjang` dan `lebar`.\n",
    "\n",
    "Argumen yang diberikan kepada suatu fungsi atau prosedur bisa diberikan tidak sesuai urutan asalkan argumen yang diminta diperjelas ketika diberi\n",
    "\n",
    "Pada fungsi dibawah, fungsi `luas_persegi_panjang` diberi argumen `lebar` terlebih dahulu. Sedangkan pada fungsi tersebut, argumen pertama adalah `panjang`"
   ]
  },
  {
   "cell_type": "code",
   "execution_count": 66,
   "id": "502aa018",
   "metadata": {
    "colab": {
     "base_uri": "https://localhost:8080/"
    },
    "id": "502aa018",
    "outputId": "b886d68d-effb-4202-bdd1-8fbd1e23a410"
   },
   "outputs": [
    {
     "name": "stdout",
     "output_type": "stream",
     "text": [
      "48\n"
     ]
    }
   ],
   "source": [
    "print(luas_persegi_panjang(lebar=6,panjang=8))"
   ]
  },
  {
   "cell_type": "markdown",
   "id": "a900e04c",
   "metadata": {
    "id": "a900e04c"
   },
   "source": [
    "# Arbitrary keyword argumen"
   ]
  },
  {
   "cell_type": "markdown",
   "id": "2a3eeb2d",
   "metadata": {
    "id": "2a3eeb2d"
   },
   "source": [
    "Arbitrary keyword argumen memiliki sifat yang sama dengan Arbitrary argumen. Bedanya adalah argumen yang diberikan akan dibaca sebagai `dictionary` oleh fungsi atau prosedur. Perbedaan lainnya adalah pada deklarasi fungsi atau prosedur, argumen akan diberi karakter `**` sebelum argumen"
   ]
  },
  {
   "cell_type": "markdown",
   "id": "1c7c5a52",
   "metadata": {
    "id": "1c7c5a52"
   },
   "source": [
    "<div>\n",
    "<img src=\"gambar/day3-1.png\" width=\"750\"/>\n",
    "</div>"
   ]
  },
  {
   "cell_type": "code",
   "execution_count": 67,
   "id": "ea3bad39",
   "metadata": {
    "id": "ea3bad39"
   },
   "outputs": [],
   "source": [
    "def persegi(**nilai):\n",
    "    if nilai['rumus'] == 'luas':\n",
    "        hasil = nilai['sisi']*nilai['sisi']\n",
    "    elif nilai['rumus'] == 'keliling':\n",
    "        hasil = 4*nilai['sisi']\n",
    "    else:\n",
    "        hasil = 0\n",
    "    return hasil"
   ]
  },
  {
   "cell_type": "code",
   "execution_count": 68,
   "id": "291ab9e0",
   "metadata": {
    "colab": {
     "base_uri": "https://localhost:8080/"
    },
    "id": "291ab9e0",
    "outputId": "192f011e-0931-4b3c-c4c5-03db8ad94c47"
   },
   "outputs": [
    {
     "name": "stdout",
     "output_type": "stream",
     "text": [
      "100\n"
     ]
    }
   ],
   "source": [
    "print(persegi(rumus='luas',sisi=10))"
   ]
  },
  {
   "cell_type": "markdown",
   "id": "dd7b3205",
   "metadata": {
    "id": "dd7b3205"
   },
   "source": [
    "# Default parameter value"
   ]
  },
  {
   "cell_type": "markdown",
   "id": "48f6a5ef",
   "metadata": {
    "id": "48f6a5ef"
   },
   "source": [
    "Fungsi atau prosedur yang dibuat, argumen yang diminta dapat diabaikan apabila argumen tersebut telah diberi nilai. Pada fungsi `perpangkatan`, argumen `pangkat` secara default telah di set menjadi angka `2`. Sehingga meskipun fungsi tersebut dipanggil tanpa argumen `pangkat`, fungsi `perpangkatan` masih dapat dijalankan hanya dengan argumen `x`"
   ]
  },
  {
   "cell_type": "code",
   "execution_count": 69,
   "id": "61dbdab1",
   "metadata": {
    "id": "61dbdab1"
   },
   "outputs": [],
   "source": [
    "def perpangkatan(x,pangkat=2):\n",
    "    hasil = x**pangkat\n",
    "    return hasil\n",
    "\n",
    "def akar(x,nilai_akar=2):\n",
    "    hasil = x**(1/nilai_akar)\n",
    "    return hasil"
   ]
  },
  {
   "cell_type": "code",
   "execution_count": 70,
   "id": "128daba3",
   "metadata": {
    "colab": {
     "base_uri": "https://localhost:8080/"
    },
    "id": "128daba3",
    "outputId": "5710baf8-a7c5-4858-e099-45707f52bac2"
   },
   "outputs": [
    {
     "name": "stdout",
     "output_type": "stream",
     "text": [
      "25\n",
      "27\n",
      "49\n"
     ]
    }
   ],
   "source": [
    "print(perpangkatan(5))\n",
    "print(perpangkatan(3,3))\n",
    "print(perpangkatan(x=7,pangkat=2))"
   ]
  },
  {
   "cell_type": "code",
   "execution_count": 71,
   "id": "bd4b826b",
   "metadata": {
    "colab": {
     "base_uri": "https://localhost:8080/"
    },
    "id": "bd4b826b",
    "outputId": "afdc8dd6-be1d-4197-ac72-073fd4798761"
   },
   "outputs": [
    {
     "name": "stdout",
     "output_type": "stream",
     "text": [
      "3.0\n",
      "9.0\n",
      "5.0\n"
     ]
    }
   ],
   "source": [
    "print(akar(9))\n",
    "print(akar(81,2))\n",
    "print(akar(x=625,nilai_akar=4))"
   ]
  },
  {
   "cell_type": "markdown",
   "id": "4de5fcde",
   "metadata": {
    "id": "4de5fcde"
   },
   "source": [
    "# Pass different data type to argumen"
   ]
  },
  {
   "cell_type": "markdown",
   "id": "2daf9e1c",
   "metadata": {
    "id": "2daf9e1c"
   },
   "source": [
    "Argumen yang diberi pada fungsi atau prosedur, tidak dibatasi oleh tipe data. tipe data apapun dapat diberi kedalam fungsi atau prosedur. Asalkan penerapan yang diberikan terhadap variabel tersebut telah tepat"
   ]
  },
  {
   "cell_type": "code",
   "execution_count": 72,
   "id": "357e728f",
   "metadata": {
    "id": "357e728f"
   },
   "outputs": [],
   "source": [
    "def rata_rata(arr):\n",
    "    total_data = 0\n",
    "    panjang_data = 0\n",
    "    for data in arr:\n",
    "        total_data = total_data+data\n",
    "        panjang_data +=1\n",
    "    hasil = total_data/panjang_data\n",
    "    return hasil"
   ]
  },
  {
   "cell_type": "markdown",
   "id": "cc54a01f",
   "metadata": {
    "id": "cc54a01f"
   },
   "source": [
    "<div>\n",
    "<img src=\"gambar/day3-2.png\" width=\"700\"/>\n",
    "</div>\n"
   ]
  },
  {
   "cell_type": "code",
   "execution_count": 73,
   "id": "92c909f8",
   "metadata": {
    "id": "92c909f8"
   },
   "outputs": [],
   "source": [
    "hitung_rata2 = [5,2,4,5,1,2,6,8,9,3,4]"
   ]
  },
  {
   "cell_type": "code",
   "execution_count": 74,
   "id": "e34f48b8",
   "metadata": {
    "colab": {
     "base_uri": "https://localhost:8080/"
    },
    "id": "e34f48b8",
    "outputId": "18187131-ea2e-4cdd-e0b4-ed69b2727387"
   },
   "outputs": [
    {
     "name": "stdout",
     "output_type": "stream",
     "text": [
      "4.454545454545454\n"
     ]
    }
   ],
   "source": [
    "print(rata_rata(hitung_rata2))"
   ]
  },
  {
   "cell_type": "markdown",
   "id": "9983f339",
   "metadata": {
    "id": "9983f339"
   },
   "source": [
    "# Recursion"
   ]
  },
  {
   "cell_type": "markdown",
   "id": "be26ade7",
   "metadata": {
    "id": "be26ade7"
   },
   "source": [
    "Recursion (rekursi) adalah penerapan ketika didalam fungsi atau prosedur memanggil fungsi atau prosedur itu sendiri. "
   ]
  },
  {
   "cell_type": "code",
   "execution_count": 75,
   "id": "366fd5c8",
   "metadata": {
    "colab": {
     "base_uri": "https://localhost:8080/"
    },
    "id": "366fd5c8",
    "outputId": "d67c8946-83f0-4ec0-e68e-4d328a54b386"
   },
   "outputs": [
    {
     "name": "stdout",
     "output_type": "stream",
     "text": [
      "8\n",
      "7\n",
      "6\n",
      "5\n",
      "4\n",
      "3\n",
      "2\n",
      "1\n"
     ]
    }
   ],
   "source": [
    "def recursion(i):\n",
    "    if(i > 0):\n",
    "        print(i)\n",
    "        recursion(i - 1)\n",
    "        \n",
    "recursion(8)"
   ]
  },
  {
   "cell_type": "markdown",
   "id": "js8upKxBtr7l",
   "metadata": {
    "id": "js8upKxBtr7l"
   },
   "source": [
    "# **Lambda**\n",
    "lambda merupakan bentuk singkat dari fungsi (function)"
   ]
  },
  {
   "cell_type": "code",
   "execution_count": 76,
   "id": "a49e1a1c",
   "metadata": {
    "id": "a49e1a1c"
   },
   "outputs": [],
   "source": [
    "def luas_persegi_panjang(panjang,lebar):\n",
    "    luas = panjang*lebar\n",
    "    return luas\n",
    "\n",
    "def keliling_persegi_panjang(panjang,lebar):\n",
    "    keliling = 2*(panjang+lebar)\n",
    "    return keliling\n",
    "\n",
    "def luas_segitiga(alas,tinggi):\n",
    "    luas = (alas*tinggi)/2\n",
    "    return luas\n",
    "\n",
    "def keliling_segitiga(tegak,baring,miring):\n",
    "    keliling = tegak+baring+miring\n",
    "    return keliling\n",
    "\n",
    "def pitagoras(tegak,baring):\n",
    "    miring = ((tegak**2)*(baring**2))**(1/2)\n",
    "    return miring"
   ]
  },
  {
   "cell_type": "markdown",
   "id": "Hxbr4Iuvtv57",
   "metadata": {
    "id": "Hxbr4Iuvtv57"
   },
   "source": [
    "Dari fungsi yang terdapat diatas bila dimasukkan kedalam struktur lambda akan menjadi seperti dibawah ini"
   ]
  },
  {
   "cell_type": "code",
   "execution_count": 77,
   "id": "R9wIqzImtt2J",
   "metadata": {
    "id": "R9wIqzImtt2J"
   },
   "outputs": [],
   "source": [
    "luas_persegi_panjang = lambda panjang,lebar : panjang * lebar \n",
    "keliling_persegi_panjang = lambda panjang,lebar : 2 * (panjang + lebar)\n",
    "luas_segitigas = lambda alas,tinggi : (alas*tinggi)/2\n",
    "keliling_segitiga = lambda tegak, baring, miring : tegak + baring + miring\n",
    "pitagoras = lambda tegak, baring: ((tegak ** 2) * (baring ** 2) ** (1/2) )"
   ]
  },
  {
   "cell_type": "markdown",
   "id": "G1F0A4xTtxjy",
   "metadata": {
    "id": "G1F0A4xTtxjy"
   },
   "source": [
    "Berikut merupakan salah satu contoh pemanggilan lambda dengan Argumen yang diminta, akan diberikan sesuai dengan urutannya. Pada sel dibawah, fungsi `luas_segitiga` meminta 2 variabel yaitu `panjang` dan `lebar`. `10` akan digunakan sebagai `panjang`. `2` akan digunakan sebagai `lebar`"
   ]
  },
  {
   "cell_type": "code",
   "execution_count": 78,
   "id": "LrYSVCLXtzHV",
   "metadata": {
    "colab": {
     "base_uri": "https://localhost:8080/"
    },
    "id": "LrYSVCLXtzHV",
    "outputId": "11c8cea4-dfd7-4461-b52d-ebf7b5efc106"
   },
   "outputs": [
    {
     "data": {
      "text/plain": [
       "10.0"
      ]
     },
     "execution_count": 78,
     "metadata": {},
     "output_type": "execute_result"
    }
   ],
   "source": [
    "luas_segitiga(10,2)"
   ]
  },
  {
   "cell_type": "markdown",
   "id": "K7hmlhsHt0yf",
   "metadata": {
    "id": "K7hmlhsHt0yf"
   },
   "source": [
    "# **Array**\n",
    "\n",
    "Array adalah sebuah tipe data yang mirip seperti list.\n",
    "\n",
    "Namun ada yang memberikan perbedaan terhadap kedua tipe data tersebut antara lain\n",
    "1. List digunakan untuk melakukan operasi matematika pada urutan elemen yang lebih kecil\n",
    "2. Penggunaan Array harus melakukan deklarasi sedangkan list tidak\n",
    "3. Array menyimpan tipe data yang sama (homogen) sedangkan list dapat dengan tipe data yang berbeda (heterogen)\n",
    "\n",
    "\n",
    "\n"
   ]
  },
  {
   "cell_type": "markdown",
   "id": "vpu7Ib3bx_UF",
   "metadata": {
    "id": "vpu7Ib3bx_UF"
   },
   "source": [
    "Deklrasi variable array dengan tipe data string semua"
   ]
  },
  {
   "cell_type": "code",
   "execution_count": 103,
   "id": "mdHq5x5vxBri",
   "metadata": {
    "id": "mdHq5x5vxBri"
   },
   "outputs": [],
   "source": [
    "kandang_ayam = ['ayah_ayam','ayam_penyelinap','ibu_ayam','ayam_pertama','ayam_penyelinap','ayam_kedua','ayam_penyelinap']"
   ]
  },
  {
   "cell_type": "code",
   "execution_count": 104,
   "id": "5AumdKtfyDfO",
   "metadata": {
    "colab": {
     "base_uri": "https://localhost:8080/"
    },
    "id": "5AumdKtfyDfO",
    "outputId": "d2aa8687-999e-40a4-b144-d0c4cae45de5"
   },
   "outputs": [
    {
     "name": "stdout",
     "output_type": "stream",
     "text": [
      "['ayah_ayam', 'ayam_penyelinap', 'ibu_ayam', 'ayam_pertama', 'ayam_penyelinap', 'ayam_kedua', 'ayam_penyelinap']\n"
     ]
    }
   ],
   "source": [
    "print(kandang_ayam)"
   ]
  },
  {
   "cell_type": "markdown",
   "id": "d9bI2faYyNA1",
   "metadata": {
    "id": "d9bI2faYyNA1"
   },
   "source": [
    "Untuk mendapatkan jumlah panjang array mengguanakan fungsi bawaan python yaitu `len()`"
   ]
  },
  {
   "cell_type": "code",
   "execution_count": 105,
   "id": "ozHq2i16yUXz",
   "metadata": {
    "colab": {
     "base_uri": "https://localhost:8080/"
    },
    "id": "ozHq2i16yUXz",
    "outputId": "824c3487-78f9-4852-9b91-312998935022"
   },
   "outputs": [
    {
     "data": {
      "text/plain": [
       "7"
      ]
     },
     "execution_count": 105,
     "metadata": {},
     "output_type": "execute_result"
    }
   ],
   "source": [
    "len(kandang_ayam)"
   ]
  },
  {
   "cell_type": "markdown",
   "id": "2B9Zr8y10pbI",
   "metadata": {
    "id": "2B9Zr8y10pbI"
   },
   "source": [
    "Untuk memanggil data didalam array menggunakan Fungsi For untuk memanggil data didalam array secara satu persatu"
   ]
  },
  {
   "cell_type": "code",
   "execution_count": 113,
   "id": "xsnC0g_B0lvE",
   "metadata": {
    "colab": {
     "base_uri": "https://localhost:8080/"
    },
    "id": "xsnC0g_B0lvE",
    "outputId": "d7c22e2d-d0d7-4b68-ef02-a226e5e8fd3b"
   },
   "outputs": [
    {
     "name": "stdout",
     "output_type": "stream",
     "text": [
      "ayah_ayam\n",
      "ibu_ayam\n",
      "ayam_pertama\n",
      "ayam_kedua\n",
      "ayam_penyelinap\n",
      "ayam_ketiga\n"
     ]
    }
   ],
   "source": [
    "for x in kandang_ayam:\n",
    "  print(x)"
   ]
  },
  {
   "cell_type": "markdown",
   "id": "nDmEEOY-ymFQ",
   "metadata": {
    "id": "nDmEEOY-ymFQ"
   },
   "source": [
    "Pada contoh kode dibawah ini merupakan fungsi yang terdapat didalam array contohnya adalah `append`,`pop`,`remove`,`sort` dan `reverse`"
   ]
  },
  {
   "cell_type": "markdown",
   "id": "lRVe9XZGy4dN",
   "metadata": {
    "id": "lRVe9XZGy4dN"
   },
   "source": [
    "## Append\n",
    "fungsi append bertujuan menambah 1 data pada list array terakhir\n",
    "\n",
    "Pada contoh program dibawah ini bertujuan untuk menambah satu tipe data string bernilai `ayam_ketiga` kedalam array"
   ]
  },
  {
   "cell_type": "code",
   "execution_count": 114,
   "id": "UkgdUPKKyWNx",
   "metadata": {
    "id": "UkgdUPKKyWNx"
   },
   "outputs": [],
   "source": [
    "kandang_ayam.append('ayam_ketiga')"
   ]
  },
  {
   "cell_type": "code",
   "execution_count": 115,
   "id": "dXRoSsA10bH0",
   "metadata": {
    "colab": {
     "base_uri": "https://localhost:8080/"
    },
    "id": "dXRoSsA10bH0",
    "outputId": "a01be94b-9738-4533-a54c-bf669ca2ef81"
   },
   "outputs": [
    {
     "data": {
      "text/plain": [
       "['ayah_ayam',\n",
       " 'ibu_ayam',\n",
       " 'ayam_pertama',\n",
       " 'ayam_kedua',\n",
       " 'ayam_penyelinap',\n",
       " 'ayam_ketiga',\n",
       " 'ayam_ketiga']"
      ]
     },
     "execution_count": 115,
     "metadata": {},
     "output_type": "execute_result"
    }
   ],
   "source": [
    "kandang_ayam"
   ]
  },
  {
   "cell_type": "markdown",
   "id": "IVzlowbHzK_O",
   "metadata": {
    "id": "IVzlowbHzK_O"
   },
   "source": [
    "## Pop\n",
    "fungsi Pop bertujuan untuk mengeluarkan nilai data didalam array\n",
    "\n",
    "Pada contoh program dibawah ini bertujuan untuk mengeluarkan nilai dari array pada indeks yang pertama"
   ]
  },
  {
   "cell_type": "code",
   "execution_count": 116,
   "id": "Vk11BbdEybDw",
   "metadata": {
    "colab": {
     "base_uri": "https://localhost:8080/",
     "height": 37
    },
    "id": "Vk11BbdEybDw",
    "outputId": "97ad6656-bdba-42f0-d053-bd8aad2483fe"
   },
   "outputs": [
    {
     "data": {
      "application/vnd.google.colaboratory.intrinsic+json": {
       "type": "string"
      },
      "text/plain": [
       "'ibu_ayam'"
      ]
     },
     "execution_count": 116,
     "metadata": {},
     "output_type": "execute_result"
    }
   ],
   "source": [
    "kandang_ayam.pop(1)"
   ]
  },
  {
   "cell_type": "code",
   "execution_count": 117,
   "id": "wujOPYx10dvM",
   "metadata": {
    "colab": {
     "base_uri": "https://localhost:8080/"
    },
    "id": "wujOPYx10dvM",
    "outputId": "e29ba7b1-2425-4426-919a-af931208ab69"
   },
   "outputs": [
    {
     "data": {
      "text/plain": [
       "['ayah_ayam',\n",
       " 'ayam_pertama',\n",
       " 'ayam_kedua',\n",
       " 'ayam_penyelinap',\n",
       " 'ayam_ketiga',\n",
       " 'ayam_ketiga']"
      ]
     },
     "execution_count": 117,
     "metadata": {},
     "output_type": "execute_result"
    }
   ],
   "source": [
    "kandang_ayam"
   ]
  },
  {
   "cell_type": "markdown",
   "id": "QJcamqnezu4-",
   "metadata": {
    "id": "QJcamqnezu4-"
   },
   "source": [
    "## Remove\n",
    "fungsi Remove bertujuan untuk menghapus nilai yang sama sesuai parameter yang sudah berikan"
   ]
  },
  {
   "cell_type": "code",
   "execution_count": 118,
   "id": "Px9KpKdAydV8",
   "metadata": {
    "id": "Px9KpKdAydV8"
   },
   "outputs": [],
   "source": [
    "kandang_ayam.remove('ayam_penyelinap')"
   ]
  },
  {
   "cell_type": "code",
   "execution_count": 119,
   "id": "GzRdqB5Xz4et",
   "metadata": {
    "colab": {
     "base_uri": "https://localhost:8080/"
    },
    "id": "GzRdqB5Xz4et",
    "outputId": "999523d9-4e07-4444-c539-3667f815bf53"
   },
   "outputs": [
    {
     "data": {
      "text/plain": [
       "['ayah_ayam', 'ayam_pertama', 'ayam_kedua', 'ayam_ketiga', 'ayam_ketiga']"
      ]
     },
     "execution_count": 119,
     "metadata": {},
     "output_type": "execute_result"
    }
   ],
   "source": [
    "kandang_ayam"
   ]
  },
  {
   "cell_type": "markdown",
   "id": "sBgX7vCw00xD",
   "metadata": {
    "id": "sBgX7vCw00xD"
   },
   "source": [
    "## Sort\n",
    "Fungsi sort bertujuan untuk mengurutkan nilai dari kecil hingga terbesar. Pengurutan ini bisa dengan tipe data string ataupun tipe data integer "
   ]
  },
  {
   "cell_type": "code",
   "execution_count": 120,
   "id": "OJdKruYjyfjc",
   "metadata": {
    "id": "OJdKruYjyfjc"
   },
   "outputs": [],
   "source": [
    "data = [10,2,5,6,7,8,2,3,524,45,2,132,54]"
   ]
  },
  {
   "cell_type": "code",
   "execution_count": 121,
   "id": "nvVNpLDfyhQX",
   "metadata": {
    "id": "nvVNpLDfyhQX"
   },
   "outputs": [],
   "source": [
    "data.sort()"
   ]
  },
  {
   "cell_type": "code",
   "execution_count": 122,
   "id": "WFX0QAW91E-k",
   "metadata": {
    "colab": {
     "base_uri": "https://localhost:8080/"
    },
    "id": "WFX0QAW91E-k",
    "outputId": "1b53f833-7e36-4291-e659-8735188d7c4e"
   },
   "outputs": [
    {
     "data": {
      "text/plain": [
       "[2, 2, 2, 3, 5, 6, 7, 8, 10, 45, 54, 132, 524]"
      ]
     },
     "execution_count": 122,
     "metadata": {},
     "output_type": "execute_result"
    }
   ],
   "source": [
    "data"
   ]
  },
  {
   "cell_type": "code",
   "execution_count": 123,
   "id": "aGAILSgu1GEU",
   "metadata": {
    "id": "aGAILSgu1GEU"
   },
   "outputs": [],
   "source": [
    "kandang_ayam.sort()"
   ]
  },
  {
   "cell_type": "code",
   "execution_count": 124,
   "id": "iMXkX1es1IOr",
   "metadata": {
    "colab": {
     "base_uri": "https://localhost:8080/"
    },
    "id": "iMXkX1es1IOr",
    "outputId": "b62cea2c-fa4e-4f8f-8cec-c01245821eb1"
   },
   "outputs": [
    {
     "data": {
      "text/plain": [
       "['ayah_ayam', 'ayam_kedua', 'ayam_ketiga', 'ayam_ketiga', 'ayam_pertama']"
      ]
     },
     "execution_count": 124,
     "metadata": {},
     "output_type": "execute_result"
    }
   ],
   "source": [
    "kandang_ayam"
   ]
  },
  {
   "cell_type": "markdown",
   "id": "XUJo289j1PLU",
   "metadata": {
    "id": "XUJo289j1PLU"
   },
   "source": [
    "## Reverse\n",
    "Sedangankan untuk fungsi reverse kebalikan dari fungsi sort.\n",
    "\n",
    "fungsi reverse bertujuan untuk mengurutkan nilai dari nilai terbesar hingga terkecil"
   ]
  },
  {
   "cell_type": "code",
   "execution_count": 125,
   "id": "Hl6Bg4Ulyiul",
   "metadata": {
    "id": "Hl6Bg4Ulyiul"
   },
   "outputs": [],
   "source": [
    "data.reverse()"
   ]
  },
  {
   "cell_type": "code",
   "execution_count": 126,
   "id": "dP5_dxz01dRk",
   "metadata": {
    "colab": {
     "base_uri": "https://localhost:8080/"
    },
    "id": "dP5_dxz01dRk",
    "outputId": "0c3fdfc9-5721-492f-bbf3-18f1c8c9b0c6"
   },
   "outputs": [
    {
     "data": {
      "text/plain": [
       "[524, 132, 54, 45, 10, 8, 7, 6, 5, 3, 2, 2, 2]"
      ]
     },
     "execution_count": 126,
     "metadata": {},
     "output_type": "execute_result"
    }
   ],
   "source": [
    "data"
   ]
  },
  {
   "cell_type": "code",
   "execution_count": 127,
   "id": "ykKUh-RQ1Or-",
   "metadata": {
    "id": "ykKUh-RQ1Or-"
   },
   "outputs": [],
   "source": [
    "kandang_ayam.reverse()"
   ]
  },
  {
   "cell_type": "code",
   "execution_count": 128,
   "id": "Gbt99iZd1flk",
   "metadata": {
    "colab": {
     "base_uri": "https://localhost:8080/"
    },
    "id": "Gbt99iZd1flk",
    "outputId": "91fb018b-acc7-4872-efad-900c694d1e24"
   },
   "outputs": [
    {
     "data": {
      "text/plain": [
       "['ayam_pertama', 'ayam_ketiga', 'ayam_ketiga', 'ayam_kedua', 'ayah_ayam']"
      ]
     },
     "execution_count": 128,
     "metadata": {},
     "output_type": "execute_result"
    }
   ],
   "source": [
    "kandang_ayam"
   ]
  },
  {
   "cell_type": "markdown",
   "id": "c4AMoNTj1mwb",
   "metadata": {
    "id": "c4AMoNTj1mwb"
   },
   "source": [
    "# **Plotting Grafik**\n",
    "\n",
    "Pada section ini kita akan belajar mengenai plotting.\n",
    "\n",
    "Ploting dalam hal ini merupakan pemgambaran nilai menjadi suatu grafik.\n",
    "\n",
    "untuk sesi ini kita akan menggunakan libary luar yaitu matplotlib sebagai bantuan dalam melakukan proses plotting (`https://matplotlib.org/stable/users/index.html`)\n",
    "\n",
    "Berikut merupakan cara untuk menginstall matplotlib pada jupyter notebook"
   ]
  },
  {
   "cell_type": "code",
   "execution_count": 132,
   "id": "IvH9792c1g0W",
   "metadata": {
    "colab": {
     "base_uri": "https://localhost:8080/"
    },
    "id": "IvH9792c1g0W",
    "outputId": "78ae9084-f05e-434a-b3c1-757a3e639b06"
   },
   "outputs": [
    {
     "name": "stdout",
     "output_type": "stream",
     "text": [
      "Looking in indexes: https://pypi.org/simple, https://us-python.pkg.dev/colab-wheels/public/simple/\n",
      "Requirement already satisfied: matplotlib in /usr/local/lib/python3.7/dist-packages (3.2.2)\n",
      "Requirement already satisfied: numpy>=1.11 in /usr/local/lib/python3.7/dist-packages (from matplotlib) (1.21.6)\n",
      "Requirement already satisfied: python-dateutil>=2.1 in /usr/local/lib/python3.7/dist-packages (from matplotlib) (2.8.2)\n",
      "Requirement already satisfied: pyparsing!=2.0.4,!=2.1.2,!=2.1.6,>=2.0.1 in /usr/local/lib/python3.7/dist-packages (from matplotlib) (3.0.9)\n",
      "Requirement already satisfied: kiwisolver>=1.0.1 in /usr/local/lib/python3.7/dist-packages (from matplotlib) (1.4.4)\n",
      "Requirement already satisfied: cycler>=0.10 in /usr/local/lib/python3.7/dist-packages (from matplotlib) (0.11.0)\n",
      "Requirement already satisfied: typing-extensions in /usr/local/lib/python3.7/dist-packages (from kiwisolver>=1.0.1->matplotlib) (4.1.1)\n",
      "Requirement already satisfied: six>=1.5 in /usr/local/lib/python3.7/dist-packages (from python-dateutil>=2.1->matplotlib) (1.15.0)\n"
     ]
    }
   ],
   "source": [
    "!pip install matplotlib"
   ]
  },
  {
   "cell_type": "code",
   "execution_count": 2,
   "id": "bCTh7dlz2EE5",
   "metadata": {
    "id": "bCTh7dlz2EE5"
   },
   "outputs": [],
   "source": [
    "#pada cell ini bertujuan untuk memanggil libary matplotlib.pyplot \n",
    "import matplotlib.pyplot as plt"
   ]
  },
  {
   "cell_type": "markdown",
   "id": "En81C1BB4HYs",
   "metadata": {
    "id": "En81C1BB4HYs"
   },
   "source": [
    "Pada contoh kode dibawah ini merupakan salah satu contoh sederhana dari proses plotting, syarat untuk melakukan plotting terdapat dua nilai yaitu nilai x dan y dengan jumlah nilai array yang salam"
   ]
  },
  {
   "cell_type": "code",
   "execution_count": 150,
   "id": "rfpE3tdS2PY5",
   "metadata": {
    "colab": {
     "base_uri": "https://localhost:8080/",
     "height": 295
    },
    "id": "rfpE3tdS2PY5",
    "outputId": "96189290-18c2-4470-f6cf-0b702685ff72"
   },
   "outputs": [
    {
     "data": {
      "image/png": "[encoded data removed]",
      "text/plain": [
       "<Figure size 432x288 with 1 Axes>"
      ]
     },
     "metadata": {
      "needs_background": "light"
     },
     "output_type": "display_data"
    }
   ],
   "source": [
    "x = [10, 20, 30, 40]\n",
    "y = [20, 30, 40, 50]\n",
    " \n",
    "# Merupakan proses ploting\n",
    "plt.plot(x, y)\n",
    " \n",
    "# Menambahkan title pada gambar ploting\n",
    "plt.title(\"Plotting Sederhana\")\n",
    " \n",
    "# Menambah label pada sumbu x dan y\n",
    "plt.ylabel(\"y-axis\")\n",
    "plt.xlabel(\"x-axis\")\n",
    "\n",
    "plt.show()"
   ]
  },
  {
   "cell_type": "markdown",
   "id": "MfdGeePk4aQ8",
   "metadata": {
    "id": "MfdGeePk4aQ8"
   },
   "source": [
    "Pada contoh dibawah ini merupakan contoh dari Categorical Plotting atau melakukan plotting terhadap data yang terkelompok\n",
    "\n",
    "Untuk melakukan plotting panjang nilai kelompok dan nilai harus memiliki nilai yang sama panjangnya seperti pada data diatas"
   ]
  },
  {
   "cell_type": "code",
   "execution_count": 152,
   "id": "nl3XzWdj3bzl",
   "metadata": {
    "id": "nl3XzWdj3bzl"
   },
   "outputs": [],
   "source": [
    "names = ['apple','orange','lemon','lime']\n",
    "values = [10, 15, 5, 20 ]"
   ]
  },
  {
   "cell_type": "markdown",
   "id": "Xu5OUQTi47Us",
   "metadata": {
    "id": "Xu5OUQTi47Us"
   },
   "source": [
    "Plotting data dapat dibedakan menjadi tiga yaitu `bar`, `scatter` dan `line`"
   ]
  },
  {
   "cell_type": "markdown",
   "id": "WjwLP6sp5I_X",
   "metadata": {
    "id": "WjwLP6sp5I_X"
   },
   "source": [
    "# Bar\n",
    "Pada contoh kodingan dibawah ini menampilkan cara plotting dengan menggunakan bar"
   ]
  },
  {
   "cell_type": "code",
   "execution_count": 153,
   "id": "WyLhGNTT2mFi",
   "metadata": {
    "colab": {
     "base_uri": "https://localhost:8080/",
     "height": 311
    },
    "id": "WyLhGNTT2mFi",
    "outputId": "c36da85a-69e0-422a-c0bd-bc922bde6d30"
   },
   "outputs": [
    {
     "data": {
      "text/plain": [
       "Text(0.5, 0.98, 'Categorical Plotting dengan bar')"
      ]
     },
     "execution_count": 153,
     "metadata": {},
     "output_type": "execute_result"
    },
    {
     "data": {
      "image/png": "[encoded data removed]",
      "text/plain": [
       "<Figure size 432x288 with 1 Axes>"
      ]
     },
     "metadata": {
      "needs_background": "light"
     },
     "output_type": "display_data"
    }
   ],
   "source": [
    "fig, axs = plt.subplots()\n",
    "axs.bar(names, values)\n",
    "fig.suptitle('Categorical Plotting dengan bar')"
   ]
  },
  {
   "cell_type": "markdown",
   "id": "FHg8rNhK5Igg",
   "metadata": {
    "id": "FHg8rNhK5Igg"
   },
   "source": [
    "# Scatter\n",
    "Pada contoh kodingan dibawah ini menampilkan cara plotting dengan menggunakan scatter"
   ]
  },
  {
   "cell_type": "code",
   "execution_count": 154,
   "id": "rmEWa2Q63iMr",
   "metadata": {
    "colab": {
     "base_uri": "https://localhost:8080/",
     "height": 311
    },
    "id": "rmEWa2Q63iMr",
    "outputId": "22c0987c-e5f1-490c-b907-88f88b33b2a3"
   },
   "outputs": [
    {
     "data": {
      "text/plain": [
       "Text(0.5, 0.98, 'Categorical Plotting dengan bar')"
      ]
     },
     "execution_count": 154,
     "metadata": {},
     "output_type": "execute_result"
    },
    {
     "data": {
      "image/png": "[encoded data removed]",
      "text/plain": [
       "<Figure size 432x288 with 1 Axes>"
      ]
     },
     "metadata": {
      "needs_background": "light"
     },
     "output_type": "display_data"
    }
   ],
   "source": [
    "fig, axs = plt.subplots()\n",
    "axs.scatter(names, values)\n",
    "fig.suptitle('Categorical Plotting dengan bar')"
   ]
  },
  {
   "cell_type": "markdown",
   "id": "4P_VGxzv5Z3E",
   "metadata": {
    "id": "4P_VGxzv5Z3E"
   },
   "source": [
    "# Line\n",
    "Pada contoh kodingan dibawah ini menampilkan cara plotting dengan menggunakan line"
   ]
  },
  {
   "cell_type": "code",
   "execution_count": 155,
   "id": "eiVSeN_R3_kt",
   "metadata": {
    "colab": {
     "base_uri": "https://localhost:8080/",
     "height": 311
    },
    "id": "eiVSeN_R3_kt",
    "outputId": "73bad0d4-31c8-48a8-f12d-7a42eff9fcd2"
   },
   "outputs": [
    {
     "data": {
      "text/plain": [
       "Text(0.5, 0.98, 'Categorical Plotting dengan bar')"
      ]
     },
     "execution_count": 155,
     "metadata": {},
     "output_type": "execute_result"
    },
    {
     "data": {
      "image/png": "[encoded data removed]",
      "text/plain": [
       "<Figure size 432x288 with 1 Axes>"
      ]
     },
     "metadata": {
      "needs_background": "light"
     },
     "output_type": "display_data"
    }
   ],
   "source": [
    "fig, axs = plt.subplots()\n",
    "axs.plot(names, values)\n",
    "fig.suptitle('Categorical Plotting dengan bar')"
   ]
  },
  {
   "cell_type": "code",
   "execution_count": 3,
   "id": "j32o6h1d4E7m",
   "metadata": {
    "id": "j32o6h1d4E7m"
   },
   "outputs": [
    {
     "data": {
      "image/png": "[encoded data removed]",
      "text/plain": [
       "<Figure size 432x288 with 1 Axes>"
      ]
     },
     "metadata": {
      "needs_background": "light"
     },
     "output_type": "display_data"
    }
   ],
   "source": [
    "import numpy as np\n",
    "\n",
    "\n",
    "Fs = 8000\n",
    "f = 5\n",
    "sample = 8000\n",
    "x = np.arange(sample)\n",
    "y = np.sin(2 * np.pi * f * x / Fs)\n",
    "plt.plot(x, y)\n",
    "plt.xlabel('sample(n)')\n",
    "plt.ylabel('voltage(V)')\n",
    "plt.show()"
   ]
  },
  {
   "cell_type": "code",
   "execution_count": null,
   "id": "b74cb4f3",
   "metadata": {},
   "outputs": [],
   "source": []
  }
 ],
 "metadata": {
  "colab": {
   "provenance": []
  },
  "kernelspec": {
   "display_name": "Python 3 (ipykernel)",
   "language": "python",
   "name": "python3"
  },
  "language_info": {
   "codemirror_mode": {
    "name": "ipython",
    "version": 3
   },
   "file_extension": ".py",
   "mimetype": "text/x-python",
   "name": "python",
   "nbconvert_exporter": "python",
   "pygments_lexer": "ipython3",
   "version": "3.9.7"
  }
 },
 "nbformat": 4,
 "nbformat_minor": 5
}

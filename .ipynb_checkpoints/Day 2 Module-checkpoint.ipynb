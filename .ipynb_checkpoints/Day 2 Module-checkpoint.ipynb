{
  "cells": [
    {
      "cell_type": "code",
      "source": [
        "from platform import python_version\n",
        "\n",
        "print(python_version())"
      ],
      "metadata": {
        "id": "vwzxMwVXVH6X",
        "outputId": "e991eea9-763b-410b-c22d-959397f3bfbf",
        "colab": {
          "base_uri": "https://localhost:8080/"
        }
      },
      "id": "vwzxMwVXVH6X",
      "execution_count": 1,
      "outputs": [
        {
          "output_type": "stream",
          "name": "stdout",
          "text": [
            "3.7.14\n"
          ]
        }
      ]
    },
    {
      "cell_type": "markdown",
      "id": "2024a7c7",
      "metadata": {
        "id": "2024a7c7"
      },
      "source": [
        "# Pemateri Zahra"
      ]
    },
    {
      "cell_type": "markdown",
      "id": "add18f78",
      "metadata": {
        "id": "add18f78"
      },
      "source": [
        "# Dasar Python"
      ]
    },
    {
      "cell_type": "markdown",
      "id": "f6f651d1",
      "metadata": {
        "id": "f6f651d1"
      },
      "source": [
        "## Syntax"
      ]
    },
    {
      "cell_type": "markdown",
      "id": "19a0c751",
      "metadata": {
        "id": "19a0c751"
      },
      "source": [
        "Syntax adalah rangkaian aturan atas susunan kode atau ekspresi secara terstruktur.\n",
        "Sifat penulisan syntax pada python:\n",
        "- Case sensitive\n",
        "- Tidak menggunakan titik koma\n",
        "- Indentasi sebagai pembentuk struktur\n",
        "- Tidak ketat terhadap tipe data\n",
        "- Human friendly\n",
        "\n"
      ]
    },
    {
      "cell_type": "markdown",
      "id": "0a8288c5",
      "metadata": {
        "id": "0a8288c5"
      },
      "source": [
        "### Case Sensitive\n",
        "- Secara umum bahasa pemrograman bersifat case sensitive, artinya huruf kecil dengan huruf besar dikatakan tidak sama. Sebagai contoh pada penulisan variabel `ibu_kota` akan berbeda dengan variabel `Ibu_kota`.\n",
        "```python\n",
        "ibu_kota = \"Palembang\"\n",
        "print(iBu_kota) # Error\n",
        "```"
      ]
    },
    {
      "cell_type": "markdown",
      "id": "a2fae8f7",
      "metadata": {
        "id": "a2fae8f7"
      },
      "source": [
        "### Tidak Menggunakan Titik Koma"
      ]
    },
    {
      "cell_type": "markdown",
      "id": "5192272d",
      "metadata": {
        "id": "5192272d"
      },
      "source": [
        "- Berbeda dengan bahasa pemrograman yang lain, Python tidak menggunakan titik koma (kecuali pada kasus tertentu) pada statement.\n",
        "- Di bawah ini merupakan contoh perbandingan penulisan statement dengan bahasa Java dan Python.\n",
        "\n",
        "**Java**\n",
        "\n",
        "```java\n",
        "class Main {\n",
        "    public static void main(String[] args) {\n",
        "        // Statement di bawah ini harus diakhiri dengan titik koma\n",
        "        System.out.println(\"Hello world\"); \n",
        "    }\n",
        "}\n",
        "```\n",
        "**Python**\n",
        "```python\n",
        "# Statement di bawah ini tidak menggunakan titik koma\n",
        "print(\"Hello World\")\n",
        "```"
      ]
    },
    {
      "cell_type": "markdown",
      "id": "041b8b4f",
      "metadata": {
        "id": "041b8b4f"
      },
      "source": [
        "### Indentasi sebagai Pembentuk Struktur\n",
        "- Python menggunakan indentasi sebagai satu blok kode. Penulisan indentasi dapat dilakukan dengan tab atau space.\n",
        "- Perlu diperhatikan bahwa penulisan indentasi dengan tab dan space yang dicampur aduk dapat menyebabkan eror pada program."
      ]
    },
    {
      "cell_type": "code",
      "execution_count": null,
      "id": "9677794e",
      "metadata": {
        "id": "9677794e",
        "outputId": "cbe45858-8d48-4c4a-d878-3a6999d64e96"
      },
      "outputs": [
        {
          "name": "stdout",
          "output_type": "stream",
          "text": [
            "13\n"
          ]
        }
      ],
      "source": [
        "a = 5\n",
        "b = 8\n",
        "c = a + b\n",
        "\n",
        "print(c)"
      ]
    },
    {
      "cell_type": "code",
      "execution_count": null,
      "id": "ed448112",
      "metadata": {
        "scrolled": true,
        "id": "ed448112",
        "outputId": "0117365f-ff46-4e22-c096-7aa02ec1934e"
      },
      "outputs": [
        {
          "ename": "IndentationError",
          "evalue": "unexpected indent (Temp/ipykernel_15440/3421586362.py, line 5)",
          "output_type": "error",
          "traceback": [
            "\u001b[1;36m  File \u001b[1;32m\"C:\\Users\\dell\\AppData\\Local\\Temp/ipykernel_15440/3421586362.py\"\u001b[1;36m, line \u001b[1;32m5\u001b[0m\n\u001b[1;33m    print('nilai a lebih dari 5')\u001b[0m\n\u001b[1;37m    ^\u001b[0m\n\u001b[1;31mIndentationError\u001b[0m\u001b[1;31m:\u001b[0m unexpected indent\n"
          ]
        }
      ],
      "source": [
        "a = 10\n",
        "\n",
        "if a > 5:\n",
        "  print('nilai a lebih dari 5')\n",
        "   print('nilai a lebih dari 5')"
      ]
    },
    {
      "cell_type": "markdown",
      "id": "883d5381",
      "metadata": {
        "id": "883d5381"
      },
      "source": [
        "### Tidak Ketat Terhadap Tipe Data\n",
        "Python menganut penulisan variabel yang dinamis. Yaitu kita tidak memerlukan penentuan tipe data secara eksplisit. Sebagai contoh variabel `a` bertipe integer karena diisi dengan angka 5. Selanjutnya variabel tersebut diisi dengan string `Budi` sehingga berubah menjadi string."
      ]
    },
    {
      "cell_type": "code",
      "execution_count": null,
      "id": "56ab1ed2",
      "metadata": {
        "id": "56ab1ed2",
        "outputId": "dc7cd541-71da-4229-c8da-d2bbde73abbd"
      },
      "outputs": [
        {
          "name": "stdout",
          "output_type": "stream",
          "text": [
            "Budi\n"
          ]
        }
      ],
      "source": [
        "# nilai awal berupa integer\n",
        "a = 5\n",
        "# kita ubah menjadi string dan tidak error\n",
        "a = 'Budi'\n",
        "\n",
        "print(a)"
      ]
    },
    {
      "cell_type": "markdown",
      "id": "0fb96cce",
      "metadata": {
        "id": "0fb96cce"
      },
      "source": [
        "### Comments"
      ]
    },
    {
      "cell_type": "markdown",
      "id": "c3f8fd3f",
      "metadata": {
        "id": "c3f8fd3f"
      },
      "source": [
        "Komentar (comment) adalah kode di dalam script Python yang tidak dieksekusi atau tidak dijalankan mesin. "
      ]
    },
    {
      "cell_type": "code",
      "execution_count": null,
      "id": "7a3a39f7",
      "metadata": {
        "id": "7a3a39f7",
        "outputId": "b83df817-27c4-4488-bc19-e098618a5004"
      },
      "outputs": [
        {
          "name": "stdout",
          "output_type": "stream",
          "text": [
            "Hello World!\n"
          ]
        }
      ],
      "source": [
        "# Contoh:\n",
        "# Ini adalah komentar\n",
        "\n",
        "\"\"\"\n",
        "Penulisan Komentar lebih dari satu baris yaitu\n",
        "dengan menggunakan kutip dua 3 kali dan \n",
        "ditutup dengan kutip dua 3 kali juga\\\n",
        "\"\"\"\n",
        "\n",
        "print (\"Hello World!\") # Ini juga komentar"
      ]
    },
    {
      "cell_type": "markdown",
      "id": "58e503dd",
      "metadata": {
        "id": "58e503dd"
      },
      "source": [
        "### Variables"
      ]
    },
    {
      "cell_type": "markdown",
      "id": "64b0d5e1",
      "metadata": {
        "id": "64b0d5e1"
      },
      "source": [
        "- Variables adalah tempat untuk menyimpan nilai.\n",
        "- Penulisan nama variabel harus diawali dengan huruf atau underscore. Misal `ayam`, `_ayam`, `ayam20`. Penulisan yang diawali dengan selain dari ketentuan dapat menyebabkan eror. Misal `33ayam`.\n",
        "- Secara umum Python menggunakan style penamaan menggunakan huruf kecil yang dipisah dengan garis bawah. Misal `ayam_goreng`."
      ]
    },
    {
      "cell_type": "code",
      "execution_count": null,
      "id": "fa20b9eb",
      "metadata": {
        "id": "fa20b9eb",
        "outputId": "e2554fdf-f8c8-4b3e-f467-75d5e3afb1d5"
      },
      "outputs": [
        {
          "name": "stdout",
          "output_type": "stream",
          "text": [
            "1\n",
            "pisang\n"
          ]
        }
      ],
      "source": [
        "# Contoh:\n",
        "x = 1\n",
        "print (x)\n",
        "\n",
        "a = \"pisang\"\n",
        "print (a)"
      ]
    },
    {
      "cell_type": "markdown",
      "id": "da3be201",
      "metadata": {
        "id": "da3be201"
      },
      "source": [
        "## Data Types"
      ]
    },
    {
      "cell_type": "markdown",
      "id": "1cbe795f",
      "metadata": {
        "id": "1cbe795f"
      },
      "source": [
        "Tipe data adalah suatu media atau memori pada komputer yang digunakan untuk menampung informasi."
      ]
    },
    {
      "cell_type": "markdown",
      "id": "50623992",
      "metadata": {
        "id": "50623992"
      },
      "source": [
        "#### Macam-macam Tipe Data pada Python\n",
        "- **Boolean**: Menyatakan benar `True` yang bernilai `1`, atau salah `False` yang bernilai `0`\n",
        "\n",
        "- **String**: Menyatakan karakter/kalimat bisa berupa huruf angka, dll (diapit tanda \" atau ')\n",
        "\n",
        "- **Integer**: Menyatakan bilangan bulat\n",
        "\n",
        "- **Float**: Menyatakan bilangan yang mempunyai koma\n",
        "\n",
        "- **Complex**: Menyatakan pasangan angka real dan imajiner\n",
        "\n",
        "- **List**: Data untaian yang menyimpan berbagai tipe data dan isinya bisa diubah-ubah\n",
        "\n",
        "- **Tuple**: Data untaian yang menyimpan berbagai tipe data tapi isinya tidak bisa diubah\n",
        "\n",
        "- **Dictionary**: Data untaian yang menyimpan berbagai tipe data berupa pasangan penunjuk dan nilai"
      ]
    },
    {
      "cell_type": "markdown",
      "id": "46bc39a3",
      "metadata": {
        "id": "46bc39a3"
      },
      "source": [
        "<div>\n",
        "<img src=\"https://github.com/SamuelBenedix/WorkshopFKIP/blob/main/.ipynb_checkpoints/gambar/day2-1.png?raw=1\" width=\"750\"/>\n",
        "</div>"
      ]
    },
    {
      "cell_type": "code",
      "execution_count": null,
      "id": "ba364a4f",
      "metadata": {
        "id": "ba364a4f",
        "outputId": "235d13eb-3b44-4bd7-f8bd-594783d041a7"
      },
      "outputs": [
        {
          "name": "stdout",
          "output_type": "stream",
          "text": [
            "True\n",
            "Ayo belajar Python\n",
            "Belajar Python Sangat Mudah\n",
            "20\n",
            "3.14\n",
            "5j\n",
            "[1, 2, 3, 4, 5]\n",
            "['satu', 'dua', 'tiga']\n",
            "(1, 2, 3, 4, 5)\n",
            "('satu', 'dua', 'tiga')\n",
            "{'nama': 'Budi', 'umur': 20}\n"
          ]
        }
      ],
      "source": [
        "#tipe data Boolean\n",
        "print(True)\n",
        "\n",
        "#tipe data String\n",
        "print(\"Ayo belajar Python\")\n",
        "print('Belajar Python Sangat Mudah')\n",
        "\n",
        "#tipe data Integer\n",
        "print(20)\n",
        "\n",
        "#tipe data Float\n",
        "print(3.14)\n",
        "\n",
        "#tipe data Complex\n",
        "print(5j)\n",
        "\n",
        "#tipe data List\n",
        "print([1,2,3,4,5])\n",
        "print([\"satu\", \"dua\", \"tiga\"])\n",
        "\n",
        "#tipe data Tuple\n",
        "print((1,2,3,4,5))\n",
        "print((\"satu\", \"dua\", \"tiga\"))\n",
        "\n",
        "#tipe data Dictionary\n",
        "print({\"nama\":\"Budi\", 'umur':20})"
      ]
    },
    {
      "cell_type": "markdown",
      "id": "ca3e57b4",
      "metadata": {
        "id": "ca3e57b4"
      },
      "source": [
        "## Numbers"
      ]
    },
    {
      "cell_type": "markdown",
      "id": "d9f2c54c",
      "metadata": {
        "id": "d9f2c54c"
      },
      "source": [
        "Number adalah tipe data Python yang menyimpan nilai numerik. \n",
        "\n",
        "Tipe data number pada python:\n",
        "- **Int**: Merupakan bilangan bersifat diskrit.\n",
        "- **Float**: Merupakan bilangan desimal.\n",
        "- **Complex**: Merupakan pasangan angka real dan imajiner."
      ]
    },
    {
      "cell_type": "code",
      "execution_count": null,
      "id": "339cdfe7",
      "metadata": {
        "id": "339cdfe7",
        "outputId": "0896cd83-4dfa-4981-9fec-8000ec45c931"
      },
      "outputs": [
        {
          "name": "stdout",
          "output_type": "stream",
          "text": [
            "<class 'int'>\n",
            "<class 'float'>\n",
            "<class 'complex'>\n"
          ]
        }
      ],
      "source": [
        "# Contoh:\n",
        "x = 1    # int\n",
        "y = 2.8  # float\n",
        "z = 1j   # complex\n",
        "\n",
        "\n",
        "print(type(x))\n",
        "print(type(y))\n",
        "print(type(z))"
      ]
    },
    {
      "cell_type": "markdown",
      "id": "9ba405a5",
      "metadata": {
        "id": "9ba405a5"
      },
      "source": [
        "## Casting"
      ]
    },
    {
      "cell_type": "markdown",
      "id": "ec18dd00",
      "metadata": {
        "id": "ec18dd00"
      },
      "source": [
        "- Casting adalah konversi sebuah tipe data ke tipe data lain.\n",
        "- Python menyediakan fungsi build-in untuk casting tipe data.\n",
        "- `int()` digunakan untuk konversi ke tipe data integer.\n",
        "- `float()` digunakan untuk konversi ke tipe data float.\n",
        "- `str()` digunakan untuk konversi ke tipe data string."
      ]
    },
    {
      "cell_type": "code",
      "execution_count": null,
      "id": "aceeeb25",
      "metadata": {
        "id": "aceeeb25",
        "outputId": "c4b28f47-47e8-4f6b-d708-9af399e04560"
      },
      "outputs": [
        {
          "name": "stdout",
          "output_type": "stream",
          "text": [
            "2\n",
            "<class 'int'>\n",
            "7\n"
          ]
        }
      ],
      "source": [
        "# Casting integer\n",
        "x = int(2.8)\n",
        "y = int(\"3\")\n",
        "\n",
        "# Tipe data float yang dicasting ke integer akan otomatis dibulatkan.\n",
        "print(x)\n",
        "print(type(x))\n",
        "\n",
        "# Tipe data string yang dicasting ke integer dapat dioperasikan secara matematis.\n",
        "print(y + 4)"
      ]
    },
    {
      "cell_type": "code",
      "execution_count": null,
      "id": "be3de65a",
      "metadata": {
        "id": "be3de65a",
        "outputId": "575a44a7-8903-480c-f69f-31f34dbec886"
      },
      "outputs": [
        {
          "name": "stdout",
          "output_type": "stream",
          "text": [
            "1.0\n",
            "<class 'float'>\n",
            "3.0\n",
            "<class 'float'>\n",
            "4.2\n",
            "<class 'float'>\n"
          ]
        }
      ],
      "source": [
        "# Casting float\n",
        "x = float(1)\n",
        "y = float(\"3\")\n",
        "z = float(\"4.2\")\n",
        "\n",
        "# Bilangan integer yang dicasting ke float akan menghasilkan bilangan 0 di belakang koma.\n",
        "print(x)\n",
        "print(type(x))\n",
        "\n",
        "# Demikian juga dengan string\n",
        "print(y)\n",
        "print(type(y))\n",
        "\n",
        "# \n",
        "print(z)\n",
        "print(type(z))"
      ]
    },
    {
      "cell_type": "code",
      "execution_count": null,
      "id": "ac4cdb19",
      "metadata": {
        "id": "ac4cdb19",
        "outputId": "306143f3-ee28-4519-8043-7f326238a860"
      },
      "outputs": [
        {
          "name": "stdout",
          "output_type": "stream",
          "text": [
            "2\n",
            "<class 'str'>\n",
            "3.0\n",
            "<class 'str'>\n"
          ]
        }
      ],
      "source": [
        "# Casting string\n",
        "x = str(2) # Dari integer ke string\n",
        "y = str(3.0) # Dari float ke string\n",
        "\n",
        "print(x)\n",
        "print(type(x))\n",
        "print(y)\n",
        "print(type(y))"
      ]
    },
    {
      "cell_type": "markdown",
      "id": "ee543b8f",
      "metadata": {
        "id": "ee543b8f"
      },
      "source": [
        "# Pemateri Rahmat"
      ]
    },
    {
      "cell_type": "markdown",
      "id": "590c5af3",
      "metadata": {
        "id": "590c5af3"
      },
      "source": [
        "# String\n",
        "\n",
        "String merupakan tipe data teks yang terdiri dari beberapa karakter. Dibungkus dengan tanda kutip tunggal atau kutip ganda. Contoh string: `'Hello'` atau `\"Hello\"`."
      ]
    },
    {
      "cell_type": "code",
      "execution_count": null,
      "id": "5fb2ed65",
      "metadata": {
        "id": "5fb2ed65",
        "outputId": "b24795af-e8a8-4056-fdb7-c9fa8b9937df"
      },
      "outputs": [
        {
          "name": "stdout",
          "output_type": "stream",
          "text": [
            "Ini dicetak\n"
          ]
        }
      ],
      "source": [
        "# Dibungkus dengan kutip tunggal\n",
        "name = 'Ivan'\n",
        "phone_number = '082188778877'\n",
        "\n",
        "# Dibungkus dengan kutip ganda\n",
        "name = \"Ivan\"\n",
        "phone_number = \"082188778877\"\n",
        "\n",
        "# \n",
        "print(\"Ini dicetak\")"
      ]
    },
    {
      "cell_type": "markdown",
      "id": "44514dda",
      "metadata": {
        "id": "44514dda"
      },
      "source": [
        "## Python Triple Quotes\n",
        "Python triple quotes digunakan dengan membiarkan string ditulis dalam beberapa baris. Sintaks untuk triple quotes terdiri dari tiga tanda **kutip tunggal** atau **kutip ganda** ditulis berturut-turut."
      ]
    },
    {
      "cell_type": "code",
      "execution_count": null,
      "id": "e86e6dc4",
      "metadata": {
        "id": "e86e6dc4",
        "outputId": "6dba80b1-198c-4217-8d22-13c2d23478f7"
      },
      "outputs": [
        {
          "name": "stdout",
          "output_type": "stream",
          "text": [
            "Lorem ipsum dolor sit amet,\n",
            "consectetur adipiscing elit,\n",
            "sed do eiusmod tempor incididunt\n",
            "ut labore et dolore magna aliqua.\n"
          ]
        }
      ],
      "source": [
        "long_string = \"\"\"Lorem ipsum dolor sit amet,\n",
        "consectetur adipiscing elit,\n",
        "sed do eiusmod tempor incididunt\n",
        "ut labore et dolore magna aliqua.\"\"\"\n",
        "\n",
        "print(long_string)"
      ]
    },
    {
      "cell_type": "markdown",
      "id": "c01dfc19",
      "metadata": {
        "id": "c01dfc19"
      },
      "source": [
        "## Panjang String\n",
        "Panjang string (jumlah karakter dalam string) dapat dicari dengan menggunakan fungsi `len()`."
      ]
    },
    {
      "cell_type": "code",
      "execution_count": null,
      "id": "41b769bf",
      "metadata": {
        "id": "41b769bf",
        "outputId": "1f00a141-4590-4515-84e3-68e024e585fa"
      },
      "outputs": [
        {
          "name": "stdout",
          "output_type": "stream",
          "text": [
            "12\n"
          ]
        }
      ],
      "source": [
        "any = \"How are you?\"\n",
        "print(len(any))"
      ]
    },
    {
      "cell_type": "markdown",
      "id": "1f50519b",
      "metadata": {
        "id": "1f50519b"
      },
      "source": [
        "## String Formatting\n",
        "- String formatting memungkinkan kita untuk menyuntikkan variabel ke dalam string dari pada menggunakan penggabungan string dengan concatination.\n",
        "- String concatination pada Python tidak bisa secara langsung dilakukan apabila tipe data yang digabung bukan berupa string. Perlu melakukan casting terlebih dahulu. Sebagai contoh:\n",
        "```python\n",
        "x = 2019\n",
        "str = \"Tahun ini merupakan tahun \" + str(x) + \" masehi.\"\n",
        "```\n",
        "- Oleh karena itu, string formatting memudahkan dalam operasi ini.\n",
        "- String formatting terbagi menjadi beberapa cara."
      ]
    },
    {
      "cell_type": "markdown",
      "id": "c908c516",
      "metadata": {
        "id": "c908c516"
      },
      "source": [
        "### “Old Style” String Formatting (% Operator)"
      ]
    },
    {
      "cell_type": "code",
      "execution_count": null,
      "id": "50934694",
      "metadata": {
        "id": "50934694",
        "outputId": "8da3aa4e-9c78-4c9a-99d8-f59eb16c7141"
      },
      "outputs": [
        {
          "name": "stdout",
          "output_type": "stream",
          "text": [
            "Hello, John\n"
          ]
        }
      ],
      "source": [
        "name = \"John\"\n",
        "\n",
        "print('Hello, %s' % name)"
      ]
    },
    {
      "cell_type": "markdown",
      "id": "57543a8f",
      "metadata": {
        "id": "57543a8f"
      },
      "source": [
        "### “New Style” String Formatting (str.format)"
      ]
    },
    {
      "cell_type": "code",
      "execution_count": null,
      "id": "fb136334",
      "metadata": {
        "id": "fb136334",
        "outputId": "0c77d484-e0ed-4e0f-826f-a50952dd110e"
      },
      "outputs": [
        {
          "name": "stdout",
          "output_type": "stream",
          "text": [
            "Hello, John\n"
          ]
        }
      ],
      "source": [
        "name = \"John\"\n",
        "\n",
        "print('Hello, {}'.format(name))"
      ]
    },
    {
      "cell_type": "markdown",
      "id": "509770cb",
      "metadata": {
        "id": "509770cb"
      },
      "source": [
        "### String Interpolation / f-Strings (Python 3.6+)"
      ]
    },
    {
      "cell_type": "code",
      "execution_count": null,
      "id": "78f325d6",
      "metadata": {
        "id": "78f325d6",
        "outputId": "50a5665a-d17c-4153-b81c-cf9cbb0d346d"
      },
      "outputs": [
        {
          "name": "stdout",
          "output_type": "stream",
          "text": [
            "Hello, John!\n"
          ]
        }
      ],
      "source": [
        "name = \"John\"\n",
        "\n",
        "print(f'Hello, {name}!')"
      ]
    },
    {
      "cell_type": "markdown",
      "id": "43649781",
      "metadata": {
        "id": "43649781"
      },
      "source": [
        "### Template Strings (Standard Library)"
      ]
    },
    {
      "cell_type": "code",
      "execution_count": null,
      "id": "e7795ce3",
      "metadata": {
        "id": "e7795ce3",
        "outputId": "78275320-4725-425c-f5db-ebc7ee8617ee"
      },
      "outputs": [
        {
          "data": {
            "text/plain": [
              "'Hey, John!'"
            ]
          },
          "execution_count": 19,
          "metadata": {},
          "output_type": "execute_result"
        }
      ],
      "source": [
        "from string import Template\n",
        "name = \"John\"\n",
        "\n",
        "t = Template('Hey, $name!')\n",
        "t.substitute(name=name)"
      ]
    },
    {
      "cell_type": "markdown",
      "id": "3b2ea268",
      "metadata": {
        "id": "3b2ea268"
      },
      "source": [
        "# Boolean\n",
        "Boolean adalah suatu tipe data yang hanya mempunyai dua nilai. Yaitu `True` atau `False` (benar atau salah)"
      ]
    },
    {
      "cell_type": "code",
      "execution_count": null,
      "id": "d7ec050c",
      "metadata": {
        "id": "d7ec050c",
        "outputId": "a7c2fb31-3ca1-4426-f51b-b23581526635"
      },
      "outputs": [
        {
          "name": "stdout",
          "output_type": "stream",
          "text": [
            "True\n",
            "False\n"
          ]
        }
      ],
      "source": [
        "x = True\n",
        "y = False\n",
        "\n",
        "print(x)\n",
        "print(y)"
      ]
    },
    {
      "cell_type": "markdown",
      "id": "b9eceaf3",
      "metadata": {
        "id": "b9eceaf3"
      },
      "source": [
        "# Operators"
      ]
    },
    {
      "cell_type": "markdown",
      "id": "abcde89d",
      "metadata": {
        "id": "abcde89d"
      },
      "source": [
        "## Arithmetic Operators\n",
        "| Operator | Contoh | Makna |\n",
        "| :-----------: | :-----------: | :----------- |\n",
        "| + | +x | Positif |\n",
        "| + | x + y | Penambahan |\n",
        "| - | -x | Negatif |\n",
        "| - | x - y | Pengurangan |\n",
        "| * | x * y | Perkalian |\n",
        "| / | x / y | Pembagian yang menghasilkan float |\n",
        "| % | x % y | Modulo |\n",
        "| // | x // y | Pembagian dibulatkan |\n",
        "| ** | x ** y | Perpangkatan |"
      ]
    },
    {
      "cell_type": "code",
      "execution_count": null,
      "id": "0457ec36",
      "metadata": {
        "id": "0457ec36",
        "outputId": "261de80c-2531-4de2-e570-fd771f1e0f9f"
      },
      "outputs": [
        {
          "name": "stdout",
          "output_type": "stream",
          "text": [
            "10 + 3 = 13\n",
            "10 - 3 = 7\n",
            "10 * 3 = 30\n",
            "10 / 3 = 3.3333333333333335\n",
            "10 % 3 = 1\n",
            "10 ** 3 = 1000\n",
            "10 // 3 = 3\n"
          ]
        }
      ],
      "source": [
        "x = 10\n",
        "y = 3\n",
        "\n",
        "print(f'10 + 3 = {x+y}')\n",
        "print(f'10 - 3 = {x-y}')\n",
        "print(f'10 * 3 = {x*y}')\n",
        "print(f'10 / 3 = {x/y}')\n",
        "print(f'10 % 3 = {x%y}')\n",
        "print(f'10 ** 3 = {x**y}')\n",
        "print(f'10 // 3 = {x//y}')"
      ]
    },
    {
      "cell_type": "markdown",
      "id": "2ed5cded",
      "metadata": {
        "id": "2ed5cded"
      },
      "source": [
        "## Comparison Operators\n",
        "| Operator | Contoh | Makna |\n",
        "| :-----------: | :-----------: | :----------- |\n",
        "| == | x == y | Sama dengan |\n",
        "| != | x != y | Tidak sama dengan |\n",
        "| < | x < y | Lebih kecil |\n",
        "|<= | x <= y | Lebih kecil atau sama dengan |\n",
        "| > | x > y | Lebih besar |\n",
        "| >= | x >= y | Lebih besar atau sama dengan |"
      ]
    },
    {
      "cell_type": "code",
      "execution_count": null,
      "id": "efbd4c10",
      "metadata": {
        "id": "efbd4c10",
        "outputId": "e13c20b5-6538-46e2-c240-f3fe3f57cca8"
      },
      "outputs": [
        {
          "name": "stdout",
          "output_type": "stream",
          "text": [
            "x > y is False\n",
            "x < y is True\n",
            "x == y is False\n",
            "x != y is True\n",
            "x >= y is False\n",
            "x <= y is True\n"
          ]
        }
      ],
      "source": [
        "x = 10\n",
        "y = 12\n",
        "\n",
        "print('x > y is',x>y)\n",
        "\n",
        "print('x < y is',x<y)\n",
        "\n",
        "print('x == y is',x==y)\n",
        "\n",
        "print('x != y is',x!=y)\n",
        "\n",
        "print('x >= y is',x>=y)\n",
        "\n",
        "print('x <= y is',x<=y)"
      ]
    },
    {
      "cell_type": "markdown",
      "id": "bba1d07f",
      "metadata": {
        "id": "bba1d07f"
      },
      "source": [
        "## Logical Operators\n",
        "- Operator ini membandingkan dua nilai yang akan menghasilkan boolean.\n",
        "| Operator | Contoh | Makna |\n",
        "| :-----------: | :-----------: | :----------- |\n",
        "    | not | x not y | `True` jika x adalah `False` |\n",
        "| or | x or y | `True` jika x atau y bernilai `True` |\n",
        "| and | x and y | `True` jika x dan y bernilai `True` |"
      ]
    },
    {
      "cell_type": "code",
      "execution_count": null,
      "id": "23792abb",
      "metadata": {
        "id": "23792abb",
        "outputId": "91580ed9-d274-416a-ed85-16602d66ffa1"
      },
      "outputs": [
        {
          "name": "stdout",
          "output_type": "stream",
          "text": [
            "x and y is False\n",
            "x or y is True\n",
            "not x is False\n"
          ]
        }
      ],
      "source": [
        "x = True\n",
        "y = False\n",
        "\n",
        "print('x and y is',x and y)\n",
        "\n",
        "print('x or y is',x or y)\n",
        "\n",
        "print('not x is',not x)"
      ]
    },
    {
      "cell_type": "markdown",
      "id": "48a7c6cc",
      "metadata": {
        "id": "48a7c6cc"
      },
      "source": [
        "# Kondisi\n",
        "- Conditional statements membantu dalam membuat keputusan dengan kondisi yang diberikan.\n",
        "- Python memiliki beberapa jenis conditional statements:\n",
        "    1. `if`\n",
        "    2. `if-else`\n",
        "    3. nested `if`\n",
        "    4. `if...elif` ladder"
      ]
    },
    {
      "cell_type": "markdown",
      "id": "b826b0e1",
      "metadata": {
        "id": "b826b0e1"
      },
      "source": [
        "## Pernyataan `if`\n",
        "- Pernyataan ini merupakan fundamental dari pernyataan pengambilan keputusan.\n",
        "- Kode di dalam blok akan dieksekusi jika kondisi yang ditentukan terpenuhi.\n",
        "- Pernyataan di dalam if dapat berbentuk satu baris atau multi-baris (blok).\n",
        "- Sintaks dari pernyataan if:\n",
        "```python\n",
        "if expression:\n",
        "    # statement\n",
        "```\n",
        "`expression` di atas merupakan kondisi yang didefinisikan.\n",
        "- Berikut flowchart yang menggambarkan bagaimana pengkondisian bekerja.\n",
        "<img src=\"https://github.com/SamuelBenedix/WorkshopFKIP/blob/main/.ipynb_checkpoints/gambar/day2-2.png?raw=1\" alt=\"day2-2\" width=\"400\"/>\n",
        "- Flowchart di atas apabila dikonversi kode program, maka hasilnya akan seperti di bawah."
      ]
    },
    {
      "cell_type": "code",
      "execution_count": null,
      "id": "5aacf73b",
      "metadata": {
        "id": "5aacf73b",
        "outputId": "28181609-573b-448d-fc90-180aefe8eca7"
      },
      "outputs": [
        {
          "name": "stdout",
          "output_type": "stream",
          "text": [
            "Sembilan Lebih Besar Dari Angka Tujuh\n"
          ]
        }
      ],
      "source": [
        "nilai = 9\n",
        "\n",
        "#jika kondisi True maka program akan mengeksekusi perintah dibawahnya\n",
        "if(nilai > 7):\n",
        "    print(\"Sembilan lebih besar dari angka tujuh\") # Kondisi Benar, Dieksekusi"
      ]
    },
    {
      "cell_type": "markdown",
      "id": "ccc5c226",
      "metadata": {
        "id": "ccc5c226"
      },
      "source": [
        "- Apabila ekspresi menghasilkan nilai `False`, maka program hanya akan melewati blok kode seperti program di bawah ini."
      ]
    },
    {
      "cell_type": "code",
      "execution_count": null,
      "id": "1d356623",
      "metadata": {
        "id": "1d356623"
      },
      "outputs": [],
      "source": [
        "nilai = 9\n",
        "\n",
        "#jika kondisi False maka program tidak akan mengeksekusi perintah dibawahnya\n",
        "if(nilai > 10):\n",
        "    print(\"Sembilan lebih besar dari angka sepuluh\") # Kondisi Salah, Maka tidak tereksekusi"
      ]
    },
    {
      "cell_type": "markdown",
      "id": "c88173cc",
      "metadata": {
        "id": "c88173cc"
      },
      "source": [
        "## Pernyataan `if-else`\n",
        "- Pernyataan ini memanfaatkan sisi True dan False di kondisi yang diberikan.\n",
        "- Ketika kondisi menghasilkan nilai `True` makak pernyataan di dalam blok `if` akan dieksekusi. Sebaliknya, jika bernilai `False`, maka pernyataan di dalam `else` akan dijalankan.\n",
        "- Sintaks dari pernyataan `if-else`:\n",
        "```python\n",
        "if expression:\n",
        "    # statement jika True\n",
        "else:\n",
        "    # statement jika False\n",
        "```\n",
        "- Contoh flowchart dan kode pernyataan `if-else` digambarkan di bawah ini.\n",
        "<img src=\"https://github.com/SamuelBenedix/WorkshopFKIP/blob/main/.ipynb_checkpoints/gambar/day2-3.png?raw=1\" alt=\"day2-3\" width=\"400\"/>"
      ]
    },
    {
      "cell_type": "code",
      "execution_count": null,
      "id": "e472b90f",
      "metadata": {
        "scrolled": true,
        "id": "e472b90f",
        "outputId": "b403f24b-bd3c-45f5-ab9b-9c4433ec9063"
      },
      "outputs": [
        {
          "name": "stdout",
          "output_type": "stream",
          "text": [
            "Maaf Anda Tidak Lulus\n"
          ]
        }
      ],
      "source": [
        "nilai = 3\n",
        "#Jika pernyataan pada if bernilai TRUE maka if akan dieksekusi, tetapi jika FALSE kode pada else yang akan dieksekusi.\n",
        "if(nilai > 7):\n",
        "    print(\"Selamat Anda lulus\")\n",
        "else:\n",
        "    print(\"Maaf Anda Tidak lulus\")"
      ]
    },
    {
      "cell_type": "markdown",
      "id": "ce11f012",
      "metadata": {
        "id": "ce11f012"
      },
      "source": [
        "## Pernyataan `if...elif`\n",
        "\n",
        "- Dalam kasus ini, kondisi if akan dievaluasi akan dijalankan saat program memasuki pernyataan `if`. Jika kondisi menghasilkan `False`, maka pernyataan `elif` akan dijalankan. Jika kondisi `elif` juga menghasilkan `False`, maka pernyataan `else` akan dijalankan.\n",
        "- Sintaks dari pernyataan `if...elif`:\n",
        "```python\n",
        "if expression1:\n",
        "    # statement jika expression1 True\n",
        "elif expression2:\n",
        "    # statement jika expression2 True\n",
        "else:\n",
        "    # statement jika seluruhnya False\n",
        "```\n",
        "- Berikut contoh flowchart dan kode.\n",
        "<img src=\"https://github.com/SamuelBenedix/WorkshopFKIP/blob/main/.ipynb_checkpoints/gambar/day2-4.png?raw=1\" alt=\"day2-4\"/>"
      ]
    },
    {
      "cell_type": "code",
      "execution_count": null,
      "id": "15140a1e",
      "metadata": {
        "id": "15140a1e",
        "outputId": "8355f4fd-d2c9-4486-86da-c7c79cb9ffcc"
      },
      "outputs": [
        {
          "name": "stdout",
          "output_type": "stream",
          "text": [
            "Saya akan libur\n"
          ]
        }
      ],
      "source": [
        "hari = \"Minggu\"\n",
        "\n",
        "if(hari == \"Senin\"):\n",
        "    print(\"Saya akan kuliah\")\n",
        "elif(hari == \"Selasa\"):\n",
        "    print(\"Saya akan kuliah\")\n",
        "elif(hari == \"Rabu\"):\n",
        "    print(\"Saya akan kuliah\")\n",
        "elif(hari == \"Kamis\"):\n",
        "    print(\"Saya akan kuliah\")\n",
        "elif(hari == \"Jumat\"):\n",
        "    print(\"Saya akan kuliah\")\n",
        "elif(hari == \"Sabtu\"):\n",
        "    print(\"Saya akan libur\")\n",
        "elif(hari == \"Minggu\"):\n",
        "    print(\"Saya akan libur\")\n",
        "else:\n",
        "    print(\"Nama hari tidak dikenali\")"
      ]
    },
    {
      "cell_type": "markdown",
      "id": "9ecbf2b4",
      "metadata": {
        "id": "9ecbf2b4"
      },
      "source": [
        "## Pernyataan nested `if`\n",
        "- Pernyataan `if` dapat dibuat di dalam pernyataan `if` lainnya. Ini diperlukan ketika kondisi variabel perlu diproses lebih dari sekali.\n",
        "- Pernyataan `if`, `if-else`, `if...elif` dapat digunakan dalam kasus ini.\n",
        "- Contoh sintaks dari pernyataan nested `if`:\n",
        "```python\n",
        "if expression1:\n",
        "    if expression2:\n",
        "        # Dieksekusi jika expression1 dan expression2 True\n",
        "else:\n",
        "    # statement jika False\n",
        "```\n",
        "- Berikut contoh flowchart dan kodenya.\n",
        "<img src=\"https://github.com/SamuelBenedix/WorkshopFKIP/blob/main/.ipynb_checkpoints/gambar/day2-5.png?raw=1\" alt=\"day2-5\"/>"
      ]
    },
    {
      "cell_type": "code",
      "execution_count": null,
      "id": "21fff546",
      "metadata": {
        "id": "21fff546",
        "outputId": "3ac09e3d-8874-40ff-8e0c-9028ba8e789d"
      },
      "outputs": [
        {
          "name": "stdout",
          "output_type": "stream",
          "text": [
            "Positive number\n"
          ]
        }
      ],
      "source": [
        "nilai = 8\n",
        "if nilai >= 0:\n",
        "    if nilai == 0:\n",
        "        print(\"Zero\")\n",
        "    else:\n",
        "        print(\"Positive number\")\n",
        "else:\n",
        "    print(\"Negative number\")"
      ]
    },
    {
      "cell_type": "markdown",
      "id": "af82dab2",
      "metadata": {
        "id": "af82dab2"
      },
      "source": [
        "# Perulangan\n",
        "- Perulangan (loop) merupakan salah satu dasar entitas yang ada pada bahasa pemrograman. Dengan pernyataan loop, kita dapat mengeksekusi kode berulang kali sampai pada kondisi `False`. Sekali kondisi menjadi `False`, maka program akan mengakhiri iterasi.\n",
        "- Kita dapat membuat loop dari array, seperti list, dictionary, dan lain-lain atau membuat loop dari jumlah iterasi yang ditentukan.\n",
        "- Di dalam Python terdapat dua cara penulisan loop yang berbeda, yaitu **while loop** dan **for loop**."
      ]
    },
    {
      "cell_type": "markdown",
      "id": "a0a66ace",
      "metadata": {
        "id": "a0a66ace"
      },
      "source": [
        "## While Loop\n",
        "- Pernyataan while loop akan memeriksa kondisi pada saat diawal eksekusi sampai kondisi terpenuhi(`False`).\n",
        "- Pernyataan ini akan mengeksekusi blok kode berulang kali sampai kondisi terpenuhi. Kondisi kapan terpenuhinya tidak ditetapkan seberapa banyak iterasi itu diulang.\n",
        "<!-- <img src=\"day2-6.png\" alt=\"day2-6\" width=\"400\"/> -->\n",
        "![day2-6](https://github.com/SamuelBenedix/WorkshopFKIP/blob/main/.ipynb_checkpoints/gambar/day2-6.png?raw=1)\n",
        "- Sintaks while loop sebagai berikut.\n",
        "```python\n",
        "while condition:\n",
        "    # The loop body\n",
        "```\n",
        "`condition` merupakan kriteria yang akan mengiterasi loop. Selama bernilai `True` maka blok dari loop akan dijalankan. Setelah berubah menjadi `False` maka Python akan menghentikan eksekusi loop tersebut.\n",
        "- Pada contoh program di bawah, terdapat variabel `count` yang bernilai awal `0`. Ketika pernyataan while dijalankan, maka pemeriksaaan kondisi akan dilakukan terlebih dahulu. Dalam hal ini, `count < 9` akan menghasilkan nilai `True` maka blok kode akan dijalankan. Di dalam loop, kita menambahkan variabel `count` dengan angka 1 sehingga `count` sekarang menjadi 1. Kondisi pada iterasi selanjutnya akan menghasilkan `True` hingga angka `count` mencapai nilai 9 yang mengakibatkan pemeriksaan menghasilkan `False`, maka eksekusi akan berhenti.\n",
        "<!-- <img src=\"day2-7.png\" alt=\"day2-7\" width=\"400\"/> -->\n",
        "![day2-7](https://github.com/SamuelBenedix/WorkshopFKIP/blob/main/.ipynb_checkpoints/gambar/day2-7.png?raw=1)"
      ]
    },
    {
      "cell_type": "code",
      "execution_count": null,
      "id": "ac63ce7e",
      "metadata": {
        "scrolled": false,
        "id": "ac63ce7e",
        "outputId": "20b318ef-ccf2-462c-af77-220e67b453bf"
      },
      "outputs": [
        {
          "name": "stdout",
          "output_type": "stream",
          "text": [
            "The count is:  0\n",
            "The count is:  1\n",
            "The count is:  2\n",
            "The count is:  3\n",
            "The count is:  4\n",
            "The count is:  5\n",
            "The count is:  6\n",
            "The count is:  7\n",
            "The count is:  8\n",
            "Good bye!\n"
          ]
        }
      ],
      "source": [
        "#Contoh penggunaan While Loop\n",
        "#Catatan: Penentuan ruang lingkup di Python bisa menggunakan tab alih-alih menggunakan tanda kurung\n",
        "\n",
        "angka = 0\n",
        "while (angka < 9):\n",
        "    print (\"Angka: \", angka)\n",
        "    angka = angka + 1"
      ]
    },
    {
      "cell_type": "markdown",
      "id": "41cd8a1f",
      "metadata": {
        "id": "41cd8a1f"
      },
      "source": [
        "## For Loop"
      ]
    },
    {
      "cell_type": "markdown",
      "id": "a1b78e70",
      "metadata": {
        "id": "a1b78e70"
      },
      "source": [
        "## For Loop\n",
        "- Pernyataan for loop digunakan untuk mengiterasi kode program dari sequence yang diberikan. Sequence dapat berupa string, list, tuple, dan lain-lain.\n",
        "- Selama panjang dari sequence yang diberikan belum tercapai, maka pernyataan tersebut akan mengiterasi blok kode.\n",
        "![day2-8](https://github.com/SamuelBenedix/WorkshopFKIP/blob/main/.ipynb_checkpoints/gambar/day2-8.png?raw=1)\n",
        "- Sintaks for loop sebagai berikut.\n",
        "```python\n",
        "for value in sequence:\n",
        "    # The loop body\n",
        "```\n",
        "- `sequence` pada sintaks di atas dapat berupa variabel yang dapat diiterasi (misal string, list, tuple) atau range yang ditentukan menggunakan fungsi `range()`.\n",
        "- Fungsi `range()` akan menciptakan deretan angka dari parameter yang ditentukan.\n",
        "```python\n",
        "range(10) # 0, 1, 2, 3, 4, 5, 6, 7, 8, 9\n",
        "range(4, 8) # 4, 5, 6, 7\n",
        "range(4, 20, 2) # 4, 6, 8, 10, 12, 14, 16, 18\n",
        "```\n",
        "- Contoh pertama dan kedua pada program di bawah terdapat list dengan jumlah item tertentu. Pernyataan for akan mengiterasi item pada list satu persatu menjadi variabel x (contoh pertama) hingga mencapai item terakhir.\n",
        "- Contoh ketiga menggunakan fungsi `range()` untuk mengiterasi dari hingga sampai angka yang ditentukan. Dalam kasus ini parameter fungsi tersebut diisi dengan angka 10 sehingga akan mengiterasi sebanyak 10 kali (dari 0 sampai 9)."
      ]
    },
    {
      "cell_type": "code",
      "execution_count": null,
      "id": "eebc5aea",
      "metadata": {
        "scrolled": false,
        "id": "eebc5aea",
        "outputId": "d336cc57-9e03-442e-c71a-be8b7819a5d6"
      },
      "outputs": [
        {
          "name": "stdout",
          "output_type": "stream",
          "text": [
            "1\n",
            "2\n",
            "3\n",
            "4\n",
            "5\n",
            "Saya suka makan nanas\n",
            "Saya suka makan apel\n",
            "Saya suka makan jeruk\n"
          ]
        }
      ],
      "source": [
        "#Contoh pengulangan for pada tipe data list\n",
        "angka = [1,2,3,4,5]\n",
        "for x in angka:\n",
        "    print(x)\n",
        "\n",
        "buah = [\"nanas\", \"apel\", \"jeruk\"]\n",
        "for makanan in buah:\n",
        "    print (\"Saya suka makan\", makanan)"
      ]
    },
    {
      "cell_type": "markdown",
      "id": "ab2ea4de",
      "metadata": {
        "id": "ab2ea4de"
      },
      "source": [
        "Variabel `x` merepresentasikan setiap item yang berada di variabel `angka`. \n",
        "\n",
        "Variabel `makanan` merepresentasikan setiap item yang berada di variabel `buah`."
      ]
    },
    {
      "cell_type": "markdown",
      "id": "d82b62c7",
      "metadata": {
        "id": "d82b62c7"
      },
      "source": [
        "## Nested Loops\n",
        "- Sama seperti nested if-else, loop dapat juga memilik loop di dalamnya."
      ]
    },
    {
      "cell_type": "markdown",
      "id": "8c9678cb",
      "metadata": {
        "id": "8c9678cb"
      },
      "source": [
        "![day2-9](https://github.com/SamuelBenedix/WorkshopFKIP/blob/main/.ipynb_checkpoints/gambar/day2-9.png?raw=1)"
      ]
    },
    {
      "cell_type": "code",
      "execution_count": null,
      "id": "a90e8724",
      "metadata": {
        "scrolled": true,
        "id": "a90e8724",
        "outputId": "c83d3919-1ad9-4715-f945-d9bbd6aa81c6"
      },
      "outputs": [
        {
          "name": "stdout",
          "output_type": "stream",
          "text": [
            "2  adalah prima\n",
            "3  adalah prima\n",
            "5  adalah prima\n",
            "7  adalah prima\n",
            "11  adalah prima\n",
            "13  adalah prima\n",
            "17  adalah prima\n",
            "19  adalah prima\n",
            "23  adalah prima\n",
            "29  adalah prima\n",
            "31  adalah prima\n",
            "37  adalah prima\n",
            "41  adalah prima\n",
            "43  adalah prima\n",
            "47  adalah prima\n",
            "53  adalah prima\n",
            "59  adalah prima\n",
            "61  adalah prima\n",
            "67  adalah prima\n",
            "71  adalah prima\n",
            "73  adalah prima\n",
            "79  adalah prima\n",
            "83  adalah prima\n",
            "89  adalah prima\n",
            "97  adalah prima\n"
          ]
        }
      ],
      "source": [
        "#Contoh penggunaan Nested Loop\n",
        "#Catatan: Penggunaan modulo pada kondisional mengasumsikan nilai selain nol sebagai True(benar) dan nol sebagai False(salah)\n",
        "\n",
        "i = 2\n",
        "while(i < 100):\n",
        "    j = 2\n",
        "    while(j <= (i/j)):\n",
        "        if not(i%j):\n",
        "            break\n",
        "        j = j + 1\n",
        "    if (j > i/j):\n",
        "        print(i, \" adalah prima\")\n",
        "    i = i + 1\n"
      ]
    },
    {
      "cell_type": "markdown",
      "id": "bba2f3f3",
      "metadata": {
        "id": "bba2f3f3"
      },
      "source": [
        "## Break dan Continue\n",
        "- Secara default Python akan mengiterasi sampai pada batas yang ditentukan.\n",
        "- Terkadang ada kasus di mana ingin menghentikan loop sebelum pada waktunya. Untuk melakukan hal tersebut maka kata kunci `break` dapat digunakan.\n",
        "- Untuk melewati/melompati iterasi saat ini dan berlanjut ke iterasi berikutnya, maka solusinya adalah menggunakan kata kunci `continue` "
      ]
    },
    {
      "cell_type": "code",
      "execution_count": null,
      "id": "aa779489",
      "metadata": {
        "id": "aa779489",
        "outputId": "0314ae41-98d6-4da5-b40b-f15b2064759a"
      },
      "outputs": [
        {
          "name": "stdout",
          "output_type": "stream",
          "text": [
            "1\n",
            "2\n",
            "3\n",
            "4\n"
          ]
        }
      ],
      "source": [
        "numbers = [1, 2, 3, 4, 5, 6, 7, 8, 9, 10]\n",
        "for i in numbers:\n",
        "    if i == 5:\n",
        "        break\n",
        "    print(i)"
      ]
    },
    {
      "cell_type": "code",
      "execution_count": null,
      "id": "28942de7",
      "metadata": {
        "id": "28942de7",
        "outputId": "68de1932-87e0-4ed2-d897-6497cfa6dda0"
      },
      "outputs": [
        {
          "name": "stdout",
          "output_type": "stream",
          "text": [
            "1\n",
            "2\n",
            "3\n",
            "4\n",
            "6\n",
            "7\n",
            "8\n",
            "9\n",
            "10\n"
          ]
        }
      ],
      "source": [
        "numbers = [1, 2, 3, 4, 5, 6, 7, 8, 9, 10]\n",
        "for i in numbers:\n",
        "    if i == 5:\n",
        "        continue\n",
        "    print(i)"
      ]
    },
    {
      "cell_type": "markdown",
      "id": "6ec7b201",
      "metadata": {
        "id": "6ec7b201"
      },
      "source": [
        "# Containers\n",
        "- Python memiliki beberapa tipe data build-in untuk menampung kumpulan nilai yang bertipe data tertentu.\n",
        "- Kumpulan nilai pada container dapat diiterasi menggunakan looping.\n",
        "- Beda tipe data container maka tujuan penggunan dan kecepatan komputasi juga berbeda.\n",
        "- Tipe-tipe data container:\n",
        "    - List\n",
        "    - Tuple\n",
        "    - Dictionary\n",
        "    - Set"
      ]
    },
    {
      "cell_type": "markdown",
      "id": "71e3854c",
      "metadata": {
        "id": "71e3854c"
      },
      "source": [
        "## List\n",
        "- List merupakan struktur data yang bersifat **mutable** (dapat diubah) dan memiliki indeks. Setiap elemen yang berada di dalamnya disebut dengan item.\n",
        "- List didefinisikan sebagai kumpulan nilai dengan tipe data tertentu yang dipisah dengan koma dan dibungkus dengan kurung siku `[]`.\n",
        "- List dapat dibayangkan sebagai perpustakaan yang mana item di dalamnya sebagai buku-buku yang tersusun terurut berdasarkan nomor buku.\n",
        "- Berikut contoh dari list."
      ]
    },
    {
      "cell_type": "code",
      "execution_count": null,
      "id": "579f6775",
      "metadata": {
        "id": "579f6775",
        "outputId": "8185481b-979d-483a-c09e-c76816f180f0"
      },
      "outputs": [
        {
          "name": "stdout",
          "output_type": "stream",
          "text": [
            "['kimia', 'fisika', 'biologi', 'matematika']\n"
          ]
        }
      ],
      "source": [
        "contoh_list = [\"kimia\", \"fisika\", \"biologi\", \"matematika\"]\n",
        "\n",
        "print(contoh_list)"
      ]
    },
    {
      "cell_type": "markdown",
      "id": "c8381540",
      "metadata": {
        "id": "c8381540"
      },
      "source": [
        "- List memiliki indeks berjenis integer. Indeks ini dimulai dari 0.\n",
        "![List index](https://github.com/SamuelBenedix/WorkshopFKIP/blob/main/.ipynb_checkpoints/listindex.png?raw=1)"
      ]
    },
    {
      "cell_type": "markdown",
      "id": "4fcf0e1d",
      "metadata": {
        "id": "4fcf0e1d"
      },
      "source": [
        "### Mengakses Item\n",
        "- Mengakses item pada list sama seperti memanggil variabel pada umumnya, hanya saja kita menentukan indeks yang mana perlu diambil.\n",
        "- Sintaks pengaksesan menggunakan kurung siku yang berisi indeks setelah nama variabelnya(`[]`). Misalnya `contoh_list[2]`."
      ]
    },
    {
      "cell_type": "code",
      "execution_count": null,
      "id": "17d22cbd",
      "metadata": {
        "id": "17d22cbd",
        "outputId": "3de93c58-b867-4e28-fe87-c880f6ef2c6f"
      },
      "outputs": [
        {
          "name": "stdout",
          "output_type": "stream",
          "text": [
            "list1[0]:  kimia\n",
            "list2[1:5]:  [2, 3, 4, 5]\n"
          ]
        }
      ],
      "source": [
        "list1 = [\"kimia\", \"fisika\", 1993, 2017]\n",
        "list2 = [1, 2, 3, 4, 5 ]\n",
        "list3 = [\"a\", \"b\", \"c\", \"d\"]\n",
        "\n",
        "print (\"list1[0]: \", list1[0])\n",
        "print (\"list2[1:5]: \", list2[1:5])"
      ]
    },
    {
      "cell_type": "markdown",
      "id": "4121d0cf",
      "metadata": {
        "id": "4121d0cf"
      },
      "source": [
        "### Mengubah nilai item\n",
        "Mengubah nilai pada item sama halnya dengan mengubah variabel."
      ]
    },
    {
      "cell_type": "code",
      "execution_count": null,
      "id": "e4a2457a",
      "metadata": {
        "id": "e4a2457a",
        "outputId": "76785cd4-7c5f-4d95-ad98-bfa85e69628c"
      },
      "outputs": [
        {
          "name": "stdout",
          "output_type": "stream",
          "text": [
            "Nilai ada pada index 2 :  1993\n",
            "Nilai baru ada pada index 2 :  2001\n"
          ]
        }
      ],
      "source": [
        "list = ['fisika', 'kimia', 1993, 2017]\n",
        "print (\"Nilai ada pada index 2 : \", list[2])\n",
        "\n",
        "list[2] = 2001 # Item pada indeks ke-2 diubah dengan nilai baru \n",
        "print (\"Nilai baru ada pada index 2 : \", list[2])"
      ]
    },
    {
      "cell_type": "markdown",
      "id": "eb3d13f8",
      "metadata": {
        "id": "eb3d13f8"
      },
      "source": [
        "### Menghapus Item\n",
        "Item pada list dapat dihapus dengan keyword `del`."
      ]
    },
    {
      "cell_type": "code",
      "execution_count": null,
      "id": "a979f367",
      "metadata": {
        "id": "a979f367",
        "outputId": "fe86ce57-8491-41b8-98da-5acf23cd0733"
      },
      "outputs": [
        {
          "name": "stdout",
          "output_type": "stream",
          "text": [
            "['fisika', 'kimia', 1993, 2017]\n",
            "Setelah dihapus nilai pada index 2 :  ['fisika', 'kimia', 2017]\n"
          ]
        }
      ],
      "source": [
        "list = ['fisika', 'kimia', 1993, 2017]\n",
        "\n",
        "print (list)\n",
        "del list[2] # Item pada indeks ke-2 dihapus\n",
        "print (\"Setelah dihapus nilai pada index 2 : \", list)"
      ]
    },
    {
      "cell_type": "markdown",
      "id": "9d15b021",
      "metadata": {
        "id": "9d15b021"
      },
      "source": [
        "### Kenapa memilih List?\n",
        "- **List bersifat dinamis**: itu berarti bahwa kita dapat menambah beberapa elemen, mengupdatenya, atau menghapusnya. Kita tidak perlu menentukan panjang awal dari list saat deklarasi. Panjang list akan otomatis bertambah saat item ditambahkan.\n",
        "- **List bersifat ordered**: Elemen pada list akan tersusun sesuai urutan pada saat deklarasi.\n",
        "- **List bersifat heterogenous**: Sebuah list dapat mengandung tipe data yang berbeda-beda. Seperti contoh, list menampung tipe data integer, float, string, dan bahkan menampung list di dalamnya.\n",
        "- **Duplikasi diperbolehkan**: List pada Python dapat mengandung beberapa elemen dengan nilai yang sama."
      ]
    }
  ],
  "metadata": {
    "kernelspec": {
      "display_name": "Python 3 (ipykernel)",
      "language": "python",
      "name": "python3"
    },
    "language_info": {
      "codemirror_mode": {
        "name": "ipython",
        "version": 3
      },
      "file_extension": ".py",
      "mimetype": "text/x-python",
      "name": "python",
      "nbconvert_exporter": "python",
      "pygments_lexer": "ipython3",
      "version": "3.9.7"
    },
    "colab": {
      "provenance": []
    }
  },
  "nbformat": 4,
  "nbformat_minor": 5
}
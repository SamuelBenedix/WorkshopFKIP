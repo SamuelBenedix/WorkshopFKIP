{
 "cells": [
  {
   "cell_type": "markdown",
   "id": "2024a7c7",
   "metadata": {},
   "source": [
    "# Pemateri Zahra"
   ]
  },
  {
   "cell_type": "markdown",
   "id": "add18f78",
   "metadata": {},
   "source": [
    "# Dasar Python"
   ]
  },
  {
   "cell_type": "markdown",
   "id": "f6f651d1",
   "metadata": {},
   "source": [
    "## Syntax"
   ]
  },
  {
   "cell_type": "markdown",
   "id": "19a0c751",
   "metadata": {},
   "source": [
    "Syntax adalah rangkaian aturan atas susunan kode atau ekspresi secara terstruktur.\n",
    "Sifat penulisan syntax pada python:\n",
    "- Case sensitive\n",
    "- Tidak menggunakan titik koma\n",
    "- Indentasi sebagai pembentuk struktur\n",
    "- Tidak ketat terhadap tipe data\n",
    "- Human friendly\n",
    "\n"
   ]
  },
  {
   "cell_type": "markdown",
   "id": "0a8288c5",
   "metadata": {},
   "source": [
    "### Case Sensitive\n",
    "- Secara umum bahasa pemrograman bersifat case sensitive, artinya huruf kecil dengan huruf besar dikatakan tidak sama. Sebagai contoh pada penulisan variabel `ibu_kota` akan berbeda dengan variabel `Ibu_kota`.\n",
    "```python\n",
    "ibu_kota = \"Palembang\"\n",
    "print(iBu_kota) # Error\n",
    "```"
   ]
  },
  {
   "cell_type": "markdown",
   "id": "a2fae8f7",
   "metadata": {},
   "source": [
    "### Tidak Menggunakan Titik Koma"
   ]
  },
  {
   "cell_type": "markdown",
   "id": "5192272d",
   "metadata": {},
   "source": [
    "- Berbeda dengan bahasa pemrograman yang lain, Python tidak menggunakan titik koma (kecuali pada kasus tertentu) pada statement.\n",
    "- Di bawah ini merupakan contoh perbandingan penulisan statement dengan bahasa Java dan Python.\n",
    "\n",
    "**Java**\n",
    "\n",
    "```java\n",
    "class Main {\n",
    "    public static void main(String[] args) {\n",
    "        // Statement di bawah ini harus diakhiri dengan titik koma\n",
    "        System.out.println(\"Hello world\"); \n",
    "    }\n",
    "}\n",
    "```\n",
    "**Python**\n",
    "```python\n",
    "# Statement di bawah ini tidak menggunakan titik koma\n",
    "print(\"Hello World\")\n",
    "```"
   ]
  },
  {
   "cell_type": "markdown",
   "id": "041b8b4f",
   "metadata": {},
   "source": [
    "### Indentasi sebagai Pembentuk Struktur\n",
    "- Python menggunakan indentasi sebagai satu blok kode. Penulisan indentasi dapat dilakukan dengan tab atau space.\n",
    "- Perlu diperhatikan bahwa penulisan indentasi dengan tab dan space yang dicampur aduk dapat menyebabkan eror pada program."
   ]
  },
  {
   "cell_type": "code",
   "execution_count": 2,
   "id": "9677794e",
   "metadata": {},
   "outputs": [
    {
     "name": "stdout",
     "output_type": "stream",
     "text": [
      "13\n"
     ]
    }
   ],
   "source": [
    "a = 5\n",
    "b = 8\n",
    "c = a + b\n",
    "\n",
    "print(c)"
   ]
  },
  {
   "cell_type": "code",
   "execution_count": 3,
   "id": "ed448112",
   "metadata": {
    "scrolled": true
   },
   "outputs": [
    {
     "ename": "IndentationError",
     "evalue": "unexpected indent (Temp/ipykernel_15440/3421586362.py, line 5)",
     "output_type": "error",
     "traceback": [
      "\u001b[1;36m  File \u001b[1;32m\"C:\\Users\\dell\\AppData\\Local\\Temp/ipykernel_15440/3421586362.py\"\u001b[1;36m, line \u001b[1;32m5\u001b[0m\n\u001b[1;33m    print('nilai a lebih dari 5')\u001b[0m\n\u001b[1;37m    ^\u001b[0m\n\u001b[1;31mIndentationError\u001b[0m\u001b[1;31m:\u001b[0m unexpected indent\n"
     ]
    }
   ],
   "source": [
    "a = 10\n",
    "\n",
    "if a > 5:\n",
    "  print('nilai a lebih dari 5')\n",
    "   print('nilai a lebih dari 5')"
   ]
  },
  {
   "cell_type": "markdown",
   "id": "883d5381",
   "metadata": {},
   "source": [
    "### Tidak Ketat Terhadap Tipe Data\n",
    "Python menganut penulisan variabel yang dinamis. Yaitu kita tidak memerlukan penentuan tipe data secara eksplisit. Sebagai contoh variabel `a` bertipe integer karena diisi dengan angka 5. Selanjutnya variabel tersebut diisi dengan string `Budi` sehingga berubah menjadi string."
   ]
  },
  {
   "cell_type": "code",
   "execution_count": 12,
   "id": "56ab1ed2",
   "metadata": {},
   "outputs": [
    {
     "name": "stdout",
     "output_type": "stream",
     "text": [
      "Budi\n"
     ]
    }
   ],
   "source": [
    "# nilai awal berupa integer\n",
    "a = 5\n",
    "# kita ubah menjadi string dan tidak error\n",
    "a = 'Budi'\n",
    "\n",
    "print(a)"
   ]
  },
  {
   "cell_type": "markdown",
   "id": "0fb96cce",
   "metadata": {},
   "source": [
    "### Comments"
   ]
  },
  {
   "cell_type": "markdown",
   "id": "c3f8fd3f",
   "metadata": {},
   "source": [
    "Komentar (comment) adalah kode di dalam script Python yang tidak dieksekusi atau tidak dijalankan mesin. "
   ]
  },
  {
   "cell_type": "code",
   "execution_count": 1,
   "id": "7a3a39f7",
   "metadata": {},
   "outputs": [
    {
     "name": "stdout",
     "output_type": "stream",
     "text": [
      "Hello World!\n"
     ]
    }
   ],
   "source": [
    "# Contoh:\n",
    "# Ini adalah komentar\n",
    "\n",
    "\"\"\"\n",
    "Penulisan Komentar lebih dari satu baris yaitu\n",
    "dengan menggunakan kutip dua 3 kali dan \n",
    "ditutup dengan kutip dua 3 kali juga\\\n",
    "\"\"\"\n",
    "\n",
    "print (\"Hello World!\") # Ini juga komentar"
   ]
  },
  {
   "cell_type": "markdown",
   "id": "58e503dd",
   "metadata": {},
   "source": [
    "### Variables"
   ]
  },
  {
   "cell_type": "markdown",
   "id": "64b0d5e1",
   "metadata": {},
   "source": [
    "- Variables adalah tempat untuk menyimpan nilai.\n",
    "- Penulisan nama variabel harus diawali dengan huruf atau underscore. Misal `ayam`, `_ayam`, `ayam20`. Penulisan yang diawali dengan selain dari ketentuan dapat menyebabkan eror. Misal `33ayam`.\n",
    "- Secara umum Python menggunakan style penamaan menggunakan huruf kecil yang dipisah dengan garis bawah. Misal `ayam_goreng`."
   ]
  },
  {
   "cell_type": "code",
   "execution_count": 18,
   "id": "fa20b9eb",
   "metadata": {},
   "outputs": [
    {
     "name": "stdout",
     "output_type": "stream",
     "text": [
      "1\n",
      "pisang\n"
     ]
    }
   ],
   "source": [
    "# Contoh:\n",
    "x = 1\n",
    "print (x)\n",
    "\n",
    "a = \"pisang\"\n",
    "print (a)"
   ]
  },
  {
   "cell_type": "markdown",
   "id": "da3be201",
   "metadata": {},
   "source": [
    "## Data Types"
   ]
  },
  {
   "cell_type": "markdown",
   "id": "1cbe795f",
   "metadata": {},
   "source": [
    "Tipe data adalah suatu media atau memori pada komputer yang digunakan untuk menampung informasi."
   ]
  },
  {
   "cell_type": "markdown",
   "id": "50623992",
   "metadata": {},
   "source": [
    "#### Macam-macam Tipe Data pada Python\n",
    "- **Boolean**: Menyatakan benar `True` yang bernilai `1`, atau salah `False` yang bernilai `0`\n",
    "\n",
    "- **String**: Menyatakan karakter/kalimat bisa berupa huruf angka, dll (diapit tanda \" atau ')\n",
    "\n",
    "- **Integer**: Menyatakan bilangan bulat\n",
    "\n",
    "- **Float**: Menyatakan bilangan yang mempunyai koma\n",
    "\n",
    "- **Complex**: Menyatakan pasangan angka real dan imajiner\n",
    "\n",
    "- **List**: Data untaian yang menyimpan berbagai tipe data dan isinya bisa diubah-ubah\n",
    "\n",
    "- **Tuple**: Data untaian yang menyimpan berbagai tipe data tapi isinya tidak bisa diubah\n",
    "\n",
    "- **Dictionary**: Data untaian yang menyimpan berbagai tipe data berupa pasangan penunjuk dan nilai"
   ]
  },
  {
   "attachments": {},
   "cell_type": "markdown",
   "id": "46bc39a3",
   "metadata": {},
   "source": [
    "<div>\n",
    "<img src=\"gambar/day2-1.png\" width=\"750\"/>\n",
    "</div>"
   ]
  },
  {
   "cell_type": "code",
   "execution_count": 23,
   "id": "ba364a4f",
   "metadata": {},
   "outputs": [
    {
     "name": "stdout",
     "output_type": "stream",
     "text": [
      "True\n",
      "Ayo belajar Python\n",
      "Belajar Python Sangat Mudah\n",
      "20\n",
      "3.14\n",
      "5j\n",
      "[1, 2, 3, 4, 5]\n",
      "['satu', 'dua', 'tiga']\n",
      "(1, 2, 3, 4, 5)\n",
      "('satu', 'dua', 'tiga')\n",
      "{'nama': 'Budi', 'umur': 20}\n"
     ]
    }
   ],
   "source": [
    "#tipe data Boolean\n",
    "print(True)\n",
    "\n",
    "#tipe data String\n",
    "print(\"Ayo belajar Python\")\n",
    "print('Belajar Python Sangat Mudah')\n",
    "\n",
    "#tipe data Integer\n",
    "print(20)\n",
    "\n",
    "#tipe data Float\n",
    "print(3.14)\n",
    "\n",
    "#tipe data Complex\n",
    "print(5j)\n",
    "\n",
    "#tipe data List\n",
    "print([1,2,3,4,5])\n",
    "print([\"satu\", \"dua\", \"tiga\"])\n",
    "\n",
    "#tipe data Tuple\n",
    "print((1,2,3,4,5))\n",
    "print((\"satu\", \"dua\", \"tiga\"))\n",
    "\n",
    "#tipe data Dictionary\n",
    "print({\"nama\":\"Budi\", 'umur':20})"
   ]
  },
  {
   "cell_type": "markdown",
   "id": "ca3e57b4",
   "metadata": {},
   "source": [
    "## Numbers"
   ]
  },
  {
   "cell_type": "markdown",
   "id": "d9f2c54c",
   "metadata": {},
   "source": [
    "Number adalah tipe data Python yang menyimpan nilai numerik. \n",
    "\n",
    "Tipe data number pada python:\n",
    "- **Int**: Merupakan bilangan bersifat diskrit.\n",
    "- **Float**: Merupakan bilangan desimal.\n",
    "- **Complex**: Merupakan pasangan angka real dan imajiner."
   ]
  },
  {
   "cell_type": "code",
   "execution_count": 4,
   "id": "339cdfe7",
   "metadata": {},
   "outputs": [
    {
     "name": "stdout",
     "output_type": "stream",
     "text": [
      "<class 'int'>\n",
      "<class 'float'>\n",
      "<class 'complex'>\n"
     ]
    }
   ],
   "source": [
    "# Contoh:\n",
    "x = 1    # int\n",
    "y = 2.8  # float\n",
    "z = 1j   # complex\n",
    "\n",
    "\n",
    "print(type(x))\n",
    "print(type(y))\n",
    "print(type(z))"
   ]
  },
  {
   "cell_type": "markdown",
   "id": "9ba405a5",
   "metadata": {},
   "source": [
    "## Casting"
   ]
  },
  {
   "cell_type": "markdown",
   "id": "ec18dd00",
   "metadata": {},
   "source": [
    "- Casting adalah konversi sebuah tipe data ke tipe data lain.\n",
    "- Python menyediakan fungsi build-in untuk casting tipe data.\n",
    "- `int()` digunakan untuk konversi ke tipe data integer.\n",
    "- `float()` digunakan untuk konversi ke tipe data float.\n",
    "- `str()` digunakan untuk konversi ke tipe data string."
   ]
  },
  {
   "cell_type": "code",
   "execution_count": 3,
   "id": "aceeeb25",
   "metadata": {},
   "outputs": [
    {
     "name": "stdout",
     "output_type": "stream",
     "text": [
      "2\n",
      "<class 'int'>\n",
      "7\n"
     ]
    }
   ],
   "source": [
    "# Casting integer\n",
    "x = int(2.8)\n",
    "y = int(\"3\")\n",
    "\n",
    "# Tipe data float yang dicasting ke integer akan otomatis dibulatkan.\n",
    "print(x)\n",
    "print(type(x))\n",
    "\n",
    "# Tipe data string yang dicasting ke integer dapat dioperasikan secara matematis.\n",
    "print(y + 4)"
   ]
  },
  {
   "cell_type": "code",
   "execution_count": 1,
   "id": "be3de65a",
   "metadata": {},
   "outputs": [
    {
     "name": "stdout",
     "output_type": "stream",
     "text": [
      "1.0\n",
      "<class 'float'>\n",
      "3.0\n",
      "<class 'float'>\n",
      "4.2\n",
      "<class 'float'>\n"
     ]
    }
   ],
   "source": [
    "# Casting float\n",
    "x = float(1)\n",
    "y = float(\"3\")\n",
    "z = float(\"4.2\")\n",
    "\n",
    "# Bilangan integer yang dicasting ke float akan menghasilkan bilangan 0 di belakang koma.\n",
    "print(x)\n",
    "print(type(x))\n",
    "\n",
    "# Demikian juga dengan string\n",
    "print(y)\n",
    "print(type(y))\n",
    "\n",
    "# \n",
    "print(z)\n",
    "print(type(z))"
   ]
  },
  {
   "cell_type": "code",
   "execution_count": 2,
   "id": "ac4cdb19",
   "metadata": {},
   "outputs": [
    {
     "name": "stdout",
     "output_type": "stream",
     "text": [
      "2\n",
      "<class 'str'>\n",
      "3.0\n",
      "<class 'str'>\n"
     ]
    }
   ],
   "source": [
    "# Casting string\n",
    "x = str(2) # Dari integer ke string\n",
    "y = str(3.0) # Dari float ke string\n",
    "\n",
    "print(x)\n",
    "print(type(x))\n",
    "print(y)\n",
    "print(type(y))"
   ]
  },
  {
   "cell_type": "markdown",
   "id": "ee543b8f",
   "metadata": {},
   "source": [
    "# Pemateri Rahmat"
   ]
  },
  {
   "cell_type": "markdown",
   "id": "590c5af3",
   "metadata": {},
   "source": [
    "# String\n",
    "\n",
    "String merupakan tipe data teks yang terdiri dari beberapa karakter. Dibungkus dengan tanda kutip tunggal atau kutip ganda. Contoh string: `'Hello'` atau `\"Hello\"`."
   ]
  },
  {
   "cell_type": "code",
   "execution_count": 4,
   "id": "5fb2ed65",
   "metadata": {},
   "outputs": [
    {
     "name": "stdout",
     "output_type": "stream",
     "text": [
      "Ini dicetak\n"
     ]
    }
   ],
   "source": [
    "# Dibungkus dengan kutip tunggal\n",
    "name = 'Ivan'\n",
    "phone_number = '082188778877'\n",
    "\n",
    "# Dibungkus dengan kutip ganda\n",
    "name = \"Ivan\"\n",
    "phone_number = \"082188778877\"\n",
    "\n",
    "# \n",
    "print(\"Ini dicetak\")"
   ]
  },
  {
   "cell_type": "markdown",
   "id": "44514dda",
   "metadata": {},
   "source": [
    "## Python Triple Quotes\n",
    "Python triple quotes digunakan dengan membiarkan string ditulis dalam beberapa baris. Sintaks untuk triple quotes terdiri dari tiga tanda **kutip tunggal** atau **kutip ganda** ditulis berturut-turut."
   ]
  },
  {
   "cell_type": "code",
   "execution_count": 1,
   "id": "e86e6dc4",
   "metadata": {},
   "outputs": [
    {
     "name": "stdout",
     "output_type": "stream",
     "text": [
      "Lorem ipsum dolor sit amet,\n",
      "consectetur adipiscing elit,\n",
      "sed do eiusmod tempor incididunt\n",
      "ut labore et dolore magna aliqua.\n"
     ]
    }
   ],
   "source": [
    "long_string = \"\"\"Lorem ipsum dolor sit amet,\n",
    "consectetur adipiscing elit,\n",
    "sed do eiusmod tempor incididunt\n",
    "ut labore et dolore magna aliqua.\"\"\"\n",
    "\n",
    "print(long_string)"
   ]
  },
  {
   "cell_type": "markdown",
   "id": "c01dfc19",
   "metadata": {},
   "source": [
    "## Mencari Panjang String\n",
    "Panjang string (jumlah karakter dalam string) dapat dicari dengan menggunakan fungsi `len()`."
   ]
  },
  {
   "cell_type": "code",
   "execution_count": 2,
   "id": "41b769bf",
   "metadata": {},
   "outputs": [
    {
     "name": "stdout",
     "output_type": "stream",
     "text": [
      "12\n"
     ]
    }
   ],
   "source": [
    "any = \"How are you?\"\n",
    "print(len(any))"
   ]
  },
  {
   "cell_type": "markdown",
   "id": "1f50519b",
   "metadata": {},
   "source": [
    "## String Formatting"
   ]
  },
  {
   "cell_type": "markdown",
   "id": "c908c516",
   "metadata": {},
   "source": [
    "### “Old Style” String Formatting (% Operator)"
   ]
  },
  {
   "cell_type": "code",
   "execution_count": 24,
   "id": "50934694",
   "metadata": {},
   "outputs": [
    {
     "name": "stdout",
     "output_type": "stream",
     "text": [
      "Hello, John\n"
     ]
    }
   ],
   "source": [
    "name = \"John\"\n",
    "\n",
    "print('Hello, %s' % name)"
   ]
  },
  {
   "cell_type": "markdown",
   "id": "57543a8f",
   "metadata": {},
   "source": [
    "### “New Style” String Formatting (str.format)"
   ]
  },
  {
   "cell_type": "code",
   "execution_count": 13,
   "id": "fb136334",
   "metadata": {},
   "outputs": [
    {
     "name": "stdout",
     "output_type": "stream",
     "text": [
      "Hello, John\n"
     ]
    }
   ],
   "source": [
    "name = \"John\"\n",
    "\n",
    "print('Hello, {}'.format(name))"
   ]
  },
  {
   "cell_type": "markdown",
   "id": "509770cb",
   "metadata": {},
   "source": [
    "### String Interpolation / f-Strings (Python 3.6+)"
   ]
  },
  {
   "cell_type": "code",
   "execution_count": 14,
   "id": "78f325d6",
   "metadata": {},
   "outputs": [
    {
     "name": "stdout",
     "output_type": "stream",
     "text": [
      "Hello, John!\n"
     ]
    }
   ],
   "source": [
    "name = \"John\"\n",
    "\n",
    "print(f'Hello, {name}!')"
   ]
  },
  {
   "cell_type": "markdown",
   "id": "43649781",
   "metadata": {},
   "source": [
    "### Template Strings (Standard Library)"
   ]
  },
  {
   "cell_type": "code",
   "execution_count": 19,
   "id": "e7795ce3",
   "metadata": {},
   "outputs": [
    {
     "data": {
      "text/plain": [
       "'Hey, John!'"
      ]
     },
     "execution_count": 19,
     "metadata": {},
     "output_type": "execute_result"
    }
   ],
   "source": [
    "from string import Template\n",
    "name = \"John\"\n",
    "\n",
    "t = Template('Hey, $name!')\n",
    "t.substitute(name=name)"
   ]
  },
  {
   "cell_type": "markdown",
   "id": "3b2ea268",
   "metadata": {},
   "source": [
    "# Boolean\n",
    "Boolean adalah suatu tipe data yang hanya mempunyai dua nilai. Yaitu `True` atau `False` (benar atau salah)"
   ]
  },
  {
   "cell_type": "code",
   "execution_count": 1,
   "id": "d7ec050c",
   "metadata": {},
   "outputs": [
    {
     "name": "stdout",
     "output_type": "stream",
     "text": [
      "True\n",
      "False\n"
     ]
    }
   ],
   "source": [
    "x = True\n",
    "y = False\n",
    "\n",
    "print(x)\n",
    "print(y)"
   ]
  },
  {
   "cell_type": "markdown",
   "id": "b9eceaf3",
   "metadata": {},
   "source": [
    "# Operators"
   ]
  },
  {
   "cell_type": "markdown",
   "id": "abcde89d",
   "metadata": {},
   "source": [
    "## Arithmetic Operators"
   ]
  },
  {
   "cell_type": "code",
   "execution_count": 5,
   "id": "0457ec36",
   "metadata": {},
   "outputs": [
    {
     "name": "stdout",
     "output_type": "stream",
     "text": [
      "10 + 3 = 13\n",
      "10 - 3 = 7\n",
      "10 * 3 = 30\n",
      "10 / 3 = 3.3333333333333335\n",
      "10 % 3 = 1\n",
      "10 ** 3 = 1000\n",
      "10 // 3 = 3\n"
     ]
    }
   ],
   "source": [
    "x = 10\n",
    "y = 3\n",
    "\n",
    "print(f'10 + 3 = {x+y}')\n",
    "print(f'10 - 3 = {x-y}')\n",
    "print(f'10 * 3 = {x*y}')\n",
    "print(f'10 / 3 = {x/y}')\n",
    "print(f'10 % 3 = {x%y}')\n",
    "print(f'10 ** 3 = {x**y}')\n",
    "print(f'10 // 3 = {x//y}')"
   ]
  },
  {
   "cell_type": "markdown",
   "id": "2ed5cded",
   "metadata": {},
   "source": [
    "## Comparison Operators"
   ]
  },
  {
   "cell_type": "code",
   "execution_count": 25,
   "id": "efbd4c10",
   "metadata": {},
   "outputs": [
    {
     "name": "stdout",
     "output_type": "stream",
     "text": [
      "x > y is False\n",
      "x < y is True\n",
      "x == y is False\n",
      "x != y is True\n",
      "x >= y is False\n",
      "x <= y is True\n"
     ]
    }
   ],
   "source": [
    "x = 10\n",
    "y = 12\n",
    "\n",
    "print('x > y is',x>y)\n",
    "\n",
    "print('x < y is',x<y)\n",
    "\n",
    "print('x == y is',x==y)\n",
    "\n",
    "print('x != y is',x!=y)\n",
    "\n",
    "print('x >= y is',x>=y)\n",
    "\n",
    "print('x <= y is',x<=y)"
   ]
  },
  {
   "cell_type": "markdown",
   "id": "bba1d07f",
   "metadata": {},
   "source": [
    "## Logical Operators"
   ]
  },
  {
   "cell_type": "code",
   "execution_count": 24,
   "id": "23792abb",
   "metadata": {},
   "outputs": [
    {
     "name": "stdout",
     "output_type": "stream",
     "text": [
      "x and y is False\n",
      "x or y is True\n",
      "not x is False\n"
     ]
    }
   ],
   "source": [
    "x = True\n",
    "y = False\n",
    "\n",
    "print('x and y is',x and y)\n",
    "\n",
    "print('x or y is',x or y)\n",
    "\n",
    "print('not x is',not x)"
   ]
  },
  {
   "cell_type": "markdown",
   "id": "48a7c6cc",
   "metadata": {},
   "source": [
    "# Kondisi\n",
    "Kondisi if adalah kondisi yang akan dieksekusi oleh program jika bernilai benar atau TRUE"
   ]
  },
  {
   "attachments": {},
   "cell_type": "markdown",
   "id": "1ea64605",
   "metadata": {},
   "source": [
    "<div>\n",
    "<img src=\"gambar/day2-2.png\" width=\"500\"/>\n",
    "</div>"
   ]
  },
  {
   "cell_type": "code",
   "execution_count": 26,
   "id": "5aacf73b",
   "metadata": {},
   "outputs": [
    {
     "name": "stdout",
     "output_type": "stream",
     "text": [
      "Sembilan Lebih Besar Dari Angka Tujuh\n"
     ]
    }
   ],
   "source": [
    "nilai = 9\n",
    "\n",
    "#jika kondisi benar/TRUE maka program akan mengeksekusi perintah dibawahnya\n",
    "if(nilai > 7):\n",
    "    print(\"Sembilan Lebih Besar Dari Angka Tujuh\") # Kondisi Benar, Dieksekusi\n",
    "\n",
    "#jika kondisi salah/FALSE maka program tidak akan mengeksekusi perintah dibawahnya\n",
    "if(nilai > 10):\n",
    "    print(\"Sembilan Lebih Besar Dari Angka Sepuluh\") # Kondisi Salah, Maka tidak tereksekusi"
   ]
  },
  {
   "cell_type": "markdown",
   "id": "c88173cc",
   "metadata": {},
   "source": [
    "Kondisi if else adalah jika kondisi bernilai TRUE maka akan dieksekusi pada if, tetapi jika bernilai FALSE maka akan dieksekusi kode pada else"
   ]
  },
  {
   "attachments": {},
   "cell_type": "markdown",
   "id": "54524669",
   "metadata": {},
   "source": [
    "\n",
    "\n",
    "<div>\n",
    "<img src=\"gambar/day2-3.png\" width=\"500\"/>\n",
    "</div>"
   ]
  },
  {
   "cell_type": "code",
   "execution_count": 14,
   "id": "e472b90f",
   "metadata": {
    "scrolled": true
   },
   "outputs": [
    {
     "name": "stdout",
     "output_type": "stream",
     "text": [
      "Maaf Anda Tidak Lulus\n"
     ]
    }
   ],
   "source": [
    "nilai = 3\n",
    "#Jika pernyataan pada if bernilai TRUE maka if akan dieksekusi, tetapi jika FALSE kode pada else yang akan dieksekusi.\n",
    "if(nilai > 7):\n",
    "    print(\"Selamat Anda Lulus\")\n",
    "else:\n",
    "    print(\"Maaf Anda Tidak Lulus\")"
   ]
  },
  {
   "cell_type": "markdown",
   "id": "ce11f012",
   "metadata": {},
   "source": [
    "Contoh penggunaan kondisi elif"
   ]
  },
  {
   "attachments": {},
   "cell_type": "markdown",
   "id": "a3354421",
   "metadata": {},
   "source": [
    "<div>\n",
    "<img src=\"gambar/day2-4.png\" width=\"1000\"/>\n",
    "</div>"
   ]
  },
  {
   "cell_type": "code",
   "execution_count": 15,
   "id": "15140a1e",
   "metadata": {},
   "outputs": [
    {
     "name": "stdout",
     "output_type": "stream",
     "text": [
      "Saya akan libur\n"
     ]
    }
   ],
   "source": [
    "hari_ini = \"Minggu\"\n",
    "\n",
    "if(hari_ini == \"Senin\"):\n",
    "    print(\"Saya akan kuliah\")\n",
    "elif(hari_ini == \"Selasa\"):\n",
    "    print(\"Saya akan kuliah\")\n",
    "elif(hari_ini == \"Rabu\"):\n",
    "    print(\"Saya akan kuliah\")\n",
    "elif(hari_ini == \"Kamis\"):\n",
    "    print(\"Saya akan kuliah\")\n",
    "elif(hari_ini == \"Jumat\"):\n",
    "    print(\"Saya akan kuliah\")\n",
    "elif(hari_ini == \"Sabtu\"):\n",
    "    print(\"Saya akan kuliah\")\n",
    "elif(hari_ini == \"Minggu\"):\n",
    "    print(\"Saya akan libur\")"
   ]
  },
  {
   "cell_type": "markdown",
   "id": "af82dab2",
   "metadata": {},
   "source": [
    "# Perulangan"
   ]
  },
  {
   "cell_type": "markdown",
   "id": "a0a66ace",
   "metadata": {},
   "source": [
    "## While Loop"
   ]
  },
  {
   "attachments": {},
   "cell_type": "markdown",
   "id": "19015d77",
   "metadata": {},
   "source": [
    "<div>\n",
    "<img src=\"gambar/day2-5.png\" width=\"500\"/>\n",
    "</div>"
   ]
  },
  {
   "cell_type": "code",
   "execution_count": 16,
   "id": "ac63ce7e",
   "metadata": {
    "scrolled": false
   },
   "outputs": [
    {
     "name": "stdout",
     "output_type": "stream",
     "text": [
      "The count is:  0\n",
      "The count is:  1\n",
      "The count is:  2\n",
      "The count is:  3\n",
      "The count is:  4\n",
      "The count is:  5\n",
      "The count is:  6\n",
      "The count is:  7\n",
      "The count is:  8\n",
      "Good bye!\n"
     ]
    }
   ],
   "source": [
    "#Contoh penggunaan While Loop\n",
    "#Catatan: Penentuan ruang lingkup di Python bisa menggunakan tab alih-alih menggunakan tanda kurung\n",
    "\n",
    "angka = 0\n",
    "while (angka < 9):\n",
    "    print (\"Angka: \", angka)\n",
    "    angka = angka + 1"
   ]
  },
  {
   "cell_type": "markdown",
   "id": "41cd8a1f",
   "metadata": {},
   "source": [
    "## For Loop"
   ]
  },
  {
   "cell_type": "markdown",
   "id": "a1b78e70",
   "metadata": {},
   "source": [
    "For loop digunakan untuk mengakses setiap item yang berada di sebuah variabel iterasi seperti `list`, `set`, dan `tuple`"
   ]
  },
  {
   "cell_type": "code",
   "execution_count": 17,
   "id": "eebc5aea",
   "metadata": {
    "scrolled": false
   },
   "outputs": [
    {
     "name": "stdout",
     "output_type": "stream",
     "text": [
      "1\n",
      "2\n",
      "3\n",
      "4\n",
      "5\n",
      "Saya suka makan nanas\n",
      "Saya suka makan apel\n",
      "Saya suka makan jeruk\n"
     ]
    }
   ],
   "source": [
    "#Contoh pengulangan for pada tipe data list\n",
    "angka = [1,2,3,4,5]\n",
    "for x in angka:\n",
    "    print(x)\n",
    "\n",
    "buah = [\"nanas\", \"apel\", \"jeruk\"]\n",
    "for makanan in buah:\n",
    "    print (\"Saya suka makan\", makanan)"
   ]
  },
  {
   "cell_type": "markdown",
   "id": "ab2ea4de",
   "metadata": {},
   "source": [
    "Variabel `x` merepresentasikan setiap item yang berada di variabel `angka`. \n",
    "\n",
    "Variabel `makanan` merepresentasikan setiap item yang berada di variabel `buah`."
   ]
  },
  {
   "cell_type": "markdown",
   "id": "d82b62c7",
   "metadata": {},
   "source": [
    "## Nested Loop"
   ]
  },
  {
   "cell_type": "code",
   "execution_count": 12,
   "id": "a90e8724",
   "metadata": {
    "scrolled": true
   },
   "outputs": [
    {
     "name": "stdout",
     "output_type": "stream",
     "text": [
      "2  adalah prima\n",
      "3  adalah prima\n",
      "5  adalah prima\n",
      "7  adalah prima\n",
      "11  adalah prima\n",
      "13  adalah prima\n",
      "17  adalah prima\n",
      "19  adalah prima\n",
      "23  adalah prima\n",
      "29  adalah prima\n",
      "31  adalah prima\n",
      "37  adalah prima\n",
      "41  adalah prima\n",
      "43  adalah prima\n",
      "47  adalah prima\n",
      "53  adalah prima\n",
      "59  adalah prima\n",
      "61  adalah prima\n",
      "67  adalah prima\n",
      "71  adalah prima\n",
      "73  adalah prima\n",
      "79  adalah prima\n",
      "83  adalah prima\n",
      "89  adalah prima\n",
      "97  adalah prima\n"
     ]
    }
   ],
   "source": [
    "#Contoh penggunaan Nested Loop\n",
    "#Catatan: Penggunaan modulo pada kondisional mengasumsikan nilai selain nol sebagai True(benar) dan nol sebagai False(salah)\n",
    "\n",
    "i = 2\n",
    "while(i < 100):\n",
    "    j = 2\n",
    "    while(j <= (i/j)):\n",
    "        if not(i%j): break\n",
    "        j = j + 1\n",
    "    if (j > i/j) : print(i, \" adalah prima\")\n",
    "    i = i + 1\n"
   ]
  },
  {
   "attachments": {},
   "cell_type": "markdown",
   "id": "e8294174",
   "metadata": {},
   "source": [
    "<div>\n",
    "<img src=\"gambar/day2-6.png\" width=\"500\"/>\n",
    "</div>"
   ]
  },
  {
   "cell_type": "markdown",
   "id": "71e3854c",
   "metadata": {},
   "source": [
    "# List"
   ]
  },
  {
   "cell_type": "code",
   "execution_count": 19,
   "id": "579f6775",
   "metadata": {},
   "outputs": [],
   "source": [
    "#Contoh sederhana pembuatan list pada bahasa pemrograman python\n",
    "list1 = ['kimia', 'fisika', 1993, 2017]\n",
    "list2 = [1, 2, 3, 4, 5 ]\n",
    "list3 = [\"a\", \"b\", \"c\", \"d\"]"
   ]
  },
  {
   "cell_type": "code",
   "execution_count": 20,
   "id": "17d22cbd",
   "metadata": {},
   "outputs": [
    {
     "name": "stdout",
     "output_type": "stream",
     "text": [
      "list1[0]:  fisika\n",
      "list2[1:5]:  [2, 3, 4, 5]\n"
     ]
    }
   ],
   "source": [
    "#Cara mengakses nilai di dalam list Python\n",
    "\n",
    "list1 = ['fisika', 'kimia', 1993, 2017]\n",
    "list2 = [1, 2, 3, 4, 5, 6, 7 ]\n",
    "\n",
    "print (\"list1[0]: \", list1[0])\n",
    "print (\"list2[1:5]: \", list2[1:5])"
   ]
  },
  {
   "cell_type": "code",
   "execution_count": 21,
   "id": "e4a2457a",
   "metadata": {},
   "outputs": [
    {
     "name": "stdout",
     "output_type": "stream",
     "text": [
      "Nilai ada pada index 2 :  1993\n",
      "Nilai baru ada pada index 2 :  2001\n"
     ]
    }
   ],
   "source": [
    "list = ['fisika', 'kimia', 1993, 2017]\n",
    "print (\"Nilai ada pada index 2 : \", list[2])\n",
    "\n",
    "list[2] = 2001\n",
    "print (\"Nilai baru ada pada index 2 : \", list[2])"
   ]
  },
  {
   "cell_type": "code",
   "execution_count": 22,
   "id": "a979f367",
   "metadata": {},
   "outputs": [
    {
     "name": "stdout",
     "output_type": "stream",
     "text": [
      "['fisika', 'kimia', 1993, 2017]\n",
      "Setelah dihapus nilai pada index 2 :  ['fisika', 'kimia', 2017]\n"
     ]
    }
   ],
   "source": [
    "#Contoh cara menghapus nilai pada list python\n",
    "\n",
    "list = ['fisika', 'kimia', 1993, 2017]\n",
    "\n",
    "print (list)\n",
    "del list[2]\n",
    "print (\"Setelah dihapus nilai pada index 2 : \", list)"
   ]
  },
  {
   "cell_type": "code",
   "execution_count": null,
   "id": "31a81672",
   "metadata": {},
   "outputs": [],
   "source": []
  }
 ],
 "metadata": {
  "kernelspec": {
   "display_name": "Python 3 (ipykernel)",
   "language": "python",
   "name": "python3"
  },
  "language_info": {
   "codemirror_mode": {
    "name": "ipython",
    "version": 3
   },
   "file_extension": ".py",
   "mimetype": "text/x-python",
   "name": "python",
   "nbconvert_exporter": "python",
   "pygments_lexer": "ipython3",
   "version": "3.9.7"
  }
 },
 "nbformat": 4,
 "nbformat_minor": 5
}

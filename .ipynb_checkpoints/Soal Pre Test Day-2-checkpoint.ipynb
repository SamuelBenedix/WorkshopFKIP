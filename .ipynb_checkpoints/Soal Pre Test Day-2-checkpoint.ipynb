{
 "cells": [
  {
   "cell_type": "markdown",
   "id": "eca239e5",
   "metadata": {},
   "source": [
    "# Soal Pre-test"
   ]
  },
  {
   "cell_type": "markdown",
   "id": "d038c710",
   "metadata": {},
   "source": [
    "<b>Nama $\\;\\;\\;$ :          </b>\n",
    "\n",
    "<b>NIM $\\;\\;\\;\\;\\;\\;$:      </b>\n",
    "\n",
    "<b> Double click sel ini untuk mengubah isi"
   ]
  },
  {
   "cell_type": "markdown",
   "id": "98e77aee",
   "metadata": {},
   "source": [
    "### Perbaiki error yang muncul berikut ini"
   ]
  },
  {
   "cell_type": "markdown",
   "id": "59b88ea4",
   "metadata": {},
   "source": [
    "Cetak angka 3 yang berada di dalam variabel"
   ]
  },
  {
   "cell_type": "code",
   "execution_count": 10,
   "id": "2045680f",
   "metadata": {
    "scrolled": true
   },
   "outputs": [
    {
     "ename": "SyntaxError",
     "evalue": "invalid syntax (2036296450.py, line 1)",
     "output_type": "error",
     "traceback": [
      "\u001b[0;36m  File \u001b[0;32m\"/tmp/ipykernel_18116/2036296450.py\"\u001b[0;36m, line \u001b[0;32m1\u001b[0m\n\u001b[0;31m    3data=3\u001b[0m\n\u001b[0m        ^\u001b[0m\n\u001b[0;31mSyntaxError\u001b[0m\u001b[0;31m:\u001b[0m invalid syntax\n"
     ]
    }
   ],
   "source": [
    "3data=3\n",
    "print 3data"
   ]
  },
  {
   "cell_type": "markdown",
   "id": "73ee00fc",
   "metadata": {},
   "source": [
    "deklarasi variabel untuk menampung hasil 6+23"
   ]
  },
  {
   "cell_type": "code",
   "execution_count": 2,
   "id": "4c1d0ea6",
   "metadata": {},
   "outputs": [
    {
     "ename": "SyntaxError",
     "evalue": "invalid syntax (2637349898.py, line 1)",
     "output_type": "error",
     "traceback": [
      "\u001b[0;36m  File \u001b[0;32m\"/tmp/ipykernel_18116/2637349898.py\"\u001b[0;36m, line \u001b[0;32m1\u001b[0m\n\u001b[0;31m    for=6+23\u001b[0m\n\u001b[0m       ^\u001b[0m\n\u001b[0;31mSyntaxError\u001b[0m\u001b[0;31m:\u001b[0m invalid syntax\n"
     ]
    }
   ],
   "source": [
    "for=6+23"
   ]
  },
  {
   "cell_type": "markdown",
   "id": "dcb7b34a",
   "metadata": {},
   "source": [
    "Cetak variabel `nama`"
   ]
  },
  {
   "cell_type": "code",
   "execution_count": 3,
   "id": "8ed2da7e",
   "metadata": {},
   "outputs": [
    {
     "ename": "NameError",
     "evalue": "name 'Nama' is not defined",
     "output_type": "error",
     "traceback": [
      "\u001b[0;31m---------------------------------------------------------------------------\u001b[0m",
      "\u001b[0;31mNameError\u001b[0m                                 Traceback (most recent call last)",
      "\u001b[0;32m/tmp/ipykernel_18116/1289169516.py\u001b[0m in \u001b[0;36m<module>\u001b[0;34m\u001b[0m\n\u001b[1;32m      1\u001b[0m \u001b[0mnama\u001b[0m\u001b[0;34m=\u001b[0m\u001b[0;34m\"rudi\"\u001b[0m\u001b[0;34m\u001b[0m\u001b[0;34m\u001b[0m\u001b[0m\n\u001b[0;32m----> 2\u001b[0;31m \u001b[0mprint\u001b[0m\u001b[0;34m(\u001b[0m\u001b[0mNama\u001b[0m\u001b[0;34m)\u001b[0m\u001b[0;34m\u001b[0m\u001b[0;34m\u001b[0m\u001b[0m\n\u001b[0m",
      "\u001b[0;31mNameError\u001b[0m: name 'Nama' is not defined"
     ]
    }
   ],
   "source": [
    "nama=\"rudi\"\n",
    "print(Nama)"
   ]
  },
  {
   "cell_type": "markdown",
   "id": "c6e22581",
   "metadata": {},
   "source": [
    "Cetak `a+b`"
   ]
  },
  {
   "cell_type": "code",
   "execution_count": 4,
   "id": "dd69ac65",
   "metadata": {},
   "outputs": [
    {
     "ename": "IndentationError",
     "evalue": "unexpected indent (3927971391.py, line 2)",
     "output_type": "error",
     "traceback": [
      "\u001b[0;36m  File \u001b[0;32m\"/tmp/ipykernel_18116/3927971391.py\"\u001b[0;36m, line \u001b[0;32m2\u001b[0m\n\u001b[0;31m    b = 7\u001b[0m\n\u001b[0m    ^\u001b[0m\n\u001b[0;31mIndentationError\u001b[0m\u001b[0;31m:\u001b[0m unexpected indent\n"
     ]
    }
   ],
   "source": [
    "a = 3\n",
    " b = 7 \n",
    "print(a+b)"
   ]
  },
  {
   "cell_type": "markdown",
   "id": "2c1425ee",
   "metadata": {},
   "source": [
    "Cetak hasil. Ekspektasi output = `7`"
   ]
  },
  {
   "cell_type": "code",
   "execution_count": 9,
   "id": "8fc0e281",
   "metadata": {},
   "outputs": [
    {
     "ename": "TypeError",
     "evalue": "can only concatenate str (not \"int\") to str",
     "output_type": "error",
     "traceback": [
      "\u001b[0;31m---------------------------------------------------------------------------\u001b[0m",
      "\u001b[0;31mTypeError\u001b[0m                                 Traceback (most recent call last)",
      "\u001b[0;32m/tmp/ipykernel_18116/4060288783.py\u001b[0m in \u001b[0;36m<module>\u001b[0;34m\u001b[0m\n\u001b[1;32m      1\u001b[0m \u001b[0mangka1\u001b[0m\u001b[0;34m=\u001b[0m\u001b[0;34m\"3\"\u001b[0m\u001b[0;34m\u001b[0m\u001b[0;34m\u001b[0m\u001b[0m\n\u001b[1;32m      2\u001b[0m \u001b[0mangka2\u001b[0m\u001b[0;34m=\u001b[0m\u001b[0;36m4\u001b[0m\u001b[0;34m\u001b[0m\u001b[0;34m\u001b[0m\u001b[0m\n\u001b[0;32m----> 3\u001b[0;31m \u001b[0mhasil\u001b[0m \u001b[0;34m=\u001b[0m \u001b[0mangka1\u001b[0m\u001b[0;34m+\u001b[0m\u001b[0mangka2\u001b[0m\u001b[0;34m\u001b[0m\u001b[0;34m\u001b[0m\u001b[0m\n\u001b[0m\u001b[1;32m      4\u001b[0m \u001b[0mprint\u001b[0m\u001b[0;34m(\u001b[0m\u001b[0mhasil\u001b[0m\u001b[0;34m)\u001b[0m\u001b[0;34m\u001b[0m\u001b[0;34m\u001b[0m\u001b[0m\n",
      "\u001b[0;31mTypeError\u001b[0m: can only concatenate str (not \"int\") to str"
     ]
    }
   ],
   "source": [
    "angka1=\"3\"\n",
    "angka2=4\n",
    "hasil = angka1+angka2\n",
    "print(hasil)"
   ]
  },
  {
   "cell_type": "markdown",
   "id": "cfc96d2d",
   "metadata": {},
   "source": [
    "### Cetak teks berikut menjadi seperti gambar dibawah ini"
   ]
  },
  {
   "attachments": {},
   "cell_type": "markdown",
   "id": "a98934d1",
   "metadata": {},
   "source": [
    "\n",
    "<div>\n",
    "<img src=\"gambar/pre2-1.png\"/>\n",
    "</div>"
   ]
  },
  {
   "cell_type": "markdown",
   "id": "1b0f6627",
   "metadata": {},
   "source": [
    "Mungkin hari ini hari esok atau nanti. Berjuta memori yang terpatri dalam hati ini. Mungkin hari ini hari esok atau nanti. Tak lagi saling menyapa meski ku masih harapkanmu."
   ]
  },
  {
   "cell_type": "code",
   "execution_count": null,
   "id": "9a66aeef",
   "metadata": {},
   "outputs": [],
   "source": []
  },
  {
   "attachments": {},
   "cell_type": "markdown",
   "id": "036373a9",
   "metadata": {},
   "source": [
    "\n",
    "<div>\n",
    "<img src=\"gambar/pre2-2.png\"/>\n",
    "</div>"
   ]
  },
  {
   "cell_type": "markdown",
   "id": "b243ee82",
   "metadata": {},
   "source": [
    "Lupakan kebiasaan buruk meratapi. Kantong kosong ringankan gerak. Waktu kan mengisi pundi dengan emas perak. Rangkai kata bait perbait jadi genap. Angkat suaraku yang tadinya senyap. Sempit gelap jadi luas terang."
   ]
  },
  {
   "cell_type": "markdown",
   "id": "045628cc",
   "metadata": {},
   "source": [
    "### Buat program berdasarkan ketentuan berikut"
   ]
  },
  {
   "cell_type": "markdown",
   "id": "a05ce9d2",
   "metadata": {},
   "source": [
    "Buat sebuah variabel `nilai` yang akan menampung satu angka antara 0 hingga 4. \n",
    "\n",
    "- Jika `nilai` adalah 4, maka cetak huruf `A`\n",
    "- Jika `nilai` adalah 3, maka cetak huruf `B`\n",
    "- Jika `nilai` adalah 2, maka cetak huruf `C`\n",
    "- Jika `nilai` adalah 1, maka cetak huruf `D`\n",
    "- Jika `nilai` adalah 0, maka cetak huruf `E`"
   ]
  },
  {
   "cell_type": "code",
   "execution_count": null,
   "id": "068143f1",
   "metadata": {},
   "outputs": [],
   "source": []
  },
  {
   "cell_type": "markdown",
   "id": "6291de06",
   "metadata": {},
   "source": [
    "Di sebuah ruang kelas, terdapat 40 siswa. Mereka sedang bermain tepuk kelipatan 3. Siswa berjajar membentuk lingkaran. Setiap siswa mendapat 1 giliran. Setiap siswa yang berada di kelipatan 3, harus tepuk tangan. Selain dari itu, menyebut angka giliran mereka. Siswa ke berapa sajakah yang akan tepuk tangan?"
   ]
  },
  {
   "cell_type": "code",
   "execution_count": null,
   "id": "dc1d996b",
   "metadata": {},
   "outputs": [],
   "source": []
  },
  {
   "cell_type": "code",
   "execution_count": null,
   "id": "dea4512b",
   "metadata": {},
   "outputs": [],
   "source": [
    "buat sebuah program untuk menghasilkan nilai:, 1,2,4,7,11"
   ]
  }
 ],
 "metadata": {
  "kernelspec": {
   "display_name": "Python 3 (ipykernel)",
   "language": "python",
   "name": "python3"
  },
  "language_info": {
   "codemirror_mode": {
    "name": "ipython",
    "version": 3
   },
   "file_extension": ".py",
   "mimetype": "text/x-python",
   "name": "python",
   "nbconvert_exporter": "python",
   "pygments_lexer": "ipython3",
   "version": "3.9.7"
  }
 },
 "nbformat": 4,
 "nbformat_minor": 5
}

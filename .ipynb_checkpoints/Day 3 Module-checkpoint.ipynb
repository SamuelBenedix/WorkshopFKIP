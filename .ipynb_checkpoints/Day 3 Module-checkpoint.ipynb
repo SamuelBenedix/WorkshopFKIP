{
  "cells": [
    {
      "cell_type": "markdown",
      "id": "732774af",
      "metadata": {
        "id": "732774af"
      },
      "source": [
        "## Tuple\n",
        "\n",
        "Tuple adalah sebuah tipe data yang mirip seperti list. Hanya saja tipe data ini bersifat immutable alias tidak bisa dirubah.\n",
        "\n",
        "Untuk penulisan tipe data tuple, penulisannya diapit dengan tanda (). Dan untuk pemisah datanya dipisah dengan tanda koma."
      ]
    },
    {
      "cell_type": "code",
      "execution_count": null,
      "id": "8e005de0",
      "metadata": {
        "id": "8e005de0"
      },
      "outputs": [],
      "source": [
        "# Contoh inisalisasi data tuple\n",
        "data = (\"matematika\", \"kalkulus\", \"statistik\")"
      ]
    },
    {
      "cell_type": "code",
      "execution_count": null,
      "id": "4a37930a",
      "metadata": {
        "id": "4a37930a"
      },
      "outputs": [],
      "source": [
        "# Menampikan seluruh data tuple\n",
        "print(data)"
      ]
    },
    {
      "cell_type": "code",
      "execution_count": null,
      "id": "d5727921",
      "metadata": {
        "id": "d5727921",
        "scrolled": true
      },
      "outputs": [],
      "source": [
        "# mengubah isi pada data tuple\n",
        "\n",
        "data[0] = \"biologi\""
      ]
    },
    {
      "cell_type": "markdown",
      "id": "983b92a9",
      "metadata": {
        "id": "983b92a9"
      },
      "source": [
        "Pada contoh kode program diatas, yaitu mencoba mengubah isi dari data tuple, program akan menampilkan error. Hal ini dikarenakan tipe data tuple bersifat immutable seperti yang dijelaskan diatas."
      ]
    },
    {
      "cell_type": "code",
      "execution_count": null,
      "id": "9d925f59",
      "metadata": {
        "id": "9d925f59"
      },
      "outputs": [],
      "source": [
        "# Menggabungkan 2 data tuple\n",
        "data = (\"matematika\", \"kalkulus\", \"statistik\")\n",
        "data2 = (\"bahasa\", \"pkn\", \"biologi\")\n",
        "\n",
        "data_gabung = data + data2\n",
        "\n",
        "data_gabung"
      ]
    },
    {
      "cell_type": "markdown",
      "id": "cf2a3034",
      "metadata": {
        "id": "cf2a3034"
      },
      "source": [
        "Pada contoh kode program diatas, yaitu menggabungkan 2 data tuple menjadi 1 data. Hal ini bisa dilakukan karena tidak termasuk dalam manipulasi data yang telah didefinisikan. Tetapi menggabungkan 2 data sehingga menjadi 1 data baru.\n",
        "\n",
        "Beda hal jika ingin menambahkan data baru pada data tuple yang telah didefinisikan, maka program akan menampilkan error. Karena data tuple yang telah didefinisikan tidak bisa di manipulasi lagi datanya.\n",
        "\n",
        "Biasanya, tipe data ini didefinisikan sebagai tipe data pada variable yang datanya telah final, hal ini diperlukan agar data yang telah diproses tidak berubah lagi saat digunakan pada fungsi atau kode program lain."
      ]
    },
    {
      "cell_type": "markdown",
      "id": "fa87412d",
      "metadata": {
        "id": "fa87412d"
      },
      "source": [
        "## Dictionary\n",
        "\n",
        "Dictionary adalah tipe data yang sama seperti list. Hanya saja tipe data ini harus mendefinisikan index dari nilai yang didefinisikan. Secara umum bisa disebut dengan objek.\n",
        "\n",
        "Karakteristik dari tipe data ini adalah penulisannya diapit dengan tanda {} atau kurung kurawal dan datanya dipisahkan oleh tanda coma. Dan juga setiap value harus didefinisikan index nya yang dimana di index dan value dipisahkan dengan tanda titik dua (:)."
      ]
    },
    {
      "cell_type": "code",
      "execution_count": null,
      "id": "e788ba17",
      "metadata": {
        "id": "e788ba17"
      },
      "outputs": [],
      "source": [
        "# Contoh inisialisasi data dictionary\n",
        "biodata = {\n",
        "    \"nama\"    : \"Nama Anda\",\n",
        "    \"nim\"     : \"Nim Anda\",\n",
        "    \"jurusan\" : \"Jurusan Anda\"\n",
        "}\n",
        "\n",
        "print(biodata)"
      ]
    },
    {
      "cell_type": "code",
      "execution_count": null,
      "id": "683f154f",
      "metadata": {
        "id": "683f154f"
      },
      "outputs": [],
      "source": [
        "# menampilkan nilai index nama dari data dictionary\n",
        "print(biodata[\"nama\"])"
      ]
    },
    {
      "cell_type": "markdown",
      "id": "02033760",
      "metadata": {
        "id": "02033760"
      },
      "source": [
        "Untuk menampilkan nilai dari data dictionary secara spesifik, dapat dengan menyertakan index nya yang diapit dengan kurung siku seperti diatas"
      ]
    },
    {
      "cell_type": "code",
      "execution_count": null,
      "id": "0915cb84",
      "metadata": {
        "id": "0915cb84"
      },
      "outputs": [],
      "source": [
        "# Contoh mengubah isi pada data dictionary\n",
        "biodata[\"nama\"] = \"Budi\"\n",
        "\n",
        "print(biodata)"
      ]
    },
    {
      "cell_type": "markdown",
      "id": "dd5b5449",
      "metadata": {
        "id": "dd5b5449"
      },
      "source": [
        "Untuk mengubah nilai dari data dictionary, caranya adalah dengan mendefinisikan variable dan indexnya yang diapit dengan kurung siku seperti diatas, lalu didefinisikan valuenya yang baru"
      ]
    },
    {
      "cell_type": "code",
      "execution_count": null,
      "id": "efa66d66",
      "metadata": {
        "id": "efa66d66"
      },
      "outputs": [],
      "source": [
        "# Menambahkan data baru didalam data dictionary\n",
        "biodata[\"kelas\"] = \"Matematika A Indralaya\"\n",
        "\n",
        "print(biodata)"
      ]
    },
    {
      "cell_type": "markdown",
      "id": "8e8c2626",
      "metadata": {
        "id": "8e8c2626"
      },
      "source": [
        "Untuk menambahkan data baru didalam dictionary, caranya sama seperti mengubah nilai, tinggal mendefinisikan index barunya saja."
      ]
    },
    {
      "cell_type": "code",
      "execution_count": null,
      "id": "d03ef802",
      "metadata": {
        "id": "d03ef802"
      },
      "outputs": [],
      "source": [
        "# Menghapus data secara spesifik pada data dictionary\n",
        "del biodata[\"kelas\"]\n",
        "\n",
        "print(biodata)"
      ]
    },
    {
      "cell_type": "markdown",
      "id": "27637c18",
      "metadata": {
        "id": "27637c18"
      },
      "source": [
        "Pada contoh diatas, adalah cara menghapus data pada data dictionary secara spesifik, caranya dalah dengan menambahkan syntax del lalu nama variable dengan index nya."
      ]
    },
    {
      "cell_type": "code",
      "execution_count": null,
      "id": "471f6645",
      "metadata": {
        "id": "471f6645"
      },
      "outputs": [],
      "source": [
        "# Menghapus seluruh data pada data dictionary\n",
        "biodata.clear()\n",
        "\n",
        "print(biodata)"
      ]
    },
    {
      "cell_type": "markdown",
      "id": "336e5eb1",
      "metadata": {
        "id": "336e5eb1"
      },
      "source": [
        "Pada contoh diatas, adalah cara menghapus seluruh data dalam data dictionary sehingga variable biodata menjadi kosong sekarang."
      ]
    },
    {
      "cell_type": "markdown",
      "id": "7e45352f",
      "metadata": {
        "id": "7e45352f"
      },
      "source": [
        "Selanjutnya adalah menyalin data dictionary ke variable baru. Dalam penyalinan ini, dapat dilakukan dengan 2 cara, yaitu sebagai berikut."
      ]
    },
    {
      "cell_type": "code",
      "execution_count": null,
      "id": "8c714cdb",
      "metadata": {
        "id": "8c714cdb"
      },
      "outputs": [],
      "source": [
        "# Menyalin data dengan metode 1\n",
        "biodata = {\n",
        "    \"nama\"    : \"Nama Anda\",\n",
        "    \"nim\"     : \"Nim Anda\",\n",
        "    \"jurusan\" : \"Jurusan Anda\"\n",
        "}\n",
        "\n",
        "biodataku = biodata\n",
        "\n",
        "print(biodataku)"
      ]
    },
    {
      "cell_type": "code",
      "execution_count": null,
      "id": "23971bd4",
      "metadata": {
        "id": "23971bd4"
      },
      "outputs": [],
      "source": [
        "# Menyalin data dengan metode 2\n",
        "biodata_baru = {\n",
        "    \"nama\"    : \"Budi\",\n",
        "    \"nim\"     : \"0987654321\",\n",
        "    \"jurusan\" : \"Matematika\"\n",
        "}\n",
        "\n",
        "biodata_budi = biodata_baru.copy()\n",
        "\n",
        "print(biodata_budi)"
      ]
    },
    {
      "cell_type": "markdown",
      "id": "255b6c8e",
      "metadata": {
        "id": "255b6c8e"
      },
      "source": [
        "Perbedaan dari 2 cara diatas terletak pada saat proses kopinya.\n",
        "\n",
        "Metode pertama, data yang dikopi tidak benar-benar disalin kedalam variable baru, tetapi isi dari variable biodata di referensikan kedalam variable biodataku. Sehingga saat data di variable biodata dimanipulasi, maka data pada variable biodataku akan berubah juga\n",
        "\n",
        "Sedangkan pada metode kedua, data dari variable biodata_baru akan benar-benar disalin ke variable biodata_budi. Sehingga menjadi benar-benar data baru, walaupun data dari variable biodata_baru dirubah, maka data di variable biodata_budi tidak akan berubah."
      ]
    },
    {
      "cell_type": "code",
      "execution_count": null,
      "id": "ff19bd07",
      "metadata": {
        "id": "ff19bd07"
      },
      "outputs": [],
      "source": [
        "# Pembuktian metode 1\n",
        "biodata['nama'] = \"Anto\"\n",
        "\n",
        "print(biodataku)"
      ]
    },
    {
      "cell_type": "code",
      "execution_count": null,
      "id": "6d8a5a4d",
      "metadata": {
        "id": "6d8a5a4d"
      },
      "outputs": [],
      "source": [
        "# Pembuktian metode 2\n",
        "\n",
        "biodata_baru['nama'] = \"Budi Sentosa\"\n",
        "\n",
        "print(biodata_budi)"
      ]
    },
    {
      "cell_type": "markdown",
      "id": "0e9d5056",
      "metadata": {
        "id": "0e9d5056"
      },
      "source": [
        "## Sets\n",
        "Set merupakan tipe data gabungan dari tipe data list, tuple, dan dictionary. \n",
        "\n",
        "Tipe data ini memiliki memadukan karakteristik dari ketiga tipe data tersebut, yaitu : \n",
        "\n",
        "- Menggunakan kurung kurawal {} untuk mengapit datanya seperti dictionary\n",
        "- Tidak memiliki index seperti list\n",
        "- Tidak bisa dlakukan perubahan data seperti tuple\n",
        "\n",
        "\n",
        "Akan tetapi, tipe data set bisa menambah data baru atau menghapus data, tidak seperti tuple."
      ]
    },
    {
      "cell_type": "code",
      "execution_count": null,
      "id": "089b1bd3",
      "metadata": {
        "id": "089b1bd3"
      },
      "outputs": [],
      "source": [
        "# Contoh inisalisasi tipe data set\n",
        "\n",
        "data_saya = {\"Andika\", \"087712313123\", \"indralaya\"}\n",
        "\n",
        "print(data_saya)"
      ]
    },
    {
      "cell_type": "code",
      "execution_count": null,
      "id": "3c306562",
      "metadata": {
        "id": "3c306562"
      },
      "outputs": [],
      "source": [
        "print(type(data_saya))"
      ]
    },
    {
      "cell_type": "code",
      "execution_count": null,
      "id": "460554de",
      "metadata": {
        "id": "460554de"
      },
      "outputs": [],
      "source": [
        "# Menambahkan data baru kedalam data tipe set\n",
        "data_saya.add(\"matematika\")\n",
        "\n",
        "print(data_saya)"
      ]
    },
    {
      "cell_type": "code",
      "execution_count": null,
      "id": "2e534b0d",
      "metadata": {
        "id": "2e534b0d"
      },
      "outputs": [],
      "source": [
        "# Menghapus data pada tipe data set\n",
        "data_saya.remove(\"matematika\")\n",
        "\n",
        "print(data_saya)"
      ]
    },
    {
      "cell_type": "markdown",
      "id": "d05b9769",
      "metadata": {
        "id": "d05b9769"
      },
      "source": [
        "Untuk diketahui, tipe data set saat ditampilkan akan mengurutkan datanya secara otomatis seperti contoh-contoh diatas, hingga data dengan tipe set tidak bisa dilakukan sorting dan tidak bisa menentukan index nya."
      ]
    },
    {
      "cell_type": "code",
      "execution_count": null,
      "id": "f959ac5a",
      "metadata": {
        "id": "f959ac5a"
      },
      "outputs": [],
      "source": []
    },
    {
      "cell_type": "markdown",
      "id": "3c6776da",
      "metadata": {
        "id": "3c6776da"
      },
      "source": [
        "# Function vs Procedure"
      ]
    },
    {
      "cell_type": "markdown",
      "id": "66d7f1c6",
      "metadata": {
        "id": "66d7f1c6"
      },
      "source": [
        "## Function"
      ]
    },
    {
      "cell_type": "markdown",
      "id": "d008e05b",
      "metadata": {
        "id": "d008e05b"
      },
      "source": [
        "Function (fungsi) berisi se deretan algoritma untuk mengoperasikan variabel dengan nilai return (nilai kembali)"
      ]
    },
    {
      "cell_type": "code",
      "execution_count": null,
      "id": "4143d473",
      "metadata": {
        "id": "4143d473"
      },
      "outputs": [],
      "source": [
        "import random\n",
        "def angka_acak():\n",
        "    angka = random.randint(0,10)\n",
        "    return angka"
      ]
    },
    {
      "cell_type": "code",
      "execution_count": null,
      "id": "8d9ccd43",
      "metadata": {
        "id": "8d9ccd43",
        "scrolled": true
      },
      "outputs": [],
      "source": [
        "print(angka_acak())"
      ]
    },
    {
      "cell_type": "markdown",
      "id": "9c114d41",
      "metadata": {
        "id": "9c114d41"
      },
      "source": [
        "Perlu diperhatikan di dalam fungsi `angka_acak()` terdapat syntax:\n",
        "```python\n",
        "return angka\n",
        "```\n",
        "\n",
        "`return` digunakan untuk mengembalikan variabel ketika fungsi tersebut dipanggil "
      ]
    },
    {
      "cell_type": "markdown",
      "id": "bd093798",
      "metadata": {
        "id": "bd093798"
      },
      "source": [
        "Karena fungsi tersebut mengembalikan variabel, variabel yang dikembalikan dari fungsi tersebut dapat dimasukkan ke dalam variabel lain"
      ]
    },
    {
      "cell_type": "code",
      "execution_count": null,
      "id": "93448c10",
      "metadata": {
        "id": "93448c10"
      },
      "outputs": [],
      "source": [
        "acak = angka_acak()\n",
        "print(acak)"
      ]
    },
    {
      "cell_type": "markdown",
      "id": "718306a5",
      "metadata": {
        "id": "718306a5"
      },
      "source": [
        "## Procedure"
      ]
    },
    {
      "cell_type": "markdown",
      "id": "ebd7cc37",
      "metadata": {
        "id": "ebd7cc37"
      },
      "source": [
        "Procedure (prosedur) berisi se deretan algoritma untuk mengoperasikan variabel tanpa nilai return"
      ]
    },
    {
      "cell_type": "code",
      "execution_count": null,
      "id": "58547161",
      "metadata": {
        "id": "58547161"
      },
      "outputs": [],
      "source": [
        "def prosedur_print():\n",
        "    print('Hello world!')"
      ]
    },
    {
      "cell_type": "code",
      "execution_count": null,
      "id": "dd1950e4",
      "metadata": {
        "id": "dd1950e4"
      },
      "outputs": [],
      "source": [
        "prosedur_print()"
      ]
    },
    {
      "cell_type": "markdown",
      "id": "c96830bd",
      "metadata": {
        "id": "c96830bd"
      },
      "source": [
        "Prosedur dapat dimasukkan ke dalam variabel namun cara ini tidak baik saat implementasi karena akan membuat program yang dibuat menjadi lebih sulit untuk dibaca"
      ]
    },
    {
      "cell_type": "code",
      "execution_count": null,
      "id": "4f62291e",
      "metadata": {
        "id": "4f62291e"
      },
      "outputs": [],
      "source": [
        "a = prosedur_print"
      ]
    },
    {
      "cell_type": "code",
      "execution_count": null,
      "id": "6c387026",
      "metadata": {
        "id": "6c387026"
      },
      "outputs": [],
      "source": [
        "a()\n",
        "prosedur_print()"
      ]
    },
    {
      "cell_type": "markdown",
      "id": "bbb08ce4",
      "metadata": {
        "id": "bbb08ce4"
      },
      "source": [
        "Meskipun prosedur tersebut menjadi dua, kedua nya masih memiliki tipe fungsi yang sama"
      ]
    },
    {
      "cell_type": "code",
      "execution_count": null,
      "id": "4c9b5a27",
      "metadata": {
        "id": "4c9b5a27"
      },
      "outputs": [],
      "source": [
        "print(a)\n",
        "print(prosedur_print)"
      ]
    },
    {
      "cell_type": "markdown",
      "id": "2d434485",
      "metadata": {
        "id": "2d434485"
      },
      "source": [
        "# Argumen atau parameter"
      ]
    },
    {
      "cell_type": "markdown",
      "id": "95e74334",
      "metadata": {
        "id": "95e74334"
      },
      "source": [
        "Argumen adalah variabel yang dimasukkan ke dalam sebuah fungsi untuk di proses. variabel yang berada di fungsi bersifat lokal. hanya dapat diakses oleh fungsi itu saja. tidak dapat di akses dari luar fungsi itu sendiri. namun variabel yang berada di luar fungsi dapat dibaca di dalam fungsi\n",
        "\n",
        "Pada masing-masing fungsi, terdapat 1 argumen yang akan digunakan di dalam fungsi"
      ]
    },
    {
      "cell_type": "code",
      "execution_count": null,
      "id": "e01d906b",
      "metadata": {
        "id": "e01d906b"
      },
      "outputs": [],
      "source": [
        "def luas_persegi(sisi):\n",
        "    luas = sisi*sisi\n",
        "    return luas\n",
        "\n",
        "def keliling_persegi(sisi):\n",
        "    keliling = 4*sisi\n",
        "    return keliling\n",
        "\n",
        "def luas_lingkaran(r):\n",
        "    luas = (22/7)*(r**2)\n",
        "    return luas\n",
        "\n",
        "def keliling_lingkaran(sisi):\n",
        "    keliling = 4*sisi\n",
        "    return keliling\n"
      ]
    },
    {
      "cell_type": "markdown",
      "id": "1aac2200",
      "metadata": {
        "id": "1aac2200"
      },
      "source": [
        "Sel dibawah memberikan 1 argumen kepada fungsi `luas_persegi`"
      ]
    },
    {
      "cell_type": "code",
      "execution_count": null,
      "id": "b1212cc5",
      "metadata": {
        "id": "b1212cc5"
      },
      "outputs": [],
      "source": [
        "print(luas_persegi(5))"
      ]
    },
    {
      "cell_type": "markdown",
      "id": "6f6090f9",
      "metadata": {
        "id": "6f6090f9"
      },
      "source": [
        "Sel dibawah terjadi error dikarenakan variabel `luas` berada di dalam fungsi `luas_persegi` dan `luas_lingkaran`. variabel `luas` hanya bisa diakses di dalam fungsi"
      ]
    },
    {
      "cell_type": "code",
      "execution_count": null,
      "id": "c6cfebec",
      "metadata": {
        "id": "c6cfebec",
        "scrolled": true
      },
      "outputs": [],
      "source": [
        "print(luas)"
      ]
    },
    {
      "cell_type": "markdown",
      "id": "8bafac04",
      "metadata": {
        "id": "8bafac04"
      },
      "source": [
        "Sel dibawah menunjukkan fungsi `penambahan` dapat membaca variabel `a` yang berada di luar fungsi"
      ]
    },
    {
      "cell_type": "code",
      "execution_count": null,
      "id": "eeacc0ba",
      "metadata": {
        "id": "eeacc0ba"
      },
      "outputs": [],
      "source": [
        "a = 5\n",
        "\n",
        "def penambahan(nilai):\n",
        "    hasil = a+nilai\n",
        "    return hasil\n",
        "\n",
        "print(a)\n",
        "a = penambahan(10)\n",
        "print(a)"
      ]
    },
    {
      "cell_type": "markdown",
      "id": "d757c424",
      "metadata": {
        "id": "d757c424"
      },
      "source": [
        "# Multiple Argumen"
      ]
    },
    {
      "cell_type": "markdown",
      "id": "7b51405e",
      "metadata": {
        "id": "7b51405e"
      },
      "source": [
        "Fungsi yang dibuat dapat meminta lebih dari satu variabel yang diperlukan"
      ]
    },
    {
      "cell_type": "code",
      "execution_count": null,
      "id": "5fcbf73e",
      "metadata": {
        "id": "5fcbf73e"
      },
      "outputs": [],
      "source": [
        "def luas_persegi_panjang(panjang,lebar):\n",
        "    luas = panjang*lebar\n",
        "    return luas\n",
        "\n",
        "def keliling_persegi_panjang(panjang,lebar):\n",
        "    keliling = 2*(panjang+lebar)\n",
        "    return keliling\n",
        "\n",
        "def luas_segitiga(alas,tinggi):\n",
        "    luas = (alas*tinggi)/2\n",
        "    return luas\n",
        "\n",
        "def keliling_segitiga(tegak,baring,miring):\n",
        "    keliling = tegak+baring+miring\n",
        "    return keliling\n",
        "\n",
        "def pitagoras(tegak,baring):\n",
        "    miring = ((tegak**2)*(baring**2))**(1/2)\n",
        "    return miring"
      ]
    },
    {
      "cell_type": "markdown",
      "id": "9105dd0b",
      "metadata": {
        "id": "9105dd0b"
      },
      "source": [
        "Argumen yang diminta, akan diberikan sesuai dengan urutannya. Pada sel dibawah, fungsi `luas_persegi_panjang` meminta 2 variabel yaitu `panjang` dan `lebar`. `8` akan digunakan sebagai `panjang`. `4` akan digunakan sebagai `lebar`"
      ]
    },
    {
      "cell_type": "code",
      "execution_count": null,
      "id": "29337236",
      "metadata": {
        "id": "29337236"
      },
      "outputs": [],
      "source": [
        "print(luas_persegi_panjang(8,4))"
      ]
    },
    {
      "cell_type": "markdown",
      "id": "cb1a8537",
      "metadata": {
        "id": "cb1a8537"
      },
      "source": [
        "# Arbitrary argumen"
      ]
    },
    {
      "cell_type": "markdown",
      "id": "573cda9c",
      "metadata": {
        "id": "573cda9c"
      },
      "source": [
        "Argumen yang diminta oleh suatu fungsi atau prosedur dapat dinamis. Pada suatu fungsi atau prosedur, dapat meminta satu argumen dengan menambah karakter `*` di depan argumen. Pada saat memanggil fungsi atau prosedur tersebut, fungsi atau prosedur dapat memberi lebih dari satu argumen sebagai `array`. \n",
        "\n",
        "Dengan begitu, pada saat memanggil fungsi tersebut, dapat memberi lebih dari satu argumen. "
      ]
    },
    {
      "cell_type": "code",
      "execution_count": null,
      "id": "0365e413",
      "metadata": {
        "id": "0365e413"
      },
      "outputs": [],
      "source": [
        "def thirdArg(*arr):\n",
        "    print(f'{arr[2]}')\n",
        "\n",
        "def firstArg(*arr):\n",
        "    print(arr[0])"
      ]
    },
    {
      "cell_type": "code",
      "execution_count": null,
      "id": "69212509",
      "metadata": {
        "id": "69212509"
      },
      "outputs": [],
      "source": [
        "thirdArg('Pertama','Kedua','Ketiga')\n",
        "firstArg('Pertama','Kedua','Ketiga')"
      ]
    },
    {
      "cell_type": "markdown",
      "id": "a4a2745f",
      "metadata": {
        "id": "a4a2745f"
      },
      "source": [
        "# Keyword Argumen"
      ]
    },
    {
      "cell_type": "markdown",
      "id": "1e884729",
      "metadata": {
        "id": "1e884729"
      },
      "source": [
        "Sebelumnya sudah pernah di deklarasikan fungsi `luas_persegi_panjang`. Fungsi tersebut meminta 2 argumen. `panjang` dan `lebar`.\n",
        "\n",
        "Argumen yang diberikan kepada suatu fungsi atau prosedur bisa diberikan tidak sesuai urutan asalkan argumen yang diminta diperjelas ketika diberi\n",
        "\n",
        "Pada fungsi dibawah, fungsi `luas_persegi_panjang` diberi argumen `lebar` terlebih dahulu. Sedangkan pada fungsi tersebut, argumen pertama adalah `panjang`"
      ]
    },
    {
      "cell_type": "code",
      "execution_count": null,
      "id": "502aa018",
      "metadata": {
        "id": "502aa018"
      },
      "outputs": [],
      "source": [
        "print(luas_persegi_panjang(lebar=6,panjang=8))"
      ]
    },
    {
      "cell_type": "markdown",
      "id": "a900e04c",
      "metadata": {
        "id": "a900e04c"
      },
      "source": [
        "# Arbitrary keyword argumen"
      ]
    },
    {
      "cell_type": "markdown",
      "id": "2a3eeb2d",
      "metadata": {
        "id": "2a3eeb2d"
      },
      "source": [
        "Arbitrary keyword argumen memiliki sifat yang sama dengan Arbitrary argumen. Bedanya adalah argumen yang diberikan akan dibaca sebagai `dictionary` oleh fungsi atau prosedur. Perbedaan lainnya adalah pada deklarasi fungsi atau prosedur, argumen akan diberi karakter `**` sebelum argumen"
      ]
    },
    {
      "cell_type": "markdown",
      "id": "1c7c5a52",
      "metadata": {
        "id": "1c7c5a52"
      },
      "source": [
        "<div>\n",
        "<img src=\"https://github.com/SamuelBenedix/WorkshopFKIP/blob/main/.ipynb_checkpoints/gambar/day3-1.png?raw=1\" width=\"750\"/>\n",
        "</div>"
      ]
    },
    {
      "cell_type": "code",
      "execution_count": null,
      "id": "ea3bad39",
      "metadata": {
        "id": "ea3bad39"
      },
      "outputs": [],
      "source": [
        "def persegi(**nilai):\n",
        "    if nilai['rumus'] == 'luas':\n",
        "        hasil = nilai['sisi']*nilai['sisi']\n",
        "    elif nilai['rumus'] == 'keliling':\n",
        "        hasil = 4*nilai['sisi']\n",
        "    else:\n",
        "        hasil = 0\n",
        "    return hasil"
      ]
    },
    {
      "cell_type": "code",
      "execution_count": null,
      "id": "291ab9e0",
      "metadata": {
        "id": "291ab9e0"
      },
      "outputs": [],
      "source": [
        "print(persegi(rumus='luas',sisi=10))"
      ]
    },
    {
      "cell_type": "markdown",
      "id": "dd7b3205",
      "metadata": {
        "id": "dd7b3205"
      },
      "source": [
        "# Default parameter value"
      ]
    },
    {
      "cell_type": "markdown",
      "id": "48f6a5ef",
      "metadata": {
        "id": "48f6a5ef"
      },
      "source": [
        "Fungsi atau prosedur yang dibuat, argumen yang diminta dapat diabaikan apabila argumen tersebut telah diberi nilai. Pada fungsi `perpangkatan`, argumen `pangkat` secara default telah di set menjadi angka `2`. Sehingga meskipun fungsi tersebut dipanggil tanpa argumen `pangkat`, fungsi `perpangkatan` masih dapat dijalankan hanya dengan argumen `x`"
      ]
    },
    {
      "cell_type": "code",
      "execution_count": null,
      "id": "61dbdab1",
      "metadata": {
        "id": "61dbdab1"
      },
      "outputs": [],
      "source": [
        "def perpangkatan(x,pangkat=2):\n",
        "    hasil = x**pangkat\n",
        "    return hasil\n",
        "\n",
        "def akar(x,nilai_akar=2):\n",
        "    hasil = x**(1/nilai_akar)\n",
        "    return hasil"
      ]
    },
    {
      "cell_type": "code",
      "execution_count": null,
      "id": "128daba3",
      "metadata": {
        "id": "128daba3"
      },
      "outputs": [],
      "source": [
        "print(perpangkatan(5))\n",
        "print(perpangkatan(3,3))\n",
        "print(perpangkatan(x=7,pangkat=2))"
      ]
    },
    {
      "cell_type": "code",
      "execution_count": null,
      "id": "bd4b826b",
      "metadata": {
        "id": "bd4b826b"
      },
      "outputs": [],
      "source": [
        "print(akar(9))\n",
        "print(akar(81,2))\n",
        "print(akar(x=625,nilai_akar=4))"
      ]
    },
    {
      "cell_type": "markdown",
      "id": "4de5fcde",
      "metadata": {
        "id": "4de5fcde"
      },
      "source": [
        "# Pass different data type to argumen"
      ]
    },
    {
      "cell_type": "markdown",
      "id": "2daf9e1c",
      "metadata": {
        "id": "2daf9e1c"
      },
      "source": [
        "Argumen yang diberi pada fungsi atau prosedur, tidak dibatasi oleh tipe data. tipe data apapun dapat diberi kedalam fungsi atau prosedur. Asalkan penerapan yang diberikan terhadap variabel tersebut telah tepat"
      ]
    },
    {
      "cell_type": "code",
      "execution_count": null,
      "id": "357e728f",
      "metadata": {
        "id": "357e728f"
      },
      "outputs": [],
      "source": [
        "def rata_rata(arr):\n",
        "    total_data = 0\n",
        "    panjang_data = 0\n",
        "    for data in arr:\n",
        "        total_data = total_data+data\n",
        "        panjang_data +=1\n",
        "    hasil = total_data/panjang_data\n",
        "    return hasil"
      ]
    },
    {
      "cell_type": "markdown",
      "id": "cc54a01f",
      "metadata": {
        "id": "cc54a01f"
      },
      "source": [
        "<div>\n",
        "<img src=\"https://github.com/SamuelBenedix/WorkshopFKIP/blob/main/.ipynb_checkpoints/gambar/day3-2.png?raw=1\" width=\"700\"/>\n",
        "</div>\n"
      ]
    },
    {
      "cell_type": "code",
      "execution_count": null,
      "id": "92c909f8",
      "metadata": {
        "id": "92c909f8"
      },
      "outputs": [],
      "source": [
        "hitung_rata2 = [5,2,4,5,1,2,6,8,9,3,4]"
      ]
    },
    {
      "cell_type": "code",
      "execution_count": null,
      "id": "e34f48b8",
      "metadata": {
        "id": "e34f48b8"
      },
      "outputs": [],
      "source": [
        "print(rata_rata(hitung_rata2))"
      ]
    },
    {
      "cell_type": "markdown",
      "id": "9983f339",
      "metadata": {
        "id": "9983f339"
      },
      "source": [
        "# Recursion"
      ]
    },
    {
      "cell_type": "markdown",
      "id": "be26ade7",
      "metadata": {
        "id": "be26ade7"
      },
      "source": [
        "Recursion (rekursi) adalah penerapan ketika didalam fungsi atau prosedur memanggil fungsi atau prosedur itu sendiri. "
      ]
    },
    {
      "cell_type": "code",
      "execution_count": null,
      "id": "366fd5c8",
      "metadata": {
        "id": "366fd5c8"
      },
      "outputs": [],
      "source": [
        "def recursion(i):\n",
        "    if(i > 0):\n",
        "        print(i)\n",
        "        recursion(i - 1)\n",
        "        \n",
        "recursion(8)"
      ]
    },
    {
      "cell_type": "markdown",
      "id": "js8upKxBtr7l",
      "metadata": {
        "id": "js8upKxBtr7l"
      },
      "source": [
        "# **Lambda**\n",
        "lambda merupakan bentuk singkat dari fungsi (function)"
      ]
    },
    {
      "cell_type": "code",
      "execution_count": null,
      "id": "a49e1a1c",
      "metadata": {
        "id": "a49e1a1c"
      },
      "outputs": [],
      "source": [
        "def luas_persegi_panjang(panjang,lebar):\n",
        "    luas = panjang*lebar\n",
        "    return luas\n",
        "\n",
        "def keliling_persegi_panjang(panjang,lebar):\n",
        "    keliling = 2*(panjang+lebar)\n",
        "    return keliling\n",
        "\n",
        "def luas_segitiga(alas,tinggi):\n",
        "    luas = (alas*tinggi)/2\n",
        "    return luas\n",
        "\n",
        "def keliling_segitiga(tegak,baring,miring):\n",
        "    keliling = tegak+baring+miring\n",
        "    return keliling\n",
        "\n",
        "def pitagoras(tegak,baring):\n",
        "    miring = ((tegak**2)*(baring**2))**(1/2)\n",
        "    return miring"
      ]
    },
    {
      "cell_type": "markdown",
      "id": "Hxbr4Iuvtv57",
      "metadata": {
        "id": "Hxbr4Iuvtv57"
      },
      "source": [
        "Dari fungsi yang terdapat diatas bila dimasukkan kedalam struktur lambda akan menjadi seperti dibawah ini"
      ]
    },
    {
      "cell_type": "code",
      "execution_count": null,
      "id": "R9wIqzImtt2J",
      "metadata": {
        "id": "R9wIqzImtt2J"
      },
      "outputs": [],
      "source": [
        "luas_persegi_panjang = lambda panjang,lebar : panjang * lebar \n",
        "keliling_persegi_panjang = lambda panjang,lebar : 2 * (panjang + lebar)\n",
        "luas_segitigas = lambda alas,tinggi : (alas*tinggi)/2\n",
        "keliling_segitiga = lambda tegak, baring, miring : tegak + baring + miring\n",
        "pitagoras = lambda tegak, baring: ((tegak ** 2) * (baring ** 2) ** (1/2) )"
      ]
    },
    {
      "cell_type": "markdown",
      "id": "G1F0A4xTtxjy",
      "metadata": {
        "id": "G1F0A4xTtxjy"
      },
      "source": [
        "Berikut merupakan salah satu contoh pemanggilan lambda dengan Argumen yang diminta, akan diberikan sesuai dengan urutannya. Pada sel dibawah, fungsi `luas_segitiga` meminta 2 variabel yaitu `panjang` dan `lebar`. `10` akan digunakan sebagai `panjang`. `2` akan digunakan sebagai `lebar`"
      ]
    },
    {
      "cell_type": "code",
      "execution_count": null,
      "id": "LrYSVCLXtzHV",
      "metadata": {
        "id": "LrYSVCLXtzHV"
      },
      "outputs": [],
      "source": [
        "luas_segitiga(10,2)"
      ]
    },
    {
      "cell_type": "markdown",
      "id": "K7hmlhsHt0yf",
      "metadata": {
        "id": "K7hmlhsHt0yf"
      },
      "source": [
        "# **Array**\n",
        "\n",
        "Array adalah sebuah tipe data yang mirip seperti list.\n",
        "\n",
        "Namun ada yang memberikan perbedaan terhadap kedua tipe data tersebut antara lain\n",
        "1. List digunakan untuk melakukan operasi matematika pada urutan elemen yang lebih kecil\n",
        "2. Penggunaan Array harus melakukan deklarasi sedangkan list tidak\n",
        "3. Array menyimpan tipe data yang sama (homogen) sedangkan list dapat dengan tipe data yang berbeda (heterogen)\n",
        "\n",
        "\n",
        "\n"
      ]
    },
    {
      "cell_type": "markdown",
      "id": "vpu7Ib3bx_UF",
      "metadata": {
        "id": "vpu7Ib3bx_UF"
      },
      "source": [
        "Deklrasi variable array dengan tipe data string semua"
      ]
    },
    {
      "cell_type": "code",
      "execution_count": 34,
      "id": "mdHq5x5vxBri",
      "metadata": {
        "id": "mdHq5x5vxBri"
      },
      "outputs": [],
      "source": [
        "kereta = ['kabin_1','kabin_kosong','kabin_2','kabin_3','kabin_kosong','kabin_4','kabin_kosong']"
      ]
    },
    {
      "cell_type": "code",
      "execution_count": 35,
      "id": "5AumdKtfyDfO",
      "metadata": {
        "colab": {
          "base_uri": "https://localhost:8080/"
        },
        "id": "5AumdKtfyDfO",
        "outputId": "89775be2-d3d9-4e38-d5c6-3077205dae62"
      },
      "outputs": [
        {
          "output_type": "stream",
          "name": "stdout",
          "text": [
            "['kabin_1', 'kabin_kosong', 'kabin_2', 'kabin_3', 'kabin_kosong', 'kabin_4', 'kabin_kosong']\n"
          ]
        }
      ],
      "source": [
        "print(kereta)"
      ]
    },
    {
      "cell_type": "markdown",
      "id": "d9bI2faYyNA1",
      "metadata": {
        "id": "d9bI2faYyNA1"
      },
      "source": [
        "Untuk mendapatkan jumlah panjang array mengguanakan fungsi bawaan python yaitu `len()`"
      ]
    },
    {
      "cell_type": "code",
      "execution_count": 36,
      "id": "ozHq2i16yUXz",
      "metadata": {
        "colab": {
          "base_uri": "https://localhost:8080/"
        },
        "id": "ozHq2i16yUXz",
        "outputId": "88d64c24-0525-4c70-ad2b-b097681bc354"
      },
      "outputs": [
        {
          "output_type": "execute_result",
          "data": {
            "text/plain": [
              "7"
            ]
          },
          "metadata": {},
          "execution_count": 36
        }
      ],
      "source": [
        "len(kereta)"
      ]
    },
    {
      "cell_type": "markdown",
      "id": "2B9Zr8y10pbI",
      "metadata": {
        "id": "2B9Zr8y10pbI"
      },
      "source": [
        "Untuk memanggil data didalam array menggunakan Fungsi For untuk memanggil data didalam array secara satu persatu"
      ]
    },
    {
      "cell_type": "code",
      "execution_count": 37,
      "id": "xsnC0g_B0lvE",
      "metadata": {
        "colab": {
          "base_uri": "https://localhost:8080/"
        },
        "id": "xsnC0g_B0lvE",
        "outputId": "84a48784-74c2-4a36-f1fd-56ff58819908"
      },
      "outputs": [
        {
          "output_type": "stream",
          "name": "stdout",
          "text": [
            "kabin_1\n",
            "kabin_kosong\n",
            "kabin_2\n",
            "kabin_3\n",
            "kabin_kosong\n",
            "kabin_4\n",
            "kabin_kosong\n"
          ]
        }
      ],
      "source": [
        "for x in kereta:\n",
        "  print(x)"
      ]
    },
    {
      "cell_type": "markdown",
      "id": "nDmEEOY-ymFQ",
      "metadata": {
        "id": "nDmEEOY-ymFQ"
      },
      "source": [
        "Pada contoh kode dibawah ini merupakan fungsi yang terdapat didalam array contohnya adalah `append`,`pop`,`remove`,`sort` dan `reverse`"
      ]
    },
    {
      "cell_type": "markdown",
      "id": "lRVe9XZGy4dN",
      "metadata": {
        "id": "lRVe9XZGy4dN"
      },
      "source": [
        "## Append\n",
        "fungsi append bertujuan menambah 1 data pada list array terakhir\n",
        "\n",
        "Pada contoh program dibawah ini bertujuan untuk menambah satu tipe data string bernilai `ayam_ketiga` kedalam array"
      ]
    },
    {
      "cell_type": "code",
      "execution_count": 38,
      "id": "UkgdUPKKyWNx",
      "metadata": {
        "id": "UkgdUPKKyWNx"
      },
      "outputs": [],
      "source": [
        "kereta.append('kabin_5')"
      ]
    },
    {
      "cell_type": "code",
      "execution_count": 39,
      "id": "dXRoSsA10bH0",
      "metadata": {
        "colab": {
          "base_uri": "https://localhost:8080/"
        },
        "id": "dXRoSsA10bH0",
        "outputId": "346fc92a-ed4f-4d68-d52f-c22b96b2cdfe"
      },
      "outputs": [
        {
          "output_type": "execute_result",
          "data": {
            "text/plain": [
              "['kabin_1',\n",
              " 'kabin_kosong',\n",
              " 'kabin_2',\n",
              " 'kabin_3',\n",
              " 'kabin_kosong',\n",
              " 'kabin_4',\n",
              " 'kabin_kosong',\n",
              " 'kabin_5']"
            ]
          },
          "metadata": {},
          "execution_count": 39
        }
      ],
      "source": [
        "kereta"
      ]
    },
    {
      "cell_type": "markdown",
      "id": "IVzlowbHzK_O",
      "metadata": {
        "id": "IVzlowbHzK_O"
      },
      "source": [
        "## Pop\n",
        "fungsi Pop bertujuan untuk mengeluarkan nilai data didalam array\n",
        "\n",
        "Pada contoh program dibawah ini bertujuan untuk mengeluarkan nilai dari array pada indeks yang pertama"
      ]
    },
    {
      "cell_type": "code",
      "execution_count": 40,
      "id": "Vk11BbdEybDw",
      "metadata": {
        "colab": {
          "base_uri": "https://localhost:8080/",
          "height": 37
        },
        "id": "Vk11BbdEybDw",
        "outputId": "759b3f83-e659-4202-eb0b-91f77444da08"
      },
      "outputs": [
        {
          "output_type": "execute_result",
          "data": {
            "text/plain": [
              "'kabin_kosong'"
            ],
            "application/vnd.google.colaboratory.intrinsic+json": {
              "type": "string"
            }
          },
          "metadata": {},
          "execution_count": 40
        }
      ],
      "source": [
        "kereta.pop(1)"
      ]
    },
    {
      "cell_type": "code",
      "execution_count": 41,
      "id": "wujOPYx10dvM",
      "metadata": {
        "colab": {
          "base_uri": "https://localhost:8080/"
        },
        "id": "wujOPYx10dvM",
        "outputId": "4338e3af-dbbe-4954-fd50-5516c8882cd2"
      },
      "outputs": [
        {
          "output_type": "execute_result",
          "data": {
            "text/plain": [
              "['kabin_1',\n",
              " 'kabin_2',\n",
              " 'kabin_3',\n",
              " 'kabin_kosong',\n",
              " 'kabin_4',\n",
              " 'kabin_kosong',\n",
              " 'kabin_5']"
            ]
          },
          "metadata": {},
          "execution_count": 41
        }
      ],
      "source": [
        "kereta"
      ]
    },
    {
      "cell_type": "markdown",
      "id": "QJcamqnezu4-",
      "metadata": {
        "id": "QJcamqnezu4-"
      },
      "source": [
        "## Remove\n",
        "fungsi Remove bertujuan untuk menghapus nilai yang sama sesuai parameter yang sudah berikan"
      ]
    },
    {
      "cell_type": "code",
      "execution_count": 42,
      "id": "Px9KpKdAydV8",
      "metadata": {
        "id": "Px9KpKdAydV8"
      },
      "outputs": [],
      "source": [
        "kereta.remove('kabin_kosong')"
      ]
    },
    {
      "cell_type": "code",
      "execution_count": 43,
      "id": "GzRdqB5Xz4et",
      "metadata": {
        "colab": {
          "base_uri": "https://localhost:8080/"
        },
        "id": "GzRdqB5Xz4et",
        "outputId": "5ed13b88-2e95-43d2-d428-0f20480e1b41"
      },
      "outputs": [
        {
          "output_type": "execute_result",
          "data": {
            "text/plain": [
              "['kabin_1', 'kabin_2', 'kabin_3', 'kabin_4', 'kabin_kosong', 'kabin_5']"
            ]
          },
          "metadata": {},
          "execution_count": 43
        }
      ],
      "source": [
        "kereta"
      ]
    },
    {
      "cell_type": "markdown",
      "id": "sBgX7vCw00xD",
      "metadata": {
        "id": "sBgX7vCw00xD"
      },
      "source": [
        "## Sort\n",
        "Fungsi sort bertujuan untuk mengurutkan nilai dari kecil hingga terbesar. Pengurutan ini bisa dengan tipe data string ataupun tipe data integer "
      ]
    },
    {
      "cell_type": "code",
      "execution_count": 7,
      "id": "OJdKruYjyfjc",
      "metadata": {
        "id": "OJdKruYjyfjc"
      },
      "outputs": [],
      "source": [
        "data = [10,2,5,6,7,8,2,3,524,45,2,132,54]"
      ]
    },
    {
      "cell_type": "code",
      "execution_count": 8,
      "id": "nvVNpLDfyhQX",
      "metadata": {
        "id": "nvVNpLDfyhQX"
      },
      "outputs": [],
      "source": [
        "data.sort()"
      ]
    },
    {
      "cell_type": "code",
      "execution_count": 9,
      "id": "WFX0QAW91E-k",
      "metadata": {
        "colab": {
          "base_uri": "https://localhost:8080/"
        },
        "id": "WFX0QAW91E-k",
        "outputId": "ebe95d9b-11b1-4e49-c302-c8dcf69d51d9"
      },
      "outputs": [
        {
          "output_type": "execute_result",
          "data": {
            "text/plain": [
              "[2, 2, 2, 3, 5, 6, 7, 8, 10, 20, 45, 54, 132, 524]"
            ]
          },
          "metadata": {},
          "execution_count": 9
        }
      ],
      "source": [
        "data"
      ]
    },
    {
      "cell_type": "code",
      "source": [
        "median = data[int(len(data)/2)]\n",
        "median"
      ],
      "metadata": {
        "colab": {
          "base_uri": "https://localhost:8080/"
        },
        "id": "gyKcNwmaBp82",
        "outputId": "1eefed4a-3804-435b-ff39-590a8ae4ba74"
      },
      "id": "gyKcNwmaBp82",
      "execution_count": 10,
      "outputs": [
        {
          "output_type": "execute_result",
          "data": {
            "text/plain": [
              "8"
            ]
          },
          "metadata": {},
          "execution_count": 10
        }
      ]
    },
    {
      "cell_type": "code",
      "execution_count": 25,
      "id": "aGAILSgu1GEU",
      "metadata": {
        "id": "aGAILSgu1GEU"
      },
      "outputs": [],
      "source": [
        "kereta.sort()"
      ]
    },
    {
      "cell_type": "code",
      "execution_count": 44,
      "id": "iMXkX1es1IOr",
      "metadata": {
        "colab": {
          "base_uri": "https://localhost:8080/"
        },
        "id": "iMXkX1es1IOr",
        "outputId": "515f68de-679b-47f6-e30b-918b1fa9e00a"
      },
      "outputs": [
        {
          "output_type": "execute_result",
          "data": {
            "text/plain": [
              "['kabin_1', 'kabin_2', 'kabin_3', 'kabin_4', 'kabin_kosong', 'kabin_5']"
            ]
          },
          "metadata": {},
          "execution_count": 44
        }
      ],
      "source": [
        "kereta"
      ]
    },
    {
      "cell_type": "markdown",
      "id": "XUJo289j1PLU",
      "metadata": {
        "id": "XUJo289j1PLU"
      },
      "source": [
        "## Reverse\n",
        "Sedangankan untuk fungsi reverse kebalikan dari fungsi sort.\n",
        "\n",
        "fungsi reverse bertujuan untuk mengurutkan nilai dari nilai terbesar hingga terkecil"
      ]
    },
    {
      "cell_type": "code",
      "execution_count": null,
      "id": "Hl6Bg4Ulyiul",
      "metadata": {
        "id": "Hl6Bg4Ulyiul"
      },
      "outputs": [],
      "source": [
        "data.reverse()"
      ]
    },
    {
      "cell_type": "code",
      "execution_count": null,
      "id": "dP5_dxz01dRk",
      "metadata": {
        "id": "dP5_dxz01dRk"
      },
      "outputs": [],
      "source": [
        "data"
      ]
    },
    {
      "cell_type": "code",
      "execution_count": null,
      "id": "ykKUh-RQ1Or-",
      "metadata": {
        "id": "ykKUh-RQ1Or-"
      },
      "outputs": [],
      "source": [
        "kandang_ayam.reverse()"
      ]
    },
    {
      "cell_type": "code",
      "execution_count": null,
      "id": "Gbt99iZd1flk",
      "metadata": {
        "id": "Gbt99iZd1flk"
      },
      "outputs": [],
      "source": [
        "kandang_ayam"
      ]
    },
    {
      "cell_type": "markdown",
      "id": "c4AMoNTj1mwb",
      "metadata": {
        "id": "c4AMoNTj1mwb"
      },
      "source": [
        "# **Plotting Grafik**\n",
        "\n",
        "Pada section ini kita akan belajar mengenai plotting.\n",
        "\n",
        "Ploting dalam hal ini merupakan pemgambaran nilai menjadi suatu grafik.\n",
        "\n",
        "untuk sesi ini kita akan menggunakan libary luar yaitu matplotlib sebagai bantuan dalam melakukan proses plotting (`https://matplotlib.org/stable/users/index.html`)\n",
        "\n",
        "Berikut merupakan cara untuk menginstall matplotlib pada jupyter notebook"
      ]
    },
    {
      "cell_type": "code",
      "execution_count": null,
      "id": "IvH9792c1g0W",
      "metadata": {
        "id": "IvH9792c1g0W"
      },
      "outputs": [],
      "source": [
        "!pip install matplotlib"
      ]
    },
    {
      "cell_type": "code",
      "execution_count": null,
      "id": "bCTh7dlz2EE5",
      "metadata": {
        "id": "bCTh7dlz2EE5"
      },
      "outputs": [],
      "source": [
        "#pada cell ini bertujuan untuk memanggil libary matplotlib.pyplot \n",
        "import matplotlib.pyplot as plt"
      ]
    },
    {
      "cell_type": "markdown",
      "id": "En81C1BB4HYs",
      "metadata": {
        "id": "En81C1BB4HYs"
      },
      "source": [
        "Pada contoh kode dibawah ini merupakan salah satu contoh sederhana dari proses plotting, syarat untuk melakukan plotting terdapat dua nilai yaitu nilai x dan y dengan jumlah nilai array yang salam"
      ]
    },
    {
      "cell_type": "code",
      "execution_count": null,
      "id": "rfpE3tdS2PY5",
      "metadata": {
        "id": "rfpE3tdS2PY5"
      },
      "outputs": [],
      "source": [
        "x = [10, 20, 30, 40]\n",
        "y = [20, 30, 40, 50]\n",
        " \n",
        "# Merupakan proses ploting\n",
        "plt.plot(x, y)\n",
        " \n",
        "# Menambahkan title pada gambar ploting\n",
        "plt.title(\"Plotting Sederhana\")\n",
        " \n",
        "# Menambah label pada sumbu x dan y\n",
        "plt.ylabel(\"y-axis\")\n",
        "plt.xlabel(\"x-axis\")\n",
        "\n",
        "plt.show()"
      ]
    },
    {
      "cell_type": "markdown",
      "id": "MfdGeePk4aQ8",
      "metadata": {
        "id": "MfdGeePk4aQ8"
      },
      "source": [
        "Pada contoh dibawah ini merupakan contoh dari Categorical Plotting atau melakukan plotting terhadap data yang terkelompok\n",
        "\n",
        "Untuk melakukan plotting panjang nilai kelompok dan nilai harus memiliki nilai yang sama panjangnya seperti pada data diatas"
      ]
    },
    {
      "cell_type": "code",
      "execution_count": null,
      "id": "nl3XzWdj3bzl",
      "metadata": {
        "id": "nl3XzWdj3bzl"
      },
      "outputs": [],
      "source": [
        "names = ['apple','orange','lemon','lime']\n",
        "values = [10, 15, 5, 20 ]"
      ]
    },
    {
      "cell_type": "markdown",
      "id": "Xu5OUQTi47Us",
      "metadata": {
        "id": "Xu5OUQTi47Us"
      },
      "source": [
        "Plotting data dapat dibedakan menjadi tiga yaitu `bar`,`pie`, `scatter` dan `line`"
      ]
    },
    {
      "cell_type": "markdown",
      "source": [
        "# Pie\n",
        "Pada contoh kodingan dibawah ini menampilkan cara plotting dengan menggunakan pie"
      ],
      "metadata": {
        "id": "ONnMm7JiHvS2"
      },
      "id": "ONnMm7JiHvS2"
    },
    {
      "cell_type": "code",
      "source": [
        "plt.pie(values, labels = names)\n",
        "plt.show() "
      ],
      "metadata": {
        "id": "O714BY3sHpCS"
      },
      "id": "O714BY3sHpCS",
      "execution_count": null,
      "outputs": []
    },
    {
      "cell_type": "markdown",
      "id": "WjwLP6sp5I_X",
      "metadata": {
        "id": "WjwLP6sp5I_X"
      },
      "source": [
        "# Bar\n",
        "Pada contoh kodingan dibawah ini menampilkan cara plotting dengan menggunakan bar"
      ]
    },
    {
      "cell_type": "code",
      "execution_count": null,
      "id": "WyLhGNTT2mFi",
      "metadata": {
        "id": "WyLhGNTT2mFi"
      },
      "outputs": [],
      "source": [
        "fig, axs = plt.subplots()\n",
        "axs.bar(names, values)\n",
        "fig.suptitle('Categorical Plotting dengan bar')"
      ]
    },
    {
      "cell_type": "markdown",
      "id": "FHg8rNhK5Igg",
      "metadata": {
        "id": "FHg8rNhK5Igg"
      },
      "source": [
        "# Scatter\n",
        "Pada contoh kodingan dibawah ini menampilkan cara plotting dengan menggunakan scatter"
      ]
    },
    {
      "cell_type": "code",
      "execution_count": null,
      "id": "rmEWa2Q63iMr",
      "metadata": {
        "id": "rmEWa2Q63iMr"
      },
      "outputs": [],
      "source": [
        "fig, axs = plt.subplots()\n",
        "axs.scatter(names, values)\n",
        "fig.suptitle('Categorical Plotting dengan bar')"
      ]
    },
    {
      "cell_type": "markdown",
      "id": "4P_VGxzv5Z3E",
      "metadata": {
        "id": "4P_VGxzv5Z3E"
      },
      "source": [
        "# Line\n",
        "Pada contoh kodingan dibawah ini menampilkan cara plotting dengan menggunakan line"
      ]
    },
    {
      "cell_type": "code",
      "execution_count": null,
      "id": "eiVSeN_R3_kt",
      "metadata": {
        "id": "eiVSeN_R3_kt"
      },
      "outputs": [],
      "source": [
        "fig, axs = plt.subplots()\n",
        "axs.plot(names, values)\n",
        "fig.suptitle('Categorical Plotting dengan bar')"
      ]
    },
    {
      "cell_type": "code",
      "execution_count": null,
      "id": "j32o6h1d4E7m",
      "metadata": {
        "id": "j32o6h1d4E7m"
      },
      "outputs": [],
      "source": []
    }
  ],
  "metadata": {
    "colab": {
      "provenance": []
    },
    "kernelspec": {
      "display_name": "Python 3 (ipykernel)",
      "language": "python",
      "name": "python3"
    },
    "language_info": {
      "codemirror_mode": {
        "name": "ipython",
        "version": 3
      },
      "file_extension": ".py",
      "mimetype": "text/x-python",
      "name": "python",
      "nbconvert_exporter": "python",
      "pygments_lexer": "ipython3",
      "version": "3.9.7"
    }
  },
  "nbformat": 4,
  "nbformat_minor": 5
}
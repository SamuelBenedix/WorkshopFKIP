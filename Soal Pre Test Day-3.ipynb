{
 "cells": [
  {
   "cell_type": "markdown",
   "id": "eca239e5",
   "metadata": {},
   "source": [
    "# Soal Pre-test"
   ]
  },
  {
   "cell_type": "markdown",
   "id": "d038c710",
   "metadata": {},
   "source": [
    "<b>Nama $\\;\\;\\;$ :          </b>\n",
    "\n",
    "<b>NIM $\\;\\;\\;\\;\\;\\;$:      </b>\n",
    "\n",
    "<b> Double click sel ini untuk mengubah isi"
   ]
  },
  {
   "cell_type": "markdown",
   "id": "f175179f",
   "metadata": {},
   "source": [
    "## Soal\n",
    "\n",
    "terdapat data sebagai berikut :\n",
    "\n",
    "data1 = (1,3,5,7,9)\n",
    "\n",
    "data2 = (2,4,6,8,10)\n",
    "\n",
    "Carilah : \n",
    "1. Hasil perkalian dari deret bilangan data 1\n",
    "2. Tentukan bilangan mana saja dari perkalian bilangan data1 dan data2 yang menghasilkan nilai 20\n"
   ]
  },
  {
   "cell_type": "code",
   "execution_count": 5,
   "id": "f47534f4",
   "metadata": {},
   "outputs": [],
   "source": [
    "# Jawaban untuk soal 1\n",
    "data1 = (1,3,5,7,9)\n",
    "data2 = (2,4,6,8,10)\n",
    "\n",
    "# Jawaban anda\n"
   ]
  },
  {
   "cell_type": "code",
   "execution_count": 6,
   "id": "9cbe4ced",
   "metadata": {},
   "outputs": [],
   "source": [
    "# Jawaban untuk soal 2\n",
    "data1 = (1,3,5,7,9)\n",
    "data2 = (2,4,6,8,10)\n",
    "\n",
    "# Jawaban anda\n"
   ]
  },
  {
   "cell_type": "markdown",
   "id": "dc590ad8",
   "metadata": {},
   "source": [
    "## Soal\n",
    "\n",
    "Terdapat data berikut : \n",
    "\n",
    "titik_a = {\n",
    "    \"x\" : 5,\n",
    "    \"y\" : 6,\n",
    "}\n",
    "\n",
    "titik_b = {\n",
    "    \"x\" : 20,\n",
    "    \"y\" : 14\n",
    "}\n",
    "\n",
    "Tentukan jarak antara titik a dan titik b."
   ]
  },
  {
   "cell_type": "code",
   "execution_count": 17,
   "id": "2504cd74",
   "metadata": {},
   "outputs": [],
   "source": [
    "titik_a = {\n",
    "    \"x\" : 5,\n",
    "    \"y\" : 6,\n",
    "}\n",
    "\n",
    "titik_b = {\n",
    "    \"x\" : 20,\n",
    "    \"y\" : 14\n",
    "}\n",
    "\n",
    "# Jawaban Anda"
   ]
  },
  {
   "cell_type": "markdown",
   "id": "5d4d6753",
   "metadata": {},
   "source": [
    "## Soal\n",
    "\n",
    "Terdapat data berikut :\n",
    "bangun_datar = {\"persegi\", \"persegi panjang\", \"lingkaran\"}\n",
    "\n",
    "Buatlah kondisi untuk setiap data diatas melakukan operasi mencari luas dengan ketentuan : \n",
    "- persegi : sisinya adalah 10\n",
    "- persegi panjang : panjang = 5, lebar = 7\n",
    "- lingkaran : jari-jari = 7"
   ]
  },
  {
   "cell_type": "code",
   "execution_count": 22,
   "id": "c728c055",
   "metadata": {},
   "outputs": [
    {
     "ename": "IndentationError",
     "evalue": "expected an indented block (1906579182.py, line 7)",
     "output_type": "error",
     "traceback": [
      "\u001b[0;36m  File \u001b[0;32m\"/tmp/ipykernel_1119/1906579182.py\"\u001b[0;36m, line \u001b[0;32m7\u001b[0m\n\u001b[0;31m    if \"xxxxx\" in bangun_datar:\u001b[0m\n\u001b[0m     ^\u001b[0m\n\u001b[0;31mIndentationError\u001b[0m\u001b[0;31m:\u001b[0m expected an indented block\n"
     ]
    }
   ],
   "source": [
    "bangun_datar = {\"persegi\", \"persegi panjang\", \"lingkaran\"}\n",
    "\n",
    "# Jawaban Anda\n",
    "if \"xxx\" in bangun_datar:\n",
    "#     luas persegi \n",
    "    \n",
    "if \"xxxxx\" in bangun_datar:\n",
    "#     luas persegi panjang\n",
    "\n",
    "if \"xxxxxxxx\" in bangun_datar:\n",
    "#     luas lingkaran\n"
   ]
  },
  {
   "cell_type": "markdown",
   "id": "0cfc635c",
   "metadata": {},
   "source": [
    "## Buat fungsi dari kasus berikut"
   ]
  },
  {
   "cell_type": "markdown",
   "id": "f3b52d10",
   "metadata": {},
   "source": [
    "### Soal"
   ]
  },
  {
   "cell_type": "markdown",
   "id": "517dedb3",
   "metadata": {},
   "source": [
    "Temukan nilai minimum dari sebuah list\n",
    "\n",
    "deretNilai = [74, 44, 20, 51, 91, 87, 53,  3, 94, 45]\n",
    "\n",
    "Ekspektasi keluaran:\n",
    "```python\n",
    "3\n",
    "```"
   ]
  },
  {
   "cell_type": "markdown",
   "id": "ece31251",
   "metadata": {},
   "source": [
    "<div>\n",
    "<img src=\"gambar/pre3-1.png\" width=\"600\"/>\n",
    "</div>"
   ]
  },
  {
   "cell_type": "code",
   "execution_count": null,
   "id": "e293d4db",
   "metadata": {},
   "outputs": [],
   "source": [
    "def minValue(arr):\n",
    "    # tulis di sini\n",
    "    \n",
    "    return hasil\n",
    "\n",
    "    \n",
    "    \n",
    "deretNilai = [74, 44, 20, 51, 91, 87, 53,  3, 94, 45]\n",
    "print(minValue(deretNilai))"
   ]
  },
  {
   "cell_type": "markdown",
   "id": "a7fdeabf",
   "metadata": {},
   "source": [
    "### Soal"
   ]
  },
  {
   "cell_type": "markdown",
   "id": "d259410f",
   "metadata": {},
   "source": [
    "Temukan nilai maximum dari sebuah list\n",
    "\n",
    "deretNilai = [57, 34, 67, 73, 27, 38, 41, 26, 54, 50]\n",
    "\n",
    "Ekspektasi keluaran:\n",
    "```python\n",
    "73\n",
    "```"
   ]
  },
  {
   "cell_type": "markdown",
   "id": "0c806b69",
   "metadata": {},
   "source": [
    "\n",
    "<div>\n",
    "<img src=\"gambar/pre3-2.png\" width=\"600\"/>\n",
    "</div>"
   ]
  },
  {
   "cell_type": "code",
   "execution_count": null,
   "id": "1531dd8a",
   "metadata": {},
   "outputs": [],
   "source": [
    "def maxValue(arr):\n",
    "    # tulis di sini\n",
    "    \n",
    "    return hasil\n",
    "    \n",
    "    \n",
    "deretNilai = [57, 34, 67, 73, 27, 38, 41, 26, 54, 50]\n",
    "print(maxValue(deretNilai))"
   ]
  },
  {
   "cell_type": "markdown",
   "id": "5823031d",
   "metadata": {},
   "source": [
    "### Soal"
   ]
  },
  {
   "cell_type": "markdown",
   "id": "bd8dbe6a",
   "metadata": {},
   "source": [
    "Urutkan variabel list berikut\n",
    "\n",
    "deretNilai = [68, 62, 52, 81, 43, 94, 99, 83, 78, 99]\n"
   ]
  },
  {
   "cell_type": "markdown",
   "id": "8573d734",
   "metadata": {},
   "source": [
    "<div>\n",
    "<img src=\"gambar/pre3-3.png\" width=\"500\"/>\n",
    "</div>"
   ]
  },
  {
   "cell_type": "code",
   "execution_count": null,
   "id": "ba5dedab",
   "metadata": {},
   "outputs": [],
   "source": [
    "def urutNilai(arr):\n",
    "    # tulis di sini\n",
    "    \n",
    "    return arr\n",
    "    \n",
    "deretNilai = [68, 62, 52, 81, 43, 94, 99, 83, 78, 99]\n",
    "deretNilai = \n",
    "print(deretNilai)"
   ]
  },
  {
   "cell_type": "code",
   "execution_count": null,
   "id": "efd9eb75",
   "metadata": {},
   "outputs": [],
   "source": []
  }
 ],
 "metadata": {
  "kernelspec": {
   "display_name": "Python 3 (ipykernel)",
   "language": "python",
   "name": "python3"
  },
  "language_info": {
   "codemirror_mode": {
    "name": "ipython",
    "version": 3
   },
   "file_extension": ".py",
   "mimetype": "text/x-python",
   "name": "python",
   "nbconvert_exporter": "python",
   "pygments_lexer": "ipython3",
   "version": "3.9.7"
  }
 },
 "nbformat": 4,
 "nbformat_minor": 5
}
